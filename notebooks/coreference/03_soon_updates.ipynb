{
 "cells": [
  {
   "cell_type": "code",
   "execution_count": 2,
   "metadata": {
    "collapsed": false
   },
   "outputs": [
    {
     "name": "stdout",
     "output_type": "stream",
     "text": [
      "/Users/max/Projects/Coreference\n"
     ]
    }
   ],
   "source": [
    "%cd '/Users/max/Projects/Coreference/'"
   ]
  },
  {
   "cell_type": "code",
   "execution_count": 3,
   "metadata": {
    "collapsed": false
   },
   "outputs": [
    {
     "name": "stdout",
     "output_type": "stream",
     "text": [
      "/Users/max/Projects/Coreference/rucoref\n",
      "/Users/max/Projects/Coreference\n"
     ]
    }
   ],
   "source": [
    "%cd 'rucoref'\n",
    "from anaphoralib.corpora import rueval\n",
    "from anaphoralib.tagsets import multeast\n",
    "from anaphoralib.tagsets.utils import same_grammemmes\n",
    "from anaphoralib.experiments import mentionpair\n",
    "from anaphoralib.experiments import coref_utils\n",
    "from anaphoralib import utils\n",
    "from anaphoralib.experiments import utils as exp_utils\n",
    "%cd '..'\n",
    "#%load_ext autoreload\n",
    "#%autoreload 2\n",
    "\n",
    "scorer_path = 'rucoref/external/reference-coreference-scorers/scorer.pl'\n",
    "random_state = 42"
   ]
  },
  {
   "cell_type": "code",
   "execution_count": 4,
   "metadata": {
    "collapsed": true
   },
   "outputs": [],
   "source": [
    "from sklearn.svm import LinearSVC\n",
    "from sklearn.svm import SVC\n",
    "from sklearn.tree import DecisionTreeClassifier\n",
    "from sklearn.ensemble import RandomForestClassifier\n",
    "from sklearn.naive_bayes import MultinomialNB\n",
    "from sklearn.tree import export_graphviz"
   ]
  },
  {
   "cell_type": "markdown",
   "metadata": {},
   "source": [
    "Initializing:\n",
    "------------"
   ]
  },
  {
   "cell_type": "code",
   "execution_count": 5,
   "metadata": {
    "collapsed": true
   },
   "outputs": [],
   "source": [
    "rucoref_train = rueval.RuCorefCorpus(multeast, rueval)\n",
    "rucoref_test = rueval.RuCorefCorpus(multeast, rueval)"
   ]
  },
  {
   "cell_type": "code",
   "execution_count": 6,
   "metadata": {
    "collapsed": false
   },
   "outputs": [
    {
     "name": "stdout",
     "output_type": "stream",
     "text": [
      "Number of texts: 126\n",
      "Number of GS texts: 126\n",
      "Number of chains in a corpus: 2515\n",
      "Number of words in all chains: 11453\n"
     ]
    }
   ],
   "source": [
    "exp_utils.load_corpus(rucoref_train, 'Corpus-2015/Tokens.train.fixmorph.txt.parsed', 'Corpus-2015/Groups.train.txt')"
   ]
  },
  {
   "cell_type": "code",
   "execution_count": 7,
   "metadata": {
    "collapsed": false
   },
   "outputs": [
    {
     "name": "stdout",
     "output_type": "stream",
     "text": [
      "Number of texts: 55\n",
      "Number of GS texts: 55\n",
      "Number of chains in a corpus: 1123\n",
      "Number of words in all chains: 5104\n"
     ]
    }
   ],
   "source": [
    "exp_utils.load_corpus(rucoref_test, 'Corpus-2015/Tokens.test.fixmorph.txt.parsed', 'Corpus-2015/Groups.test.txt')"
   ]
  },
  {
   "cell_type": "code",
   "execution_count": 8,
   "metadata": {
    "collapsed": true
   },
   "outputs": [],
   "source": [
    "group_ok = lambda g: g.tag.startswith('N') or (g.tag.startswith('P') and g.lemma[0] in multeast.coref_pronouns)"
   ]
  },
  {
   "cell_type": "code",
   "execution_count": 9,
   "metadata": {
    "collapsed": true
   },
   "outputs": [],
   "source": [
    "gs_mentions, gs_group_ids = coref_utils.get_gs_groups(rucoref_test)\n",
    "gs_groups = gs_mentions\n",
    "\n",
    "pred_mentions, pred_group_ids = coref_utils.get_pred_groups(rucoref_test, group_ok)\n",
    "pred_groups = rucoref_test.groups\n",
    "\n",
    "pred_mentions_gold_bound, pred_gold_bounds_ids = coref_utils.get_pred_groups_gold_boundaries(rucoref_test, group_ok)\n",
    "pred_groups_gold_bound = rucoref_test.groups"
   ]
  },
  {
   "cell_type": "code",
   "execution_count": 10,
   "metadata": {
    "collapsed": true
   },
   "outputs": [],
   "source": [
    "gs_mentions_train, gs_group_ids_train = coref_utils.get_gs_groups(rucoref_train)\n",
    "gs_groups_train = gs_mentions_train\n",
    "\n",
    "pred_mentions_train, pred_group_ids_train = coref_utils.get_pred_groups(rucoref_train, group_ok)\n",
    "pred_groups_train = rucoref_train.groups\n",
    "\n",
    "pred_mentions_gold_bound_train, pred_gold_bounds_ids = coref_utils.get_pred_groups_gold_boundaries(rucoref_train, group_ok)\n",
    "pred_groups_gold_bound_train = rucoref_train.groups"
   ]
  },
  {
   "cell_type": "markdown",
   "metadata": {},
   "source": [
    "Defining the classifier:\n",
    "------------------------"
   ]
  },
  {
   "cell_type": "code",
   "execution_count": 11,
   "metadata": {
    "collapsed": false
   },
   "outputs": [],
   "source": [
    "class MLMentionPairClassifier(mentionpair.MentionPairClassifier):\n",
    "    NEEDS_TRAINING = True\n",
    "    def __init__(self, scorer_path=None):\n",
    "        self.scorer_path = scorer_path\n",
    "    \n",
    "    def train(self, clf, corpus, mentions):\n",
    "        self.data_x = []\n",
    "        self.data_y = []\n",
    "        self.appositives = []\n",
    "        \n",
    "        self.tagset = corpus.tagset\n",
    "        \n",
    "        for i, text in enumerate(corpus.texts):\n",
    "            all_mentions = utils.find_mentions(corpus.groups[i], corpus.tagset)\n",
    "            gs = corpus.gs[i]\n",
    "            words_index = corpus.words_index[i]\n",
    "\n",
    "            \n",
    "            for chain_id in gs['chains']:\n",
    "                chain = gs['chains'][chain_id]\n",
    "                for pair in ((chain[i], chain[i+1]) for i in range(len(chain)-1)):\n",
    "                    text_groups = []\n",
    "                    for pair_elem in pair:\n",
    "                        gs_group = gs['groups'][pair_elem]\n",
    "                        \n",
    "                        words = [text[words_index[shift]] for shift in gs_group['tokens_shifts']]\n",
    "                        head = text[words_index[gs_group['head_shift'][0]]]\n",
    "                        text_groups.append(coref_utils.create_gs_group(gs_group, words, head))\n",
    "                    \n",
    "                    self.data_x.append(self.get_feature_vector(corpus.texts[i], corpus.parses[i] if corpus.parses else None, *text_groups))\n",
    "                    self.data_y.append(True)\n",
    "                    \n",
    "                    neg_first = None\n",
    "                    neg_last = None\n",
    "\n",
    "                    for i_mention, mention in enumerate(all_mentions):\n",
    "                        if mention.offset == text_groups[0].offset:\n",
    "                            neg_first = i_mention\n",
    "                        if mention.offset == text_groups[1].offset:\n",
    "                            neg_last = i_mention\n",
    "                        if neg_first and neg_last:\n",
    "                            break\n",
    "                    \n",
    "                    if not neg_first or not neg_last:\n",
    "                        continue\n",
    "                        \n",
    "                    neg_text_groups = all_mentions[neg_first+1:neg_last]\n",
    "                    #for neg_pair in ((neg_text_groups[i], neg_text_groups[i+1]) for i in range(len(neg_text_groups)-1)):\n",
    "                    #    self.data_x.append(self.get_feature_vector(corpus.texts[i], *neg_pair))\n",
    "                    #    self.data_y.append(False)\n",
    "                    for neg_group in neg_text_groups:\n",
    "                        self.data_x.append(self.get_feature_vector(corpus.texts[i], corpus.parses[i] if corpus.parses else None, neg_group, text_groups[1]))\n",
    "                        self.data_y.append(False)\n",
    "        \n",
    "        self.clf = clf\n",
    "        self.clf.fit(self.data_x, self.data_y)\n",
    "    \n",
    "    def pair_coreferent(self, pair, groups, words, parse):\n",
    "        vctr = self.get_feature_vector(words, parse, *pair)\n",
    "        return self.clf.predict([vctr])[0]\n",
    "    \n",
    "    def get_feature_vector(self, words, parse, group_1, group_2):\n",
    "        # group_1 — possible antecedent\n",
    "        # group_2 — anaphor\n",
    "        \n",
    "        vctr = []\n",
    "        feat_names = []\n",
    "        \n",
    "        self.feat_names = feat_names\n",
    "        return vctr"
   ]
  },
  {
   "cell_type": "code",
   "execution_count": 83,
   "metadata": {
    "collapsed": false
   },
   "outputs": [],
   "source": [
    "import re\n",
    "\n",
    "class MLMentionPairMoreFeatures(MLMentionPairClassifier):\n",
    "    NEEDS_TRAINING = True\n",
    "    \n",
    "    def __init__(self, scorer_path, feat_zones=None):\n",
    "        create_pro_rx = lambda strings: re.compile(ur'(^|\\b){}\\b'.format(u'|'.join(strings)))\n",
    "        self.scorer_path = scorer_path\n",
    "        self.feat_zones = feat_zones if feat_zones else tuple()\n",
    "        self.modif = set()\n",
    "        self.relatives = []\n",
    "        self.deictic_pronouns = []\n",
    "        self.str_match = []\n",
    "        self.modif_pairs = []\n",
    "        self.abbrs = []\n",
    "        self.synt_roles = []\n",
    "        self.rx_lat = re.compile('[A-Za-z]')\n",
    "        self.rx_endings = re.compile(u'(?<=[А-ЯЁа-яё])(а|ы|ой|е)(?= |$)')\n",
    "        \n",
    "        self.rx_pro_deictic = create_pro_rx((u'я', u'ты', u'мы', u'вы'))\n",
    "        self.rx_pro_personal = create_pro_rx((u'мой', u'твой', u'наш', u'ваш'))\n",
    "        self.rx_pro_reflexive = create_pro_rx((u\"свое\", \n",
    "                                               u\"своё\", u\"своего\", u\"своей\", u\"своем\", u\"своём\", u\"своему\", u\"своею\", u\"свой\", u\"свои\", \n",
    "                                               u\"своим\", u\"своими\", u\"своих\", u\"свою\", u\"своя\", u\"себе\", u\"себя\", u\"собой\", u\"собою\"))\n",
    "        self.rx_pro_possessive = create_pro_rx((u\"его\", u\"ее\", u\"её\", u\"ей\", u\"ему\", u\"ею\", u\"им\", u\"ими\", u\"их\"))\n",
    "    \n",
    "    def get_feature_vector(self, words, parse, group_1, group_2):\n",
    "        # group_1 — possible antecedent\n",
    "        # group_2 — anaphor\n",
    "        \n",
    "        head_1 = group_1.words[group_1.head] if group_1.type != 'word' else group_1\n",
    "        head_2 = group_2.words[group_2.head] if group_2.type != 'word' else group_2\n",
    "        \n",
    "        is_appo = False\n",
    "        \n",
    "        is_pronoun = lambda w: len(w.lemma) == 1 and w.lemma[0] in self.tagset.coref_pronouns\n",
    "        is_deictic_pronoun = lambda w: is_pronoun and self.tagset.extract_feature('person', w) in ('1', '2')\n",
    "        \n",
    "        is_proper = lambda w: self.tagset.extract_feature('proper', w) == 'p'\n",
    "        \n",
    "        group_1_proper = is_proper(group_1)\n",
    "        group_2_proper = is_proper(group_2)\n",
    "        \n",
    "        is_pronoun_1 = is_pronoun(group_1)\n",
    "        is_pronoun_2 = is_pronoun(group_2)\n",
    "        \n",
    "        number_agrees = lambda p: same_grammemmes('number', p, self.tagset)\n",
    "        gender_agrees = lambda p: same_grammemmes('gender', p, self.tagset)\n",
    "        animacity_agrees = lambda p: same_grammemmes('animate', p, self.tagset)\n",
    "        \n",
    "        person_1 = self.tagset.extract_feature('person', group_1)\n",
    "        person_2 = self.tagset.extract_feature('person', group_2)\n",
    "        \n",
    "        pronoun_persons = {u'мой': '1', u'наш': '1', u'я': '1', u'мы': '1', u'твой': 2, u'ваш': '2', u'ты': '2', u'вы': '2'}\n",
    "        \n",
    "        is_demonstrative = lambda w: [tag.startswith('Pd') or w.lemma[i] == u'этот' for i, tag in enumerate(w.tags)]\n",
    "        demonstr_1 = is_demonstrative(group_1) if len(group_1.lemma) > 1 else [0]\n",
    "        demonstr_2 = is_demonstrative(group_2) if len(group_2.lemma) > 1 else [0]\n",
    "        \n",
    "        filtered_lemmas_1 = [lemma for (i, lemma) in enumerate(group_1.lemma) if not demonstr_1[i]]\n",
    "        filtered_lemmas_2 = [lemma for (i, lemma) in enumerate(group_2.lemma) if not demonstr_2[i]]\n",
    "        \n",
    "        filtered_lemma_1 = ' '.join(filtered_lemmas_1)\n",
    "        filtered_lemma_2 = ' '.join(filtered_lemmas_2)\n",
    "        \n",
    "        filtered_wforms_1 = [wf for (i, wf) in enumerate(group_1.wordform) if not demonstr_1[i]]\n",
    "        filtered_wforms_2 = [wf for (i, wf) in enumerate(group_2.wordform) if not demonstr_2[i]]\n",
    "        \n",
    "        filtered_wf_1 = ' '.join(filtered_wforms_1)\n",
    "        filtered_wf_2 = ' '.join(filtered_wforms_2)\n",
    "        \n",
    "        modifiers_1 = [group_1.lemma[i] for i in range(len(group_1.tags)) if i != group_1.head and group_1.tags[i][0] == 'N' \n",
    "                       and len(lemma) > 1 \n",
    "                       and self.tagset.extract_feature('case', group_1) == self.tagset.extract_feature('case', group_1.words[i])\n",
    "                       and self.tagset.extract_feature('case', group_1.words[i]) != 'g'\n",
    "                      ]\n",
    "        modifiers_2 = [group_2.lemma[i] for i in range(len(group_2.tags)) if i != group_2.head and group_2.tags[i][0] == 'N'\n",
    "                       and self.tagset.extract_feature('case', group_2) == self.tagset.extract_feature('case', group_2.words[i])\n",
    "                       and self.tagset.extract_feature('case', group_2.words[i]) != 'g'\n",
    "                      ]\n",
    "        \n",
    "        if filtered_lemma_1 in pronoun_persons:\n",
    "            person_1 = pronoun_persons[filtered_lemma_1]\n",
    "        if filtered_lemma_2 in pronoun_persons:\n",
    "            person_2 = pronoun_persons[filtered_lemma_2]\n",
    "        \n",
    "        person_agr = person_1 == person_2 if person_1 in {'1','2'} or person_2 in {'1', '2'} else -1\n",
    "        \n",
    "        n_sentences = -1\n",
    "        \n",
    "        self.modif.update(modifiers_1)\n",
    "        self.modif.update(modifiers_2)\n",
    "        \n",
    "        j = i = 0\n",
    "        if not head_1 in words or not head_2 in words:\n",
    "            n_sentences = -1\n",
    "            n_nouns = -1\n",
    "            dist_words = -1\n",
    "            print 'no alignment found'\n",
    "        else:\n",
    "            i = words.index(head_1)\n",
    "            j = words.index(head_2)\n",
    "            \n",
    "            gr1_end = i + len(group_1.lemma) - group_1.head - 1\n",
    "            gr2_start = j - group_2.head\n",
    "            \n",
    "            between_groups = words[gr1_end+1:gr2_start]\n",
    "            n_sentences = sum(1 for gr in between_groups if gr.tag == 'SENT')\n",
    "            n_nouns = sum(1 for gr in between_groups if gr.tag.startswith('N'))\n",
    "            dist_words = j - i\n",
    "            \n",
    "            if gr2_start - gr1_end == 2 and words[gr1_end+1].tag.startswith(',') \\\n",
    "                and same_grammemmes('case', (group_1, group_2), self.tagset) \\\n",
    "                and same_grammemmes('number', (group_1, group_2), self.tagset) \\\n",
    "                and same_grammemmes('gender', (group_1, group_2), self.tagset) \\\n",
    "                and group_1.tag.startswith('N') and group_2.tag.startswith('N'):\n",
    "                is_appo = True\n",
    "                self.appositives.append((group_1, group_2, i, j))\n",
    "                \n",
    "            # Capital letter heuristic\n",
    "            #if i > 0:\n",
    "            #    group_1_proper |= any(w[0].isupper() for w in group_1.wordform) and words[i-1].tag != 'SENT'\n",
    "            #if j > 0:\n",
    "            #    group_2_proper |= any(w[0].isupper() for w in group_2.wordform) and words[j-1].tag != 'SENT'\n",
    "                \n",
    "        # Endings heuristic\n",
    "        #if group_1_proper and group_2_proper:\n",
    "        #    str_match = self.rx_endings.sub(u'', filtered_lemma_1) == self.rx_endings.sub(u'', filtered_lemma_2)\n",
    "        #else:\n",
    "        #    str_match = filtered_lemma_1 == filtered_lemma_2\n",
    "        # No endings heuristic:\n",
    "        str_match = filtered_lemma_1 == filtered_lemma_2\n",
    "        \n",
    "        vctr = []\n",
    "        self.feat_names = []\n",
    "        \n",
    "        if 'soon' in self.feat_zones:\n",
    "            if not 'dist' in self.feat_zones:\n",
    "                vctr.append(n_sentences == 1)\n",
    "                self.feat_names.append('dist==1')\n",
    "\n",
    "            vctr.append(not is_pronoun_1 and not is_pronoun_2 and str_match)\n",
    "            self.feat_names.append('str_match')\n",
    "\n",
    "            is_animate_1 = self.tagset.extract_feature('animate', group_1) in ('y', 'a')\n",
    "            is_animate_2 = self.tagset.extract_feature('animate', group_2) in ('y', 'a')\n",
    "            sem_class_agreement = (is_animate_1 and is_animate_2) or (not is_animate_1 and not is_animate_2)\n",
    "            # Semantic similarity heuristic (head match)\n",
    "            if not is_pronoun_1:\n",
    "                sem_class_agreement &= group_1.lemma[group_1.head] == group_2.lemma[group_2.head]\n",
    "\n",
    "            vctr.append(sem_class_agreement)\n",
    "            self.feat_names.append('sem_class_agreement')\n",
    "            \n",
    "            if not 'morpho' in self.feat_zones:\n",
    "                vctr.append(is_pronoun_1)\n",
    "                vctr.append(is_pronoun_2)\n",
    "                self.feat_names.extend(('i_pronoun', 'j_pronoun'))\n",
    "\n",
    "                vctr.append(is_pronoun_1 and is_pronoun_2)\n",
    "                self.feat_names.append('both_pronouns')\n",
    "\n",
    "            vctr.append(number_agrees((group_1, group_2)))\n",
    "            vctr.append(gender_agrees((group_1, group_2)))\n",
    "            self.feat_names.extend(('number-agr', 'gender-agr'))\n",
    "\n",
    "            vctr.append(group_1_proper and group_2_proper)\n",
    "            self.feat_names.append('both-proper')\n",
    "            vctr.append(any(demonstr_2[:group_2.head+1]))\n",
    "            self.feat_names.append('anaphor-is-demonstrative')\n",
    "\n",
    "            vctr.append(is_appo)\n",
    "            self.feat_names.append('appositive')\n",
    "        \n",
    "        if 'morpho' in self.feat_zones:\n",
    "            #vctr.append(is_pronoun_1)\n",
    "            #vctr.append(is_pronoun_2)\n",
    "            #self.feat_names.extend(('i_pronoun', 'j_pronoun'))\n",
    "\n",
    "            #vctr.append(is_pronoun_1 and is_pronoun_2)\n",
    "            #self.feat_names.append('both_pronouns')\n",
    "            \n",
    "            vctr.append(self.rx_pro_deictic.search(filtered_lemma_2) is not None if is_pronoun_2 else -1)\n",
    "            vctr.append(self.rx_pro_deictic.search(filtered_lemma_1) is not None if is_pronoun_1 else -1)\n",
    "            self.feat_names.extend(('deictic_pronouns2', 'deictic_pronouns1'))\n",
    "            \n",
    "            #if vctr[-1] == True and vctr[-2] == True and filtered_lemma_1 == filtered_lemma_2:\n",
    "            #    self.deictic_pronouns.append((filtered_lemma_1, filtered_lemma_2))\n",
    "            #vctr.append(vctr[-1] == True and vctr[-2] == True and filtered_lemma_1 == filtered_lemma_2)\n",
    "            #self.feat_names.append('same_deictic_pronouns')\n",
    "            \n",
    "            vctr.append(self.rx_pro_personal.search(filtered_lemma_2) is not None if is_pronoun_2 else -1)\n",
    "            vctr.append(self.rx_pro_personal.search(filtered_lemma_1) is not None if is_pronoun_1 else -1)\n",
    "            \n",
    "            self.feat_names.append('pers_poss_pronouns2')\n",
    "            self.feat_names.append('pers_poss_pronouns1')\n",
    "            \n",
    "            #vctr.append(person_agr)\n",
    "            #vctr.append(((vctr[-1] == True and vctr[-3] == True) or (vctr[-2] == True and vctr[-4] == True)) and person_agr)\n",
    "            #self.feat_names.append('person_agr')\n",
    "            \n",
    "            vctr.append((filtered_lemma_2 in (u'который',) \n",
    "                        and (words[j-1].tag[0] == ',' or words[j-2].tag[0] == ',') \n",
    "                        and dist_words < 4) if is_pronoun_1 else -1)\n",
    "            if is_pronoun_2 and filtered_lemma_2 in (u'который',):\n",
    "                self.relatives.append((filtered_lemma_1, filtered_lemma_2, words[j-1], dist_words))\n",
    "            vctr.append(filtered_lemma_1 in (u'который',) if is_pronoun_2 else -1)\n",
    "            self.feat_names.append('rel_pronouns1')\n",
    "            self.feat_names.append('rel_pronouns2')\n",
    "            \n",
    "            vctr.append(self.rx_pro_reflexive.search(filtered_lemma_2) is not None if is_pronoun_2 else -1)\n",
    "            vctr.append(self.rx_pro_reflexive.search(filtered_lemma_1) is not None if is_pronoun_1 else -1)\n",
    "            self.feat_names.append('refl_pronouns2')\n",
    "            self.feat_names.append('refl_pronouns1')\n",
    "            \n",
    "            vctr.append(self.rx_pro_possessive.search(filtered_lemma_2) is not None if is_pronoun_2 else -1)\n",
    "            vctr.append(self.rx_pro_possessive.search(filtered_lemma_1) is not None if is_pronoun_1 else -1)\n",
    "            self.feat_names.append('poss_pronouns2')\n",
    "            self.feat_names.append('poss_pronouns1')\n",
    "            \n",
    "            #vctr.append(not is_pronoun_1 and not is_pronoun_2 \n",
    "            #            and (filtered_lemma_1.startswith(filtered_lemma_2)\n",
    "            #            or filtered_lemma_2.startswith(filtered_lemma_1)))\n",
    "            #self.feat_names.append('substring')\n",
    "        \n",
    "        if 'dist' in self.feat_zones:\n",
    "            vctr.append(n_sentences == 1)\n",
    "            self.feat_names.append('dist==1')\n",
    "            vctr.append(n_sentences > 2)\n",
    "            self.feat_names.append('dist>2')\n",
    "            vctr.append(n_nouns > 3)\n",
    "            self.feat_names.append('nouns>3')\n",
    "            \n",
    "        if 'lexical' in self.feat_zones:\n",
    "            vctr.append(not is_pronoun_1 and not is_pronoun_2 \n",
    "                        and ((len(modifiers_1) and filtered_lemma_2 in modifiers_1)) or ((len(modifiers_2) and filtered_lemma_1 in modifiers_2)))\n",
    "            #vctr.append(not is_pronoun_1 and not is_pronoun_2 and len(modifiers_1) and filtered_lemma_2 in modifiers_1)\n",
    "            self.feat_names.append('modif-fullNP')\n",
    "            if vctr[-1] == True:\n",
    "                self.modif_pairs.append(('1', ' '.join(modifiers_1), head_1, head_2, '+'.join(group_1.lemma), '+'.join(group_2.lemma)))\n",
    "                self.modif_pairs.append(('2', ' '.join(modifiers_2), head_1, head_2, '+'.join(group_1.lemma), '+'.join(group_2.lemma)))\n",
    "            \n",
    "            is_abbr = (len(filtered_lemmas_1) > 1 or len(filtered_lemmas_2) > 1) and \\\n",
    "                        (''.join([w[0] for w in filtered_lemmas_1]) == filtered_lemma_2 or \\\n",
    "                         ''.join([w[0] for w in filtered_lemmas_2]) == filtered_lemma_1)\n",
    "            vctr.append(not is_pronoun_1 and not is_pronoun_2 and is_abbr)\n",
    "            if is_abbr:\n",
    "                self.abbrs.append((filtered_lemma_1, filtered_lemma_2))\n",
    "            self.feat_names.append('is_abbr')\n",
    "        \n",
    "        if 'synt' in self.feat_zones:\n",
    "            if parse:\n",
    "                synt_roles = []\n",
    "                for group, word_ind in ((group_1, i), (group_2, j)):\n",
    "                    #word_offset = group.words[group.head].offset if len(group.wordform) > 1 else group.offset\n",
    "                    synt_roles.append(parse[word_ind][1])\n",
    "                \n",
    "                is_subj_1 = synt_roles[0] == u'предик'\n",
    "                is_subj_2 = synt_roles[1] == u'предик'\n",
    "                is_obj_1 = synt_roles[0] in (u'1-компл', u'2-компл', u'предл')\n",
    "                is_obj_2 = synt_roles[1] in (u'1-компл', u'2-компл', u'предл')\n",
    "                \n",
    "                vctr.append(is_subj_1 and is_obj_2 and n_sentences == 0)\n",
    "                self.feat_names.append('subj_and_obj')\n",
    "                \n",
    "                #self.synt_roles.append((group_1, synt_roles[0], group_2, synt_roles[1]))\n",
    "            else:\n",
    "                is_subj_1 = self.tagset.extract_feature('case', group_1) == 'n' and words[i-1].tag == 'SENT'\n",
    "                is_subj_2 = self.tagset.extract_feature('case', group_2) == 'n' and words[j-1].tag == 'SENT'\n",
    "            \n",
    "            #vctr.append(is_subj_1)\n",
    "            #vctr.append(is_subj_2)\n",
    "            #self.feat_names.append('subj1')\n",
    "            #self.feat_names.append('subj2')\n",
    "            \n",
    "            vctr.append(words[i-1].tag == 'SENT')\n",
    "            vctr.append(words[j-1].tag == 'SENT')\n",
    "            self.feat_names.append('sent_start_1')\n",
    "            self.feat_names.append('sent_start_2')\n",
    "            \n",
    "            vctr.append(is_subj_1 == is_subj_2 and not is_pronoun_1 and is_pronoun_2 \n",
    "                        and self.tagset.extract_feature('person', group_2) == '3')\n",
    "            self.feat_names.append('subj_parallel')\n",
    "            #self.feat_names.append('both_subj')\n",
    "            #vctr.append(is_appo)\n",
    "            #self.feat_names.append('appo')\n",
    "        \n",
    "        return vctr"
   ]
  },
  {
   "cell_type": "markdown",
   "metadata": {},
   "source": [
    "Testing\n",
    "-------"
   ]
  },
  {
   "cell_type": "markdown",
   "metadata": {},
   "source": [
    "### Soon features only"
   ]
  },
  {
   "cell_type": "markdown",
   "metadata": {},
   "source": [
    "Soon features with all the heuristics, gold mentions (fixed morphology):"
   ]
  },
  {
   "cell_type": "code",
   "execution_count": 197,
   "metadata": {
    "collapsed": false
   },
   "outputs": [
    {
     "name": "stdout",
     "output_type": "stream",
     "text": [
      "\\textsc{MLMentionPairMoreFeatures} &  $100.00$  & $74.50$ & $59.73$ & $66.30$  & $76.20$ & $46.54$ & $57.79$  & $52.25$ \\\\\n",
      "\\textsc{MLMentionPairMoreFeatures} &  $100.00$  & $74.52$ & $54.20$ & $62.75$  & $75.56$ & $44.46$ & $55.98$  & $49.18$ \\\\\n"
     ]
    }
   ],
   "source": [
    "# both 'Endings' and 'Capital letter' heuristics should be uncommented (see the classifier code)\n",
    "clf = MLMentionPairMoreFeatures(scorer_path, feat_zones=('soon',))\n",
    "clf.train(DecisionTreeClassifier(random_state=42), rucoref_train, gs_mentions_train)\n",
    "coref_utils.get_score_table(clf, rucoref_test, gs_mentions, gs_groups, False)\n",
    "\n",
    "clf = MLMentionPairMoreFeatures(scorer_path, feat_zones=('soon',))\n",
    "clf.train(LinearSVC(random_state=42), rucoref_train, gs_mentions_train)\n",
    "coref_utils.get_score_table(clf, rucoref_test, gs_mentions, gs_groups, False)"
   ]
  },
  {
   "cell_type": "markdown",
   "metadata": {},
   "source": [
    "Soon features without first-capital-letter as a proper noun heuristic. Fixed morphology makes it _nearly_ just the same:"
   ]
  },
  {
   "cell_type": "code",
   "execution_count": 199,
   "metadata": {
    "collapsed": false
   },
   "outputs": [
    {
     "name": "stdout",
     "output_type": "stream",
     "text": [
      "\\textsc{MLMentionPairMoreFeatures} &  $100.00$  & $73.71$ & $58.11$ & $64.99$  & $76.10$ & $45.83$ & $57.21$  & $51.32$ \\\\\n"
     ]
    }
   ],
   "source": [
    "# 'Endings' heuristic should be uncommented, 'Capital letter' heuristic should be commented\n",
    "clf = MLMentionPairMoreFeatures(scorer_path, feat_zones=('soon',))\n",
    "clf.train(DecisionTreeClassifier(random_state=42), rucoref_train, gs_mentions_train)\n",
    "coref_utils.get_score_table(clf, rucoref_test, gs_mentions, gs_groups, False)"
   ]
  },
  {
   "cell_type": "markdown",
   "metadata": {},
   "source": [
    "Soon features without endings heuristic. Again, fixed morphology makes it _really_ _nearly_ the same (and in fact better than with one heuristic enabled):"
   ]
  },
  {
   "cell_type": "code",
   "execution_count": 201,
   "metadata": {
    "collapsed": false
   },
   "outputs": [
    {
     "name": "stdout",
     "output_type": "stream",
     "text": [
      "\\textsc{MLMentionPairMoreFeatures} &  $100.00$  & $73.99$ & $59.38$ & $65.88$  & $75.91$ & $46.44$ & $57.62$  & $51.91$ \\\\\n"
     ]
    }
   ],
   "source": [
    "# both 'Endings' and 'Capital letter' heuristics should be commented\n",
    "clf = MLMentionPairMoreFeatures(scorer_path, feat_zones=('soon',))\n",
    "clf.train(DecisionTreeClassifier(random_state=42), rucoref_train, gs_mentions_train)\n",
    "coref_utils.get_score_table(clf, rucoref_test, gs_mentions, gs_groups, False)"
   ]
  },
  {
   "cell_type": "markdown",
   "metadata": {},
   "source": [
    "At the same time, turning off head match as a semantic similarity heuristic reduces quality drastically:"
   ]
  },
  {
   "cell_type": "code",
   "execution_count": 203,
   "metadata": {
    "collapsed": false
   },
   "outputs": [
    {
     "name": "stdout",
     "output_type": "stream",
     "text": [
      "\\textsc{MLMentionPairMoreFeatures} &  $100.00$  & $73.96$ & $50.49$ & $60.01$  & $79.99$ & $41.01$ & $54.22$  & $47.49$ \\\\\n"
     ]
    }
   ],
   "source": [
    "# 'Head match' heuristic should be commented\n",
    "clf = MLMentionPairMoreFeatures(scorer_path, feat_zones=('soon',))\n",
    "clf.train(DecisionTreeClassifier(random_state=42), rucoref_train, gs_mentions_train)\n",
    "coref_utils.get_score_table(clf, rucoref_test, gs_mentions, gs_groups, False)"
   ]
  },
  {
   "cell_type": "markdown",
   "metadata": {},
   "source": [
    "Soon features with the head match match as a semantic similarity heuristics, gold, gold boundaries and predicted mentions:"
   ]
  },
  {
   "cell_type": "code",
   "execution_count": 205,
   "metadata": {
    "collapsed": false
   },
   "outputs": [
    {
     "name": "stdout",
     "output_type": "stream",
     "text": [
      "\\textsc{MLMentionPairMoreFeatures} &  $100.00$  & $73.99$ & $59.38$ & $65.88$  & $75.91$ & $46.44$ & $57.62$  & $51.91$ \\\\\n",
      "\\textsc{MLMentionPairMoreFeatures} &  $51.19$  & $38.41$ & $52.88$ & $44.49$  & $23.71$ & $41.52$ & $30.18$  & $26.76$ \\\\\n",
      "\\textsc{MLMentionPairMoreFeatures} &  $37.67$  & $27.80$ & $38.96$ & $32.45$  & $15.74$ & $29.75$ & $20.59$  & $20.25$ \\\\\n"
     ]
    }
   ],
   "source": [
    "clf = MLMentionPairMoreFeatures(scorer_path, feat_zones=('soon',))\n",
    "clf.train(DecisionTreeClassifier(random_state=42), rucoref_train, gs_mentions_train)\n",
    "coref_utils.get_score_table(clf, rucoref_test, gs_mentions, gs_groups, False)\n",
    "\n",
    "clf = MLMentionPairMoreFeatures(scorer_path, feat_zones=('soon',))\n",
    "clf.train(DecisionTreeClassifier(random_state=42), rucoref_train, pred_mentions_gold_bound_train)\n",
    "coref_utils.get_score_table(clf, rucoref_test, pred_mentions_gold_bound, pred_groups_gold_bound, False)\n",
    "\n",
    "clf = MLMentionPairMoreFeatures(scorer_path, feat_zones=('soon',))\n",
    "clf.train(DecisionTreeClassifier(random_state=42), rucoref_train, pred_mentions_train)\n",
    "coref_utils.get_score_table(clf, rucoref_test, pred_mentions, pred_groups, False)"
   ]
  },
  {
   "cell_type": "markdown",
   "metadata": {},
   "source": [
    "Predicted mentions with heads-only evaluation works nearly as gold boundary mentions. The reason for this is that NP extraction using syntax finds nearly all the noun phrases, including the embedded ones.\n",
    "On the other hand, 10% difference between mention detection f-measures means that the parses are far from perfect"
   ]
  },
  {
   "cell_type": "code",
   "execution_count": 208,
   "metadata": {
    "collapsed": false
   },
   "outputs": [
    {
     "name": "stdout",
     "output_type": "stream",
     "text": [
      "\\textsc{MLMentionPairMoreFeatures} &  $46.91$  & $36.22$ & $51.00$ & $42.36$  & $21.91$ & $40.48$ & $28.43$  & $24.77$ \\\\\n"
     ]
    }
   ],
   "source": [
    "clf = MLMentionPairMoreFeatures(scorer_path, feat_zones=('soon',))\n",
    "clf.train(DecisionTreeClassifier(random_state=42), rucoref_train, pred_mentions_train)\n",
    "coref_utils.get_score_table(clf, rucoref_test, pred_mentions, pred_groups, True)"
   ]
  },
  {
   "cell_type": "markdown",
   "metadata": {},
   "source": [
    "Optimizing the decision tree a little:"
   ]
  },
  {
   "cell_type": "code",
   "execution_count": 13,
   "metadata": {
    "collapsed": true
   },
   "outputs": [],
   "source": [
    "def create_clf(min_samples_leaf=0.005):\n",
    "    return DecisionTreeClassifier(random_state=random_state, min_samples_leaf=min_samples_leaf)"
   ]
  },
  {
   "cell_type": "code",
   "execution_count": 207,
   "metadata": {
    "collapsed": false
   },
   "outputs": [
    {
     "name": "stdout",
     "output_type": "stream",
     "text": [
      "\\textsc{MLMentionPairMoreFeatures} &  $100.00$  & $73.98$ & $62.24$ & $67.61$  & $71.40$ & $49.34$ & $58.36$  & $52.41$ \\\\\n"
     ]
    }
   ],
   "source": [
    "clf = MLMentionPairMoreFeatures(scorer_path, feat_zones=('soon',))\n",
    "clf.train(create_clf(), rucoref_train, gs_mentions_train)\n",
    "coref_utils.get_score_table(clf, rucoref_test, gs_mentions, gs_groups, False)"
   ]
  },
  {
   "cell_type": "code",
   "execution_count": 92,
   "metadata": {
    "collapsed": false
   },
   "outputs": [
    {
     "name": "stdout",
     "output_type": "stream",
     "text": [
      "\\textsc{MLMentionPairMoreFeatures} &  $51.21$  & $38.58$ & $51.86$ & $44.24$  & $24.02$ & $41.00$ & $30.29$  & $26.28$ \\\\\n"
     ]
    }
   ],
   "source": [
    "clf = MLMentionPairMoreFeatures(scorer_path, feat_zones=('soon',))\n",
    "clf.train(DecisionTreeClassifier(random_state=42), rucoref_train, pred_mentions_gold_bound_train)\n",
    "coref_utils.get_score_table(clf, rucoref_test, pred_mentions_gold_bound, pred_groups_gold_bound, False)"
   ]
  },
  {
   "cell_type": "markdown",
   "metadata": {},
   "source": [
    "Analyzing the results:"
   ]
  },
  {
   "cell_type": "code",
   "execution_count": 209,
   "metadata": {
    "collapsed": false
   },
   "outputs": [
    {
     "name": "stdout",
     "output_type": "stream",
     "text": [
      "\\textsc{MLMentionPairMoreFeatures} &  $100.00$  & $73.98$ & $62.24$ & $67.61$  & $71.40$ & $49.34$ & $58.36$  & $52.41$ \\\\\n",
      "-- SYS --\n",
      "Мальчик:мальчик(Ncmsny, 17)\n",
      "мальчика:мальчик(Ncmsgy, 386)\n",
      "Мальчик:мальчик(Ncmsny, 843)\n",
      "мальчик:мальчик(Ncmsny, 1089)\n",
      "мальчик:мальчик(Ncmsny, 1327)\n",
      "Мальчик:мальчик(Ncmsny, 2122)\n",
      "Мальчик:мальчик(Ncmsny, 2330)\n",
      "Мальчик:мальчик(Ncmsny, 2508)\n",
      "Мальчик:мальчик(Ncmsny, 2616)\n",
      "мальчика:мальчик(Ncmsgy, 2967)\n",
      "Мальчика:мальчик(Ncmsay, 3192)\n",
      "Мальчик:мальчик(Ncmsny, 3348)\n",
      "Мальчик:мальчик(Ncmsny, 3495)\n",
      "Мальчик:мальчик(Ncmsny, 4217)\n",
      "мальчик:мальчик(Ncmsny, 4539)\n",
      "\n",
      "он:он(P-3msnn, 58)\n",
      "Она:она(P-3fsnn, 526)\n",
      "которая:который(P--fsna, 1040)\n",
      "Она:она(P-3fsnn, 1654)\n",
      "своего:свой(P--msga, 1692)\n",
      "Его:его(P-3msan, 1718)\n",
      "Он:он(P-3msnn, 2160)\n",
      "свою:свой(P--fsaa, 2186)\n",
      "которую:который(P--fsaa, 2199)\n",
      "его:его(P-3msan, 2296)\n",
      "они:они(P-3-pnn, 2565)\n",
      "ними:они(P-3-pin, 2696)\n",
      "Он:он(P-3msnn, 2702)\n",
      "их:они(P-3-pan, 2705)\n",
      "нему:он(P-3msdn, 2761)\n",
      "его:он(P-3msan, 2840)\n",
      "ним:он(P-3msin, 3241)\n",
      "Он:он(P-3msnn, 3283)\n",
      "себя:себя(P----an, 3296)\n",
      "Они:они(P-3-pnn, 3384)\n",
      "Они:они(P-3-pnn, 3412)\n",
      "него:он(P-3msgn, 3427)\n",
      "он:он(P-3msnn, 3564)\n",
      "он:он(P-3msnn, 3770)\n",
      "Мне:я(P-1-sdn, 3807)\n",
      "Ему:он(P-3msdn, 3860)\n",
      "Я:я(P-1-snn, 4238)\n",
      "мне:я(P-1-sdn, 4261)\n",
      "Я:я(P-1-snn, 4280)\n",
      "Его:его(P--msga, 4584)\n",
      "\n",
      "новую хорошую школу:новый хороший школа(Ncfsan, 323)\n",
      "этой школы:этот школа(Ncfsgn, 570)\n",
      "новую школу с гуманитарным уклоном:новый школа с гуманитарный уклон(Ncfsan, 801)\n",
      "музыкальную школу:музыкальный школа(Ncfsan, 872)\n",
      "новую школу:новый школа(Ncfsan, 2411)\n",
      "музыкальной школы:музыкальный школа(Ncfsgn, 3636)\n",
      "музыкальной школы:музыкальный школа(Ncfsgn, 3993)\n",
      "школу:школа(Ncfsan, 4475)\n",
      "\n",
      "ребенок:ребенок(Ncmsny, 421)\n",
      "ребенка:ребенок(Ncmsgy, 1681)\n",
      "ребенок:ребенок(Ncmsny, 4014)\n",
      "\n",
      "классом этого друга:класс это друг(Ncmsin, 2540)\n",
      "собственный класс мальчика:собственный класс мальчик(Ncmsan, 2949)\n",
      "\n",
      "отец:отец(Ncmsny, 2312)\n",
      "отцу:отец(Ncmsdy, 3546)\n",
      "отцу:отец(Ncmsdy, 3904)\n",
      "\n",
      "красивая и любимая учительница по сольфеджио:красивый и любимый учительница по сольфеджио(Ncfsny, 994)\n",
      "учительницы:учительница(Ncfsgy, 1624)\n",
      "Новая учительница:новый учительница(Ncfsny, 1948)\n",
      "\n",
      "сольфеджио:сольфеджио(Ncnsdn, 1028)\n",
      "сольфеджио:сольфеджио(Ncnsan, 1476)\n",
      "\n",
      "друг с детского садика:друг с детский садик(P---snn, 2478)\n",
      "этого друга:это друг(P---san, 2548)\n",
      "этот друг:этот друг(P---snn, 2725)\n",
      "\n",
      "детьми:дитя(Ncnpiy, 1069)\n",
      "дети:дитя(Ncnpny, 1249)\n",
      "\n",
      "оперу:опера(Ncfsan, 1076)\n",
      "опера:опера(Ncfsnn, 2076)\n",
      "их оперу:они опера(Ncfsan, 2175)\n",
      "\n",
      "мамой:мама(Ncfsiy, 1142)\n",
      "маме:мама(Ncfsdy, 3529)\n",
      "маму:мама(Ncfsay, 3800)\n",
      "мама:мама(Ncfsny, 3899)\n",
      "Мама:мама(Ncfsny, 4339)\n",
      "Маме:мама(Ncfsdy, 4642)\n",
      "\n",
      "ты:ты(P-2-snn, 2925)\n",
      "тебе:ты(P-2-sdn, 4243)\n",
      "Ты:ты(P-2-snn, 4420)\n",
      "Ты:ты(P-2-snn, 4446)\n",
      "\n",
      "та:тот(P--fsna, 1861)\n",
      "той:тот(P--fsga, 2039)\n",
      "\n",
      "обожаемый старший друг мальчика , еще с детского садика:обожать старший друг мальчик , еще с детский садик(Ncmsny, 363)\n",
      "\n",
      "мать:мать(Ncfsny, 520)\n",
      "\n",
      "ребята неграмотные и не понимающие алгебры:ребята неграмотный и не понимать алгебра(Ncmpnn, 3060)\n",
      "\n",
      "Новенький:новенький(Ncmsny, 3246)\n",
      "\n",
      "сборная окрестных дворов:сборная окрестный двор(Ncfsnn, 3034)\n",
      "\n",
      "легко возбудимая натура:легко возбудимая натура(Ncfsnn, 1336)\n",
      "\n",
      "основной предмет:основной предмет(Ncmsan, 1454)\n",
      "\n",
      "свою партию:свой партия(Ncfsan, 2186)\n",
      "\n",
      "заботливая и милая женщина:заботливый и милый женщина(Ncfsny, 4089)\n",
      "\n",
      "той , продвинутой и почти гуманитарной школки:тот , продвинуть и почти гуманитарный школка(Ncfsgn, 4128)\n",
      "\n",
      "педагог по фортепьяно:педагог по фортепьяно(Ncmsny, 4066)\n",
      "\n",
      "две арии Козла:два ария козел(Mcf-a, 1120)\n",
      "\n",
      "педагогический талант:педагогический талант(Ncmsnn, 1918)\n",
      "\n",
      "другая преподавательница:другой преподавательница(Ncfsny, 1728)\n",
      "\n",
      "младше - классника:молодой - классника(Afcmsnf, 2798)\n",
      "\n",
      "серьезные восьмиклассники:серьезный восьмиклассник(Ncmpny, 2589)\n",
      "\n",
      "\n",
      "\n",
      "-- GS --\n",
      "педагог по фортепьяно:педагог по фортепьяно(Ncmsny, 4066)\n",
      "заботливая и милая женщина:заботливый и милый женщина(Ncfsny, 4089)\n",
      "\n",
      "музыкальную школу:музыкальный школа(Ncfsan, 872)\n",
      "музыкальной школы:музыкальный школа(Ncfsgn, 3636)\n",
      "музыкальной школы:музыкальный школа(Ncfsgn, 3993)\n",
      "\n",
      "отец:отец(Ncmsny, 2312)\n",
      "отцу:отец(Ncmsdy, 3546)\n",
      "отцу:отец(Ncmsdy, 3904)\n",
      "\n",
      "Новенький:новенький(Ncmsny, 3246)\n",
      "Он:он(P-3msnn, 3283)\n",
      "себя:себя(P----an, 3296)\n",
      "\n",
      "собственный класс мальчика:собственный класс мальчик(Ncmsan, 2949)\n",
      "сборная окрестных дворов:сборная окрестный двор(Ncfsnn, 3034)\n",
      "ребята неграмотные и не понимающие алгебры:ребята неграмотный и не понимать алгебра(Ncmpnn, 3060)\n",
      "Они:они(P-3-pnn, 3384)\n",
      "Они:они(P-3-pnn, 3412)\n",
      "\n",
      "классом этого друга:класс это друг(Ncmsin, 2540)\n",
      "они:они(P-3-pnn, 2565)\n",
      "серьезные восьмиклассники:серьезный восьмиклассник(Ncmpny, 2589)\n",
      "ними:они(P-3-pin, 2696)\n",
      "их:они(P-3-pan, 2705)\n",
      "\n",
      "обожаемый старший друг мальчика , еще с детского садика:обожать старший друг мальчик , еще с детский садик(Ncmsny, 363)\n",
      "друг с детского садика:друг с детский садик(P---snn, 2478)\n",
      "этого друга:это друг(P---san, 2548)\n",
      "этот друг:этот друг(P---snn, 2725)\n",
      "\n",
      "две арии Козла:два ария козел(Mcf-a, 1120)\n",
      "свою партию:свой партия(Ncfsan, 2186)\n",
      "которую:который(P--fsaa, 2199)\n",
      "\n",
      "оперу:опера(Ncfsan, 1076)\n",
      "опера:опера(Ncfsnn, 2076)\n",
      "их оперу:они опера(Ncfsan, 2175)\n",
      "\n",
      "детьми:дитя(Ncnpiy, 1069)\n",
      "дети:дитя(Ncnpny, 1249)\n",
      "\n",
      "другая преподавательница:другой преподавательница(Ncfsny, 1728)\n",
      "Новая учительница:новый учительница(Ncfsny, 1948)\n",
      "\n",
      "красивая и любимая учительница по сольфеджио:красивый и любимый учительница по сольфеджио(Ncfsny, 994)\n",
      "которая:который(P--fsna, 1040)\n",
      "учительницы:учительница(Ncfsgy, 1624)\n",
      "Она:она(P-3fsnn, 1654)\n",
      "своего:свой(P--msga, 1692)\n",
      "та:тот(P--fsna, 1861)\n",
      "педагогический талант:педагогический талант(Ncmsnn, 1918)\n",
      "той:тот(P--fsga, 2039)\n",
      "\n",
      "новую хорошую школу:новый хороший школа(Ncfsan, 323)\n",
      "этой школы:этот школа(Ncfsgn, 570)\n",
      "новую школу с гуманитарным уклоном:новый школа с гуманитарный уклон(Ncfsan, 801)\n",
      "новую школу:новый школа(Ncfsan, 2411)\n",
      "той , продвинутой и почти гуманитарной школки:тот , продвинуть и почти гуманитарный школка(Ncfsgn, 4128)\n",
      "школу:школа(Ncfsan, 4475)\n",
      "\n",
      "мать:мать(Ncfsny, 520)\n",
      "Она:она(P-3fsnn, 526)\n",
      "мамой:мама(Ncfsiy, 1142)\n",
      "маме:мама(Ncfsdy, 3529)\n",
      "маму:мама(Ncfsay, 3800)\n",
      "мама:мама(Ncfsny, 3899)\n",
      "тебе:ты(P-2-sdn, 4243)\n",
      "Мама:мама(Ncfsny, 4339)\n",
      "Маме:мама(Ncfsdy, 4642)\n",
      "\n",
      "Мальчик:мальчик(Ncmsny, 17)\n",
      "он:он(P-3msnn, 58)\n",
      "мальчика:мальчик(Ncmsgy, 386)\n",
      "ребенок:ребенок(Ncmsny, 421)\n",
      "Мальчик:мальчик(Ncmsny, 843)\n",
      "мальчик:мальчик(Ncmsny, 1089)\n",
      "мальчик:мальчик(Ncmsny, 1327)\n",
      "легко возбудимая натура:легко возбудимая натура(Ncfsnn, 1336)\n",
      "ребенка:ребенок(Ncmsgy, 1681)\n",
      "Его:его(P-3msan, 1718)\n",
      "Мальчик:мальчик(Ncmsny, 2122)\n",
      "Он:он(P-3msnn, 2160)\n",
      "свою:свой(P--fsaa, 2186)\n",
      "его:его(P-3msan, 2296)\n",
      "Мальчик:мальчик(Ncmsny, 2330)\n",
      "Мальчик:мальчик(Ncmsny, 2508)\n",
      "Мальчик:мальчик(Ncmsny, 2616)\n",
      "Он:он(P-3msnn, 2702)\n",
      "нему:он(P-3msdn, 2761)\n",
      "младше - классника:молодой - классника(Afcmsnf, 2798)\n",
      "его:он(P-3msan, 2840)\n",
      "ты:ты(P-2-snn, 2925)\n",
      "мальчика:мальчик(Ncmsgy, 2967)\n",
      "Мальчика:мальчик(Ncmsay, 3192)\n",
      "ним:он(P-3msin, 3241)\n",
      "Мальчик:мальчик(Ncmsny, 3348)\n",
      "него:он(P-3msgn, 3427)\n",
      "Мальчик:мальчик(Ncmsny, 3495)\n",
      "он:он(P-3msnn, 3564)\n",
      "он:он(P-3msnn, 3770)\n",
      "Мне:я(P-1-sdn, 3807)\n",
      "Ему:он(P-3msdn, 3860)\n",
      "ребенок:ребенок(Ncmsny, 4014)\n",
      "Мальчик:мальчик(Ncmsny, 4217)\n",
      "Я:я(P-1-snn, 4238)\n",
      "мне:я(P-1-sdn, 4261)\n",
      "Я:я(P-1-snn, 4280)\n",
      "Ты:ты(P-2-snn, 4420)\n",
      "Ты:ты(P-2-snn, 4446)\n",
      "мальчик:мальчик(Ncmsny, 4539)\n",
      "Его:его(P--msga, 4584)\n",
      "\n",
      "сольфеджио:сольфеджио(Ncnsdn, 1028)\n",
      "основной предмет:основной предмет(Ncmsan, 1454)\n",
      "сольфеджио:сольфеджио(Ncnsan, 1476)\n",
      "\n"
     ]
    }
   ],
   "source": [
    "clf = MLMentionPairMoreFeatures(scorer_path, feat_zones=('soon',))\n",
    "clf.train(create_clf(), rucoref_train, gs_mentions_train)\n",
    "coref_utils.get_score_table(clf, rucoref_test, gs_mentions, gs_groups, False)\n",
    "\n",
    "scores, test_groups, test_chains = clf.score(rucoref_test, gs_mentions, gs_groups)\n",
    "coref_utils.print_chains_in_text(rucoref_test, 1, test_chains, gs_mentions)"
   ]
  },
  {
   "cell_type": "markdown",
   "metadata": {},
   "source": [
    "### Soon + morphology"
   ]
  },
  {
   "cell_type": "markdown",
   "metadata": {},
   "source": [
    "Gold mentions:"
   ]
  },
  {
   "cell_type": "code",
   "execution_count": 210,
   "metadata": {
    "collapsed": false
   },
   "outputs": [
    {
     "name": "stdout",
     "output_type": "stream",
     "text": [
      "\\textsc{MLMentionPairMoreFeatures} &  $100.00$  & $54.46$ & $18.43$ & $27.54$  & $78.90$ & $29.71$ & $43.16$  & $31.26$ \\\\\n"
     ]
    }
   ],
   "source": [
    "clf = MLMentionPairMoreFeatures(scorer_path, feat_zones=('morpho',))\n",
    "clf.train(create_clf(), rucoref_train, gs_mentions_train)\n",
    "coref_utils.get_score_table(clf, rucoref_test, gs_mentions, gs_groups, False)"
   ]
  },
  {
   "cell_type": "code",
   "execution_count": 211,
   "metadata": {
    "collapsed": false
   },
   "outputs": [
    {
     "data": {
      "text/plain": [
       "array([  4.35131835e-02,   2.82306021e-03,   0.00000000e+00,\n",
       "         0.00000000e+00,   0.00000000e+00,   0.00000000e+00,\n",
       "         0.00000000e+00,   2.24390092e-03,   3.99143768e-04,\n",
       "         6.85288952e-01,   2.65731759e-01])"
      ]
     },
     "execution_count": 211,
     "metadata": {},
     "output_type": "execute_result"
    }
   ],
   "source": [
    "clf.clf.feature_importances_"
   ]
  },
  {
   "cell_type": "code",
   "execution_count": 212,
   "metadata": {
    "collapsed": false
   },
   "outputs": [
    {
     "data": {
      "text/plain": [
       "['deictic_pronouns2',\n",
       " 'deictic_pronouns1',\n",
       " 'pers_poss_pronouns2',\n",
       " 'pers_poss_pronouns1',\n",
       " 'same_deictic_pronouns',\n",
       " 'rel_pronouns1',\n",
       " 'rel_pronouns2',\n",
       " 'refl_pronouns2',\n",
       " 'refl_pronouns1',\n",
       " 'poss_pronouns2',\n",
       " 'poss_pronouns1']"
      ]
     },
     "execution_count": 212,
     "metadata": {},
     "output_type": "execute_result"
    }
   ],
   "source": [
    "clf.feat_names"
   ]
  },
  {
   "cell_type": "code",
   "execution_count": 256,
   "metadata": {
    "collapsed": false
   },
   "outputs": [
    {
     "name": "stdout",
     "output_type": "stream",
     "text": [
      "\\textsc{MLMentionPairMoreFeatures} &  $100.00$  & $73.98$ & $62.24$ & $67.61$  & $71.40$ & $49.34$ & $58.36$  & $52.41$ \\\\\n"
     ]
    }
   ],
   "source": [
    "clf = MLMentionPairMoreFeatures(scorer_path, feat_zones=('soon',))\n",
    "clf.train(create_clf(), rucoref_train, gs_mentions_train)\n",
    "coref_utils.get_score_table(clf, rucoref_test, gs_mentions, gs_groups, False)\n",
    "export_graphviz(clf.clf, out_file='soon_dt_optimized.dot', feature_names=clf.feat_names, class_names=('noncoref', 'coref'))"
   ]
  },
  {
   "cell_type": "code",
   "execution_count": 257,
   "metadata": {
    "collapsed": false
   },
   "outputs": [
    {
     "name": "stdout",
     "output_type": "stream",
     "text": [
      "\\textsc{MLMentionPairMoreFeatures} &  $100.00$  & $79.32$ & $62.42$ & $69.86$  & $79.94$ & $47.89$ & $59.89$  & $53.30$ \\\\\n"
     ]
    }
   ],
   "source": [
    "clf = MLMentionPairMoreFeatures(scorer_path, feat_zones=('soon', 'morpho'))\n",
    "clf.train(create_clf(), rucoref_train, gs_mentions_train)\n",
    "coref_utils.get_score_table(clf, rucoref_test, gs_mentions, gs_groups, False)\n",
    "export_graphviz(clf.clf, out_file='soon_morph_dt_optimized.dot', feature_names=clf.feat_names, class_names=('noncoref', 'coref'))"
   ]
  },
  {
   "cell_type": "markdown",
   "metadata": {},
   "source": [
    "Morphology is making results better at last!"
   ]
  },
  {
   "cell_type": "code",
   "execution_count": 258,
   "metadata": {
    "collapsed": false
   },
   "outputs": [
    {
     "name": "stdout",
     "output_type": "stream",
     "text": [
      "str_match 0.434983057396\n",
      "pers_poss_pronouns2 0.240575131816\n",
      "rel_pronouns1 0.0724784770518\n",
      "refl_pronouns1 0.0665951971755\n",
      "deictic_pronouns2 0.0437857083928\n",
      "gender-agr 0.0435172643989\n",
      "number-agr 0.0376687535192\n",
      "sem_class_agreement 0.0260076250174\n",
      "poss_pronouns1 0.0187800401535\n",
      "dist==1 0.0155938180605\n",
      "both-proper 1.4927018678e-05\n",
      "anaphor-is-demonstrative 0.0\n",
      "appositive 0.0\n",
      "deictic_pronouns1 0.0\n",
      "pers_poss_pronouns1 0.0\n",
      "rel_pronouns2 0.0\n",
      "refl_pronouns2 0.0\n",
      "poss_pronouns2 0.0\n"
     ]
    }
   ],
   "source": [
    "for i, feat_importance in sorted(enumerate(clf.clf.feature_importances_), key=lambda f: f[1], reverse=True):\n",
    "    print clf.feat_names[i], feat_importance"
   ]
  },
  {
   "cell_type": "code",
   "execution_count": 259,
   "metadata": {
    "collapsed": false
   },
   "outputs": [
    {
     "name": "stdout",
     "output_type": "stream",
     "text": [
      "-- SYS --\n",
      "Мальчик:мальчик(Ncmsny, 17)\n",
      "он:он(P-3msnn, 58)\n",
      "\n",
      "педагогический талант:педагогический талант(Ncmsnn, 1918)\n",
      "Он:он(P-3msnn, 2160)\n",
      "\n",
      "новую хорошую школу:новый хороший школа(Ncfsan, 323)\n",
      "Она:она(P-3fsnn, 526)\n",
      "\n",
      "мальчика:мальчик(Ncmsgy, 386)\n",
      "Мальчик:мальчик(Ncmsny, 843)\n",
      "мальчик:мальчик(Ncmsny, 1089)\n",
      "мальчик:мальчик(Ncmsny, 1327)\n",
      "Мальчик:мальчик(Ncmsny, 2122)\n",
      "Мальчик:мальчик(Ncmsny, 2330)\n",
      "Мальчик:мальчик(Ncmsny, 2508)\n",
      "Мальчик:мальчик(Ncmsny, 2616)\n",
      "мальчика:мальчик(Ncmsgy, 2967)\n",
      "Мальчика:мальчик(Ncmsay, 3192)\n",
      "ним:он(P-3msin, 3241)\n",
      "Он:он(P-3msnn, 3283)\n",
      "себя:себя(P----an, 3296)\n",
      "Они:они(P-3-pnn, 3384)\n",
      "Они:они(P-3-pnn, 3412)\n",
      "него:он(P-3msgn, 3427)\n",
      "он:он(P-3msnn, 3564)\n",
      "он:он(P-3msnn, 3770)\n",
      "Мне:я(P-1-sdn, 3807)\n",
      "Ему:он(P-3msdn, 3860)\n",
      "Я:я(P-1-snn, 4238)\n",
      "мне:я(P-1-sdn, 4261)\n",
      "Я:я(P-1-snn, 4280)\n",
      "\n",
      "ребенок:ребенок(Ncmsny, 421)\n",
      "ребенка:ребенок(Ncmsgy, 1681)\n",
      "своего:свой(P--msga, 1692)\n",
      "Его:его(P-3msan, 1718)\n",
      "\n",
      "Мальчик:мальчик(Ncmsny, 3348)\n",
      "Мальчик:мальчик(Ncmsny, 3495)\n",
      "Мальчик:мальчик(Ncmsny, 4217)\n",
      "мальчик:мальчик(Ncmsny, 4539)\n",
      "\n",
      "классом этого друга:класс это друг(Ncmsin, 2540)\n",
      "собственный класс мальчика:собственный класс мальчик(Ncmsan, 2949)\n",
      "\n",
      "этой школы:этот школа(Ncfsgn, 570)\n",
      "новую школу с гуманитарным уклоном:новый школа с гуманитарный уклон(Ncfsan, 801)\n",
      "музыкальную школу:музыкальный школа(Ncfsan, 872)\n",
      "новую школу:новый школа(Ncfsan, 2411)\n",
      "музыкальной школы:музыкальный школа(Ncfsgn, 3636)\n",
      "музыкальной школы:музыкальный школа(Ncfsgn, 3993)\n",
      "школу:школа(Ncfsan, 4475)\n",
      "\n",
      "отец:отец(Ncmsny, 2312)\n",
      "отцу:отец(Ncmsdy, 3546)\n",
      "отцу:отец(Ncmsdy, 3904)\n",
      "\n",
      "красивая и любимая учительница по сольфеджио:красивый и любимый учительница по сольфеджио(Ncfsny, 994)\n",
      "которая:который(P--fsna, 1040)\n",
      "\n",
      "сольфеджио:сольфеджио(Ncnsdn, 1028)\n",
      "сольфеджио:сольфеджио(Ncnsan, 1476)\n",
      "\n",
      "друг с детского садика:друг с детский садик(P---snn, 2478)\n",
      "этого друга:это друг(P---san, 2548)\n",
      "этот друг:этот друг(P---snn, 2725)\n",
      "нему:он(P-3msdn, 2761)\n",
      "его:он(P-3msan, 2840)\n",
      "\n",
      "детьми:дитя(Ncnpiy, 1069)\n",
      "дети:дитя(Ncnpny, 1249)\n",
      "\n",
      "оперу:опера(Ncfsan, 1076)\n",
      "опера:опера(Ncfsnn, 2076)\n",
      "их оперу:они опера(Ncfsan, 2175)\n",
      "свою:свой(P--fsaa, 2186)\n",
      "\n",
      "свою партию:свой партия(Ncfsan, 2186)\n",
      "которую:который(P--fsaa, 2199)\n",
      "его:его(P-3msan, 2296)\n",
      "они:они(P-3-pnn, 2565)\n",
      "ними:они(P-3-pin, 2696)\n",
      "Он:он(P-3msnn, 2702)\n",
      "их:они(P-3-pan, 2705)\n",
      "\n",
      "мамой:мама(Ncfsiy, 1142)\n",
      "маме:мама(Ncfsdy, 3529)\n",
      "маму:мама(Ncfsay, 3800)\n",
      "мама:мама(Ncfsny, 3899)\n",
      "Мама:мама(Ncfsny, 4339)\n",
      "Маме:мама(Ncfsdy, 4642)\n",
      "\n",
      "легко возбудимая натура:легко возбудимая натура(Ncfsnn, 1336)\n",
      "Она:она(P-3fsnn, 1654)\n",
      "\n",
      "учительницы:учительница(Ncfsgy, 1624)\n",
      "Новая учительница:новый учительница(Ncfsny, 1948)\n",
      "\n",
      "ты:ты(P-2-snn, 2925)\n",
      "тебе:ты(P-2-sdn, 4243)\n",
      "Ты:ты(P-2-snn, 4420)\n",
      "Ты:ты(P-2-snn, 4446)\n",
      "Его:его(P--msga, 4584)\n",
      "\n",
      "та:тот(P--fsna, 1861)\n",
      "той:тот(P--fsga, 2039)\n",
      "\n",
      "обожаемый старший друг мальчика , еще с детского садика:обожать старший друг мальчик , еще с детский садик(Ncmsny, 363)\n",
      "\n",
      "мать:мать(Ncfsny, 520)\n",
      "\n",
      "ребята неграмотные и не понимающие алгебры:ребята неграмотный и не понимать алгебра(Ncmpnn, 3060)\n",
      "\n",
      "Новенький:новенький(Ncmsny, 3246)\n",
      "\n",
      "сборная окрестных дворов:сборная окрестный двор(Ncfsnn, 3034)\n",
      "\n",
      "основной предмет:основной предмет(Ncmsan, 1454)\n",
      "\n",
      "заботливая и милая женщина:заботливый и милый женщина(Ncfsny, 4089)\n",
      "\n",
      "той , продвинутой и почти гуманитарной школки:тот , продвинуть и почти гуманитарный школка(Ncfsgn, 4128)\n",
      "\n",
      "ребенок:ребенок(Ncmsny, 4014)\n",
      "\n",
      "педагог по фортепьяно:педагог по фортепьяно(Ncmsny, 4066)\n",
      "\n",
      "две арии Козла:два ария козел(Mcf-a, 1120)\n",
      "\n",
      "другая преподавательница:другой преподавательница(Ncfsny, 1728)\n",
      "\n",
      "младше - классника:молодой - классника(Afcmsnf, 2798)\n",
      "\n",
      "серьезные восьмиклассники:серьезный восьмиклассник(Ncmpny, 2589)\n",
      "\n",
      "\n",
      "\n",
      "-- GS --\n",
      "педагог по фортепьяно:педагог по фортепьяно(Ncmsny, 4066)\n",
      "заботливая и милая женщина:заботливый и милый женщина(Ncfsny, 4089)\n",
      "\n",
      "музыкальную школу:музыкальный школа(Ncfsan, 872)\n",
      "музыкальной школы:музыкальный школа(Ncfsgn, 3636)\n",
      "музыкальной школы:музыкальный школа(Ncfsgn, 3993)\n",
      "\n",
      "отец:отец(Ncmsny, 2312)\n",
      "отцу:отец(Ncmsdy, 3546)\n",
      "отцу:отец(Ncmsdy, 3904)\n",
      "\n",
      "Новенький:новенький(Ncmsny, 3246)\n",
      "Он:он(P-3msnn, 3283)\n",
      "себя:себя(P----an, 3296)\n",
      "\n",
      "собственный класс мальчика:собственный класс мальчик(Ncmsan, 2949)\n",
      "сборная окрестных дворов:сборная окрестный двор(Ncfsnn, 3034)\n",
      "ребята неграмотные и не понимающие алгебры:ребята неграмотный и не понимать алгебра(Ncmpnn, 3060)\n",
      "Они:они(P-3-pnn, 3384)\n",
      "Они:они(P-3-pnn, 3412)\n",
      "\n",
      "классом этого друга:класс это друг(Ncmsin, 2540)\n",
      "они:они(P-3-pnn, 2565)\n",
      "серьезные восьмиклассники:серьезный восьмиклассник(Ncmpny, 2589)\n",
      "ними:они(P-3-pin, 2696)\n",
      "их:они(P-3-pan, 2705)\n",
      "\n",
      "обожаемый старший друг мальчика , еще с детского садика:обожать старший друг мальчик , еще с детский садик(Ncmsny, 363)\n",
      "друг с детского садика:друг с детский садик(P---snn, 2478)\n",
      "этого друга:это друг(P---san, 2548)\n",
      "этот друг:этот друг(P---snn, 2725)\n",
      "\n",
      "две арии Козла:два ария козел(Mcf-a, 1120)\n",
      "свою партию:свой партия(Ncfsan, 2186)\n",
      "которую:который(P--fsaa, 2199)\n",
      "\n",
      "оперу:опера(Ncfsan, 1076)\n",
      "опера:опера(Ncfsnn, 2076)\n",
      "их оперу:они опера(Ncfsan, 2175)\n",
      "\n",
      "детьми:дитя(Ncnpiy, 1069)\n",
      "дети:дитя(Ncnpny, 1249)\n",
      "\n",
      "другая преподавательница:другой преподавательница(Ncfsny, 1728)\n",
      "Новая учительница:новый учительница(Ncfsny, 1948)\n",
      "\n",
      "красивая и любимая учительница по сольфеджио:красивый и любимый учительница по сольфеджио(Ncfsny, 994)\n",
      "которая:который(P--fsna, 1040)\n",
      "учительницы:учительница(Ncfsgy, 1624)\n",
      "Она:она(P-3fsnn, 1654)\n",
      "своего:свой(P--msga, 1692)\n",
      "та:тот(P--fsna, 1861)\n",
      "педагогический талант:педагогический талант(Ncmsnn, 1918)\n",
      "той:тот(P--fsga, 2039)\n",
      "\n",
      "новую хорошую школу:новый хороший школа(Ncfsan, 323)\n",
      "этой школы:этот школа(Ncfsgn, 570)\n",
      "новую школу с гуманитарным уклоном:новый школа с гуманитарный уклон(Ncfsan, 801)\n",
      "новую школу:новый школа(Ncfsan, 2411)\n",
      "той , продвинутой и почти гуманитарной школки:тот , продвинуть и почти гуманитарный школка(Ncfsgn, 4128)\n",
      "школу:школа(Ncfsan, 4475)\n",
      "\n",
      "мать:мать(Ncfsny, 520)\n",
      "Она:она(P-3fsnn, 526)\n",
      "мамой:мама(Ncfsiy, 1142)\n",
      "маме:мама(Ncfsdy, 3529)\n",
      "маму:мама(Ncfsay, 3800)\n",
      "мама:мама(Ncfsny, 3899)\n",
      "тебе:ты(P-2-sdn, 4243)\n",
      "Мама:мама(Ncfsny, 4339)\n",
      "Маме:мама(Ncfsdy, 4642)\n",
      "\n",
      "Мальчик:мальчик(Ncmsny, 17)\n",
      "он:он(P-3msnn, 58)\n",
      "мальчика:мальчик(Ncmsgy, 386)\n",
      "ребенок:ребенок(Ncmsny, 421)\n",
      "Мальчик:мальчик(Ncmsny, 843)\n",
      "мальчик:мальчик(Ncmsny, 1089)\n",
      "мальчик:мальчик(Ncmsny, 1327)\n",
      "легко возбудимая натура:легко возбудимая натура(Ncfsnn, 1336)\n",
      "ребенка:ребенок(Ncmsgy, 1681)\n",
      "Его:его(P-3msan, 1718)\n",
      "Мальчик:мальчик(Ncmsny, 2122)\n",
      "Он:он(P-3msnn, 2160)\n",
      "свою:свой(P--fsaa, 2186)\n",
      "его:его(P-3msan, 2296)\n",
      "Мальчик:мальчик(Ncmsny, 2330)\n",
      "Мальчик:мальчик(Ncmsny, 2508)\n",
      "Мальчик:мальчик(Ncmsny, 2616)\n",
      "Он:он(P-3msnn, 2702)\n",
      "нему:он(P-3msdn, 2761)\n",
      "младше - классника:молодой - классника(Afcmsnf, 2798)\n",
      "его:он(P-3msan, 2840)\n",
      "ты:ты(P-2-snn, 2925)\n",
      "мальчика:мальчик(Ncmsgy, 2967)\n",
      "Мальчика:мальчик(Ncmsay, 3192)\n",
      "ним:он(P-3msin, 3241)\n",
      "Мальчик:мальчик(Ncmsny, 3348)\n",
      "него:он(P-3msgn, 3427)\n",
      "Мальчик:мальчик(Ncmsny, 3495)\n",
      "он:он(P-3msnn, 3564)\n",
      "он:он(P-3msnn, 3770)\n",
      "Мне:я(P-1-sdn, 3807)\n",
      "Ему:он(P-3msdn, 3860)\n",
      "ребенок:ребенок(Ncmsny, 4014)\n",
      "Мальчик:мальчик(Ncmsny, 4217)\n",
      "Я:я(P-1-snn, 4238)\n",
      "мне:я(P-1-sdn, 4261)\n",
      "Я:я(P-1-snn, 4280)\n",
      "Ты:ты(P-2-snn, 4420)\n",
      "Ты:ты(P-2-snn, 4446)\n",
      "мальчик:мальчик(Ncmsny, 4539)\n",
      "Его:его(P--msga, 4584)\n",
      "\n",
      "сольфеджио:сольфеджио(Ncnsdn, 1028)\n",
      "основной предмет:основной предмет(Ncmsan, 1454)\n",
      "сольфеджио:сольфеджио(Ncnsan, 1476)\n",
      "\n"
     ]
    }
   ],
   "source": [
    "scores, test_groups, test_chains = clf.score(rucoref_test, gs_mentions, gs_groups)\n",
    "coref_utils.print_chains_in_text(rucoref_test, 1, test_chains, gs_mentions)"
   ]
  },
  {
   "cell_type": "code",
   "execution_count": 260,
   "metadata": {
    "collapsed": false
   },
   "outputs": [
    {
     "name": "stdout",
     "output_type": "stream",
     "text": [
      "-- SYS --\n",
      "планшетный компьютер iPad:планшетный компьютер ipad(Ncmsnn, 121)\n",
      "который:который(P--msna, 148)\n",
      "\n",
      "потребители:потребитель(Ncmpny, 923)\n",
      "потребителями:потребитель(Ncmpiy, 2373)\n",
      "которые:который(P---pna, 2388)\n",
      "\n",
      "надежду:надежда(Ncfsan, 212)\n",
      "которая:который(P--fsna, 234)\n",
      "его:его(P--msga, 677)\n",
      "Их:их(P-3-pan, 708)\n",
      "свой:свой(P--msaa, 970)\n",
      "\n",
      "АРПП:арпп(Ncfsnn, 349)\n",
      "АРПП:арпп(Ncfsgn, 1159)\n",
      "\n",
      "России:россия(Ncfsgn, 467)\n",
      "Россию:россия(Ncfsan, 771)\n",
      "России:россия(Ncfsln, 1206)\n",
      "России:россия(Ncfsln, 5205)\n",
      "\n",
      "iPad:ipad(Mc, 475)\n",
      "iPad:ipad(Mc, 1044)\n",
      "iPad:ipad(Mc, 1199)\n",
      "iPad:ipad(Mc, 2912)\n",
      "iPad:ipad(Mc, 3086)\n",
      "iPad:ipad(Mc, 3645)\n",
      "iPad:ipad(Mc, 3917)\n",
      "iPad:ipad(Mc, 5279)\n",
      "\n",
      "90 тыс. этих устройств:@card@ тыс. этот устройство(Mc---d, 793)\n",
      "90 тыс. этих устройств:@card@ тыс. этот устройство(Ncnpgn, 793)\n",
      "устройств:устройство(Ncnpgn, 1255)\n",
      "устройства первой волны:устройство первый волна(Ncnpan, 2430)\n",
      "новые устройства:новый устройство(Ncnpan, 2480)\n",
      "они:они(P-3-pnn, 2550)\n",
      "\n",
      "Apple:apple(------, 849)\n",
      "Apple:apple(Ncfsgn, 1702)\n",
      "Apple:apple(------, 2199)\n",
      "корпорация Apple:корпорация apple(------, 4811)\n",
      "\n",
      "китайцы:китаец(Ncmpny, 2248)\n",
      "которые:который(P---pna, 2257)\n",
      "\n",
      "планшеты:планшет(Ncmpan, 941)\n",
      "новых планшетов:новый планшет(Ncmpgn, 2169)\n",
      "планшет:планшет(Ncmsan, 2945)\n",
      "его:его(P--msga, 2984)\n",
      "он:он(P-3msnn, 3011)\n",
      "себе:себя(P----ln, 3025)\n",
      "которые:который(P---pna, 3198)\n",
      "его:он(P-3msgn, 3346)\n",
      "свою:свой(P--fsaa, 3540)\n",
      "собой:себя(P----in, 3569)\n",
      "\n",
      "США:сша(Ncmpgn, 953)\n",
      "США:сша(Ncmpln, 1380)\n",
      "США:сша(Ncmpln, 2832)\n",
      "\n",
      "председателя правления АРПП Александра Оськина:председатель правление арпп александр оськина(Npmsgy, 1136)\n",
      "Александра Оськина:александр оськина(Npmsgy, 2730)\n",
      "\n",
      "компании Zinio:компания zinio(Ncfsgn, 4346)\n",
      "которой:который(P--fsla, 4364)\n",
      "\n",
      "AppStore:appstore(Mc, 4400)\n",
      "AppStore:appstore(SENT, 4682)\n",
      "\n",
      "Представители издательств , сопутствующих бизнесов и дистрибуторов прессы:﻿представители издательство , сопутствующий бизнес и дистрибуторов пресса(Ncmpny, 533)\n",
      "\n",
      "РФ:рф(Ncfsln, 180)\n",
      "\n",
      "Ассоциация распространителей печатной продукции:ассоциация распространитель печатный продукция(Ncfsnn, 300)\n",
      "\n",
      "рекламную платформу iAd:рекламный платформа iad(Mc, 4835)\n",
      "\n",
      "систему:система(Ncfsan, 4885)\n",
      "\n",
      "нового цифрового устройства:новый цифровой устройство(Ncnsgn, 647)\n",
      "\n",
      "все:все(R-----, 825)\n",
      "\n",
      "« айпадов »:« айпадов »(!!!, 2306)\n",
      "\n",
      "нашей стране:наш страна(Ncfsln, 891)\n",
      "\n",
      "ожидаемый:ожидать(Vmpp-smpfen, 2045)\n",
      "\n",
      "мега - популярная новинка от Apple:мегабайт - популярный новинка от apple(Ncfsnn, 1675)\n",
      "\n",
      "Инфотейнмент:﻿инфотейнмент(Ncmsnn, 3480)\n",
      "\n",
      "основным трендам:основной трендам(Ncmsin, 3180)\n",
      "\n",
      "медиа:медиа(Ncnsnn, 3331)\n",
      "\n",
      "\n",
      "\n",
      "-- GS --\n",
      "планшетный компьютер iPad:планшетный компьютер ipad(Ncmsnn, 121)\n",
      "который:который(P--msna, 148)\n",
      "iPad:ipad(Mc, 475)\n",
      "нового цифрового устройства:новый цифровой устройство(Ncnsgn, 647)\n",
      "его:его(P--msga, 677)\n",
      "\n",
      "РФ:рф(Ncfsln, 180)\n",
      "России:россия(Ncfsgn, 467)\n",
      "Россию:россия(Ncfsan, 771)\n",
      "нашей стране:наш страна(Ncfsln, 891)\n",
      "России:россия(Ncfsln, 1206)\n",
      "России:россия(Ncfsln, 5205)\n",
      "\n",
      "надежду:надежда(Ncfsan, 212)\n",
      "которая:который(P--fsna, 234)\n",
      "\n",
      "Ассоциация распространителей печатной продукции:ассоциация распространитель печатный продукция(Ncfsnn, 300)\n",
      "АРПП:арпп(Ncfsnn, 349)\n",
      "АРПП:арпп(Ncfsgn, 1159)\n",
      "\n",
      "Представители издательств , сопутствующих бизнесов и дистрибуторов прессы:﻿представители издательство , сопутствующий бизнес и дистрибуторов пресса(Ncmpny, 533)\n",
      "Их:их(P-3-pan, 708)\n",
      "\n",
      "90 тыс. этих устройств:@card@ тыс. этот устройство(Mc---d, 793)\n",
      "планшеты:планшет(Ncmpan, 941)\n",
      "iPad:ipad(Mc, 1044)\n",
      "iPad:ipad(Mc, 1199)\n",
      "устройств:устройство(Ncnpgn, 1255)\n",
      "мега - популярная новинка от Apple:мегабайт - популярный новинка от apple(Ncfsnn, 1675)\n",
      "« айпадов »:« айпадов »(!!!, 2306)\n",
      "устройства первой волны:устройство первый волна(Ncnpan, 2430)\n",
      "iPad:ipad(Mc, 2912)\n",
      "планшет:планшет(Ncmsan, 2945)\n",
      "его:его(P--msga, 2984)\n",
      "он:он(P-3msnn, 3011)\n",
      "себе:себя(P----ln, 3025)\n",
      "iPad:ipad(Mc, 3086)\n",
      "iPad:ipad(Mc, 3645)\n",
      "iPad:ipad(Mc, 3917)\n",
      "iPad:ipad(Mc, 5279)\n",
      "\n",
      "90 тыс. этих устройств:@card@ тыс. этот устройство(Ncnpgn, 793)\n",
      "все:все(R-----, 825)\n",
      "\n",
      "Apple:apple(------, 849)\n",
      "Apple:apple(Ncfsgn, 1702)\n",
      "Apple:apple(------, 2199)\n",
      "корпорация Apple:корпорация apple(------, 4811)\n",
      "\n",
      "потребители:потребитель(Ncmpny, 923)\n",
      "свой:свой(P--msaa, 970)\n",
      "\n",
      "США:сша(Ncmpgn, 953)\n",
      "США:сша(Ncmpln, 1380)\n",
      "США:сша(Ncmpln, 2832)\n",
      "\n",
      "председателя правления АРПП Александра Оськина:председатель правление арпп александр оськина(Npmsgy, 1136)\n",
      "Александра Оськина:александр оськина(Npmsgy, 2730)\n",
      "\n",
      "ожидаемый:ожидать(Vmpp-smpfen, 2045)\n",
      "новых планшетов:новый планшет(Ncmpgn, 2169)\n",
      "\n",
      "китайцы:китаец(Ncmpny, 2248)\n",
      "которые:который(P---pna, 2257)\n",
      "\n",
      "потребителями:потребитель(Ncmpiy, 2373)\n",
      "которые:который(P---pna, 2388)\n",
      "\n",
      "новые устройства:новый устройство(Ncnpan, 2480)\n",
      "они:они(P-3-pnn, 2550)\n",
      "\n",
      "основным трендам:основной трендам(Ncmsin, 3180)\n",
      "которые:который(P---pna, 3198)\n",
      "\n",
      "медиа:медиа(Ncnsnn, 3331)\n",
      "его:он(P-3msgn, 3346)\n",
      "\n",
      "Инфотейнмент:﻿инфотейнмент(Ncmsnn, 3480)\n",
      "свою:свой(P--fsaa, 3540)\n",
      "собой:себя(P----in, 3569)\n",
      "\n",
      "компании Zinio:компания zinio(Ncfsgn, 4346)\n",
      "которой:который(P--fsla, 4364)\n",
      "\n",
      "AppStore:appstore(Mc, 4400)\n",
      "AppStore:appstore(SENT, 4682)\n",
      "\n",
      "рекламную платформу iAd:рекламный платформа iad(Mc, 4835)\n",
      "систему:система(Ncfsan, 4885)\n",
      "\n"
     ]
    }
   ],
   "source": [
    "coref_utils.print_chains_in_text(rucoref_test, 30, test_chains, gs_mentions)"
   ]
  },
  {
   "cell_type": "markdown",
   "metadata": {},
   "source": [
    "Morphological features improved the quality and the pronouns aren't clustered together at last.\n",
    "Instead, they are sometimes clustered with the right antecedent. Still, there is a lot of room for improvement."
   ]
  },
  {
   "cell_type": "markdown",
   "metadata": {},
   "source": [
    "### Soon + morphology + distance"
   ]
  },
  {
   "cell_type": "code",
   "execution_count": 262,
   "metadata": {
    "collapsed": false
   },
   "outputs": [
    {
     "name": "stdout",
     "output_type": "stream",
     "text": [
      "\\textsc{MLMentionPairMoreFeatures} &  $100.00$  & $79.32$ & $62.42$ & $69.86$  & $79.94$ & $47.89$ & $59.89$  & $53.30$ \\\\\n"
     ]
    }
   ],
   "source": [
    "clf = MLMentionPairMoreFeatures(scorer_path, feat_zones=('soon', 'morpho'))\n",
    "clf.train(create_clf(), rucoref_train, gs_mentions_train)\n",
    "coref_utils.get_score_table(clf, rucoref_test, gs_mentions, gs_groups, False)\n",
    "#export_graphviz(clf.clf, out_file='soon_morph_dt_optimized.dot', feature_names=clf.feat_names, class_names=('noncoref', 'coref'))"
   ]
  },
  {
   "cell_type": "code",
   "execution_count": 254,
   "metadata": {
    "collapsed": false
   },
   "outputs": [
    {
     "name": "stdout",
     "output_type": "stream",
     "text": [
      "\\textsc{MLMentionPairMoreFeatures} &  $100.00$  & $79.32$ & $62.42$ & $69.86$  & $79.94$ & $47.89$ & $59.89$  & $53.30$ \\\\\n"
     ]
    }
   ],
   "source": [
    "# only \"n_sentences == 1\" feature\n",
    "clf = MLMentionPairMoreFeatures(scorer_path, feat_zones=('soon', 'morpho', 'dist'))\n",
    "clf.train(create_clf(), rucoref_train, gs_mentions_train)\n",
    "coref_utils.get_score_table(clf, rucoref_test, gs_mentions, gs_groups, False)\n",
    "#export_graphviz(clf.clf, out_file='soon_morph_dt_optimized.dot', feature_names=clf.feat_names, class_names=('noncoref', 'coref'))"
   ]
  },
  {
   "cell_type": "code",
   "execution_count": 264,
   "metadata": {
    "collapsed": false
   },
   "outputs": [
    {
     "name": "stdout",
     "output_type": "stream",
     "text": [
      "\\textsc{MLMentionPairMoreFeatures} &  $100.00$  & $79.26$ & $62.60$ & $69.95$  & $79.78$ & $47.72$ & $59.72$  & $53.08$ \\\\\n"
     ]
    }
   ],
   "source": [
    "# \"n_sentences == 1\", \"n_sentences == 0\" features\n",
    "clf = MLMentionPairMoreFeatures(scorer_path, feat_zones=('soon', 'morpho', 'dist'))\n",
    "clf.train(create_clf(), rucoref_train, gs_mentions_train)\n",
    "coref_utils.get_score_table(clf, rucoref_test, gs_mentions, gs_groups, False)\n",
    "#export_graphviz(clf.clf, out_file='soon_morph_dt_optimized.dot', feature_names=clf.feat_names, class_names=('noncoref', 'coref'))"
   ]
  },
  {
   "cell_type": "code",
   "execution_count": 266,
   "metadata": {
    "collapsed": false
   },
   "outputs": [
    {
     "name": "stdout",
     "output_type": "stream",
     "text": [
      "\\textsc{MLMentionPairMoreFeatures} &  $100.00$  & $79.32$ & $62.42$ & $69.86$  & $79.94$ & $47.89$ & $59.89$  & $53.30$ \\\\\n"
     ]
    }
   ],
   "source": [
    "# \"n_sentences == 1\", \"n_sentences > 2\" features\n",
    "clf = MLMentionPairMoreFeatures(scorer_path, feat_zones=('soon', 'morpho', 'dist'))\n",
    "clf.train(create_clf(), rucoref_train, gs_mentions_train)\n",
    "coref_utils.get_score_table(clf, rucoref_test, gs_mentions, gs_groups, False)\n",
    "#export_graphviz(clf.clf, out_file='soon_morph_dt_optimized.dot', feature_names=clf.feat_names, class_names=('noncoref', 'coref'))"
   ]
  },
  {
   "cell_type": "code",
   "execution_count": 267,
   "metadata": {
    "collapsed": false
   },
   "outputs": [
    {
     "name": "stdout",
     "output_type": "stream",
     "text": [
      "str_match 0.427593555187\n",
      "deictic_pronouns2 0.279530111698\n",
      "refl_pronouns1 0.0712472110123\n",
      "poss_pronouns1 0.0654638764303\n",
      "gender-agr 0.0430293225541\n",
      "dist>2 0.0359964360866\n",
      "number-agr 0.0298350901349\n",
      "sem_class_agreement 0.0255658068839\n",
      "pers_poss_pronouns1 0.0184610043983\n",
      "dist==1 0.00315327849172\n",
      "both-proper 0.000124307123274\n",
      "anaphor-is-demonstrative 0.0\n",
      "appositive 0.0\n",
      "deictic_pronouns1 0.0\n",
      "pers_poss_pronouns2 0.0\n",
      "rel_pronouns1 0.0\n",
      "rel_pronouns2 0.0\n",
      "refl_pronouns2 0.0\n",
      "poss_pronouns2 0.0\n"
     ]
    }
   ],
   "source": [
    "for i, feat_importance in sorted(enumerate(clf.clf.feature_importances_), key=lambda f: f[1], reverse=True):\n",
    "    print clf.feat_names[i], feat_importance"
   ]
  },
  {
   "cell_type": "code",
   "execution_count": 272,
   "metadata": {
    "collapsed": false
   },
   "outputs": [
    {
     "name": "stdout",
     "output_type": "stream",
     "text": [
      "\\textsc{MLMentionPairMoreFeatures} &  $100.00$  & $78.86$ & $62.90$ & $69.99$  & $78.95$ & $48.33$ & $59.96$  & $53.55$ \\\\\n"
     ]
    }
   ],
   "source": [
    "# \"n_sentences == 1\", \"n_sentences > 2\", \"n_nouns > 2\" features\n",
    "clf = MLMentionPairMoreFeatures(scorer_path, feat_zones=('soon', 'morpho', 'dist'))\n",
    "clf.train(create_clf(), rucoref_train, gs_mentions_train)\n",
    "coref_utils.get_score_table(clf, rucoref_test, gs_mentions, gs_groups, False)\n",
    "#export_graphviz(clf.clf, out_file='soon_morph_dt_optimized.dot', feature_names=clf.feat_names, class_names=('noncoref', 'coref'))"
   ]
  },
  {
   "cell_type": "code",
   "execution_count": 273,
   "metadata": {
    "collapsed": false
   },
   "outputs": [
    {
     "name": "stdout",
     "output_type": "stream",
     "text": [
      "str_match 0.420510647847\n",
      "rel_pronouns2 0.232570907799\n",
      "refl_pronouns1 0.0882222365654\n",
      "rel_pronouns1 0.0643794948599\n",
      "deictic_pronouns2 0.042328905206\n",
      "gender-agr 0.0423165599298\n",
      "dist>2 0.0354001702676\n",
      "number-agr 0.0293658659635\n",
      "sem_class_agreement 0.0251423200492\n",
      "nouns>2 0.0152381109187\n",
      "dist==1 0.00440253256606\n",
      "both-proper 0.000122248028077\n",
      "anaphor-is-demonstrative 0.0\n",
      "appositive 0.0\n",
      "deictic_pronouns1 0.0\n",
      "pers_poss_pronouns2 0.0\n",
      "pers_poss_pronouns1 0.0\n",
      "refl_pronouns2 0.0\n",
      "poss_pronouns2 0.0\n",
      "poss_pronouns1 0.0\n"
     ]
    }
   ],
   "source": [
    "for i, feat_importance in sorted(enumerate(clf.clf.feature_importances_), key=lambda f: f[1], reverse=True):\n",
    "    print clf.feat_names[i], feat_importance"
   ]
  },
  {
   "cell_type": "code",
   "execution_count": 275,
   "metadata": {
    "collapsed": false
   },
   "outputs": [
    {
     "name": "stdout",
     "output_type": "stream",
     "text": [
      "\\textsc{MLMentionPairMoreFeatures} &  $100.00$  & $78.78$ & $62.50$ & $69.70$  & $79.30$ & $47.96$ & $59.77$  & $53.18$ \\\\\n"
     ]
    }
   ],
   "source": [
    "# \"n_sentences == 1\", \"n_sentences > 2\", \"n_nouns > 1\" features\n",
    "clf = MLMentionPairMoreFeatures(scorer_path, feat_zones=('soon', 'morpho', 'dist'))\n",
    "clf.train(create_clf(), rucoref_train, gs_mentions_train)\n",
    "coref_utils.get_score_table(clf, rucoref_test, gs_mentions, gs_groups, False)\n",
    "#export_graphviz(clf.clf, out_file='soon_morph_dt_optimized.dot', feature_names=clf.feat_names, class_names=('noncoref', 'coref'))"
   ]
  },
  {
   "cell_type": "code",
   "execution_count": 277,
   "metadata": {
    "collapsed": false
   },
   "outputs": [
    {
     "name": "stdout",
     "output_type": "stream",
     "text": [
      "\\textsc{MLMentionPairMoreFeatures} &  $100.00$  & $79.29$ & $63.01$ & $70.22$  & $79.42$ & $48.39$ & $60.14$  & $53.65$ \\\\\n"
     ]
    }
   ],
   "source": [
    "# \"n_sentences == 1\", \"n_sentences > 2\", \"n_nouns > 3\" features\n",
    "clf = MLMentionPairMoreFeatures(scorer_path, feat_zones=('soon', 'morpho', 'dist'))\n",
    "clf.train(create_clf(), rucoref_train, gs_mentions_train)\n",
    "coref_utils.get_score_table(clf, rucoref_test, gs_mentions, gs_groups, False)\n",
    "export_graphviz(clf.clf, out_file='soon_morph_dist_dt_optimized.dot', feature_names=clf.feat_names, class_names=('noncoref', 'coref'))"
   ]
  },
  {
   "cell_type": "markdown",
   "metadata": {},
   "source": [
    "Distance features are working now although the quality increase is not that big.\n",
    "Adding more distance features may increase the quality further.\n",
    "For comparison, without distance features (only \"dist==1\") the results are:\n",
    "```\n",
    "\\textsc{MLMentionPairMoreFeatures} &  $100.00$  & $79.32$ & $62.42$ & $69.86$  & $79.94$ & $47.89$ & $59.89$  & $53.30$ \\\\\n",
    "```"
   ]
  },
  {
   "cell_type": "code",
   "execution_count": 278,
   "metadata": {
    "collapsed": false
   },
   "outputs": [
    {
     "name": "stdout",
     "output_type": "stream",
     "text": [
      "str_match 0.420760851213\n",
      "rel_pronouns2 0.232709287229\n",
      "deictic_pronouns1 0.0701087207429\n",
      "pers_poss_pronouns1 0.0644178005874\n",
      "deictic_pronouns2 0.0423540908573\n",
      "gender-agr 0.0423417382357\n",
      "dist>2 0.0354212333294\n",
      "number-agr 0.0293514076709\n",
      "sem_class_agreement 0.0251572797015\n",
      "refl_pronouns1 0.0181660079546\n",
      "nouns>3 0.0145258724533\n",
      "dist==1 0.00456338925963\n",
      "both-proper 0.000122320765517\n",
      "anaphor-is-demonstrative 0.0\n",
      "appositive 0.0\n",
      "pers_poss_pronouns2 0.0\n",
      "rel_pronouns1 0.0\n",
      "refl_pronouns2 0.0\n",
      "poss_pronouns2 0.0\n",
      "poss_pronouns1 0.0\n"
     ]
    }
   ],
   "source": [
    "for i, feat_importance in sorted(enumerate(clf.clf.feature_importances_), key=lambda f: f[1], reverse=True):\n",
    "    print clf.feat_names[i], feat_importance"
   ]
  },
  {
   "cell_type": "markdown",
   "metadata": {},
   "source": [
    "Moreover, we can see that the quality for the pronoun resolution has decreased:"
   ]
  },
  {
   "cell_type": "code",
   "execution_count": 279,
   "metadata": {
    "collapsed": false
   },
   "outputs": [
    {
     "name": "stdout",
     "output_type": "stream",
     "text": [
      "-- SYS --\n",
      "Мальчик:мальчик(Ncmsny, 17)\n",
      "он:он(P-3msnn, 58)\n",
      "Она:она(P-3fsnn, 526)\n",
      "\n",
      "классом этого друга:класс это друг(Ncmsin, 2540)\n",
      "собственный класс мальчика:собственный класс мальчик(Ncmsan, 2949)\n",
      "\n",
      "новую хорошую школу:новый хороший школа(Ncfsan, 323)\n",
      "этой школы:этот школа(Ncfsgn, 570)\n",
      "новую школу с гуманитарным уклоном:новый школа с гуманитарный уклон(Ncfsan, 801)\n",
      "музыкальную школу:музыкальный школа(Ncfsan, 872)\n",
      "новую школу:новый школа(Ncfsan, 2411)\n",
      "музыкальной школы:музыкальный школа(Ncfsgn, 3636)\n",
      "музыкальной школы:музыкальный школа(Ncfsgn, 3993)\n",
      "школу:школа(Ncfsan, 4475)\n",
      "\n",
      "мальчика:мальчик(Ncmsgy, 386)\n",
      "Мальчик:мальчик(Ncmsny, 843)\n",
      "мальчик:мальчик(Ncmsny, 1089)\n",
      "мальчик:мальчик(Ncmsny, 1327)\n",
      "Мальчик:мальчик(Ncmsny, 2122)\n",
      "Мальчик:мальчик(Ncmsny, 2330)\n",
      "Мальчик:мальчик(Ncmsny, 2508)\n",
      "Мальчик:мальчик(Ncmsny, 2616)\n",
      "мальчика:мальчик(Ncmsgy, 2967)\n",
      "Мальчика:мальчик(Ncmsay, 3192)\n",
      "ним:он(P-3msin, 3241)\n",
      "Он:он(P-3msnn, 3283)\n",
      "себя:себя(P----an, 3296)\n",
      "Они:они(P-3-pnn, 3384)\n",
      "Они:они(P-3-pnn, 3412)\n",
      "него:он(P-3msgn, 3427)\n",
      "он:он(P-3msnn, 3564)\n",
      "он:он(P-3msnn, 3770)\n",
      "Мне:я(P-1-sdn, 3807)\n",
      "Ему:он(P-3msdn, 3860)\n",
      "Я:я(P-1-snn, 4238)\n",
      "мне:я(P-1-sdn, 4261)\n",
      "Я:я(P-1-snn, 4280)\n",
      "Его:его(P--msga, 4584)\n",
      "\n",
      "ребенок:ребенок(Ncmsny, 421)\n",
      "ребенка:ребенок(Ncmsgy, 1681)\n",
      "своего:свой(P--msga, 1692)\n",
      "Его:его(P-3msan, 1718)\n",
      "Он:он(P-3msnn, 2160)\n",
      "\n",
      "Мальчик:мальчик(Ncmsny, 3348)\n",
      "Мальчик:мальчик(Ncmsny, 3495)\n",
      "Мальчик:мальчик(Ncmsny, 4217)\n",
      "мальчик:мальчик(Ncmsny, 4539)\n",
      "\n",
      "свою партию:свой партия(Ncfsan, 2186)\n",
      "которую:который(P--fsaa, 2199)\n",
      "его:его(P-3msan, 2296)\n",
      "они:они(P-3-pnn, 2565)\n",
      "ними:они(P-3-pin, 2696)\n",
      "Он:он(P-3msnn, 2702)\n",
      "их:они(P-3-pan, 2705)\n",
      "\n",
      "отец:отец(Ncmsny, 2312)\n",
      "отцу:отец(Ncmsdy, 3546)\n",
      "отцу:отец(Ncmsdy, 3904)\n",
      "\n",
      "красивая и любимая учительница по сольфеджио:красивый и любимый учительница по сольфеджио(Ncfsny, 994)\n",
      "которая:который(P--fsna, 1040)\n",
      "Она:она(P-3fsnn, 1654)\n",
      "\n",
      "сольфеджио:сольфеджио(Ncnsdn, 1028)\n",
      "сольфеджио:сольфеджио(Ncnsan, 1476)\n",
      "\n",
      "друг с детского садика:друг с детский садик(P---snn, 2478)\n",
      "этого друга:это друг(P---san, 2548)\n",
      "этот друг:этот друг(P---snn, 2725)\n",
      "нему:он(P-3msdn, 2761)\n",
      "его:он(P-3msan, 2840)\n",
      "\n",
      "детьми:дитя(Ncnpiy, 1069)\n",
      "дети:дитя(Ncnpny, 1249)\n",
      "\n",
      "оперу:опера(Ncfsan, 1076)\n",
      "опера:опера(Ncfsnn, 2076)\n",
      "их оперу:они опера(Ncfsan, 2175)\n",
      "свою:свой(P--fsaa, 2186)\n",
      "\n",
      "мамой:мама(Ncfsiy, 1142)\n",
      "маме:мама(Ncfsdy, 3529)\n",
      "маму:мама(Ncfsay, 3800)\n",
      "мама:мама(Ncfsny, 3899)\n",
      "Мама:мама(Ncfsny, 4339)\n",
      "Маме:мама(Ncfsdy, 4642)\n",
      "\n",
      "учительницы:учительница(Ncfsgy, 1624)\n",
      "Новая учительница:новый учительница(Ncfsny, 1948)\n",
      "\n",
      "ты:ты(P-2-snn, 2925)\n",
      "тебе:ты(P-2-sdn, 4243)\n",
      "Ты:ты(P-2-snn, 4420)\n",
      "Ты:ты(P-2-snn, 4446)\n",
      "\n",
      "та:тот(P--fsna, 1861)\n",
      "той:тот(P--fsga, 2039)\n",
      "\n",
      "обожаемый старший друг мальчика , еще с детского садика:обожать старший друг мальчик , еще с детский садик(Ncmsny, 363)\n",
      "\n",
      "мать:мать(Ncfsny, 520)\n",
      "\n",
      "ребята неграмотные и не понимающие алгебры:ребята неграмотный и не понимать алгебра(Ncmpnn, 3060)\n",
      "\n",
      "Новенький:новенький(Ncmsny, 3246)\n",
      "\n",
      "сборная окрестных дворов:сборная окрестный двор(Ncfsnn, 3034)\n",
      "\n",
      "легко возбудимая натура:легко возбудимая натура(Ncfsnn, 1336)\n",
      "\n",
      "основной предмет:основной предмет(Ncmsan, 1454)\n",
      "\n",
      "заботливая и милая женщина:заботливый и милый женщина(Ncfsny, 4089)\n",
      "\n",
      "той , продвинутой и почти гуманитарной школки:тот , продвинуть и почти гуманитарный школка(Ncfsgn, 4128)\n",
      "\n",
      "ребенок:ребенок(Ncmsny, 4014)\n",
      "\n",
      "педагог по фортепьяно:педагог по фортепьяно(Ncmsny, 4066)\n",
      "\n",
      "две арии Козла:два ария козел(Mcf-a, 1120)\n",
      "\n",
      "педагогический талант:педагогический талант(Ncmsnn, 1918)\n",
      "\n",
      "другая преподавательница:другой преподавательница(Ncfsny, 1728)\n",
      "\n",
      "младше - классника:молодой - классника(Afcmsnf, 2798)\n",
      "\n",
      "серьезные восьмиклассники:серьезный восьмиклассник(Ncmpny, 2589)\n",
      "\n",
      "\n",
      "\n",
      "-- GS --\n",
      "педагог по фортепьяно:педагог по фортепьяно(Ncmsny, 4066)\n",
      "заботливая и милая женщина:заботливый и милый женщина(Ncfsny, 4089)\n",
      "\n",
      "музыкальную школу:музыкальный школа(Ncfsan, 872)\n",
      "музыкальной школы:музыкальный школа(Ncfsgn, 3636)\n",
      "музыкальной школы:музыкальный школа(Ncfsgn, 3993)\n",
      "\n",
      "отец:отец(Ncmsny, 2312)\n",
      "отцу:отец(Ncmsdy, 3546)\n",
      "отцу:отец(Ncmsdy, 3904)\n",
      "\n",
      "Новенький:новенький(Ncmsny, 3246)\n",
      "Он:он(P-3msnn, 3283)\n",
      "себя:себя(P----an, 3296)\n",
      "\n",
      "собственный класс мальчика:собственный класс мальчик(Ncmsan, 2949)\n",
      "сборная окрестных дворов:сборная окрестный двор(Ncfsnn, 3034)\n",
      "ребята неграмотные и не понимающие алгебры:ребята неграмотный и не понимать алгебра(Ncmpnn, 3060)\n",
      "Они:они(P-3-pnn, 3384)\n",
      "Они:они(P-3-pnn, 3412)\n",
      "\n",
      "классом этого друга:класс это друг(Ncmsin, 2540)\n",
      "они:они(P-3-pnn, 2565)\n",
      "серьезные восьмиклассники:серьезный восьмиклассник(Ncmpny, 2589)\n",
      "ними:они(P-3-pin, 2696)\n",
      "их:они(P-3-pan, 2705)\n",
      "\n",
      "обожаемый старший друг мальчика , еще с детского садика:обожать старший друг мальчик , еще с детский садик(Ncmsny, 363)\n",
      "друг с детского садика:друг с детский садик(P---snn, 2478)\n",
      "этого друга:это друг(P---san, 2548)\n",
      "этот друг:этот друг(P---snn, 2725)\n",
      "\n",
      "две арии Козла:два ария козел(Mcf-a, 1120)\n",
      "свою партию:свой партия(Ncfsan, 2186)\n",
      "которую:который(P--fsaa, 2199)\n",
      "\n",
      "оперу:опера(Ncfsan, 1076)\n",
      "опера:опера(Ncfsnn, 2076)\n",
      "их оперу:они опера(Ncfsan, 2175)\n",
      "\n",
      "детьми:дитя(Ncnpiy, 1069)\n",
      "дети:дитя(Ncnpny, 1249)\n",
      "\n",
      "другая преподавательница:другой преподавательница(Ncfsny, 1728)\n",
      "Новая учительница:новый учительница(Ncfsny, 1948)\n",
      "\n",
      "красивая и любимая учительница по сольфеджио:красивый и любимый учительница по сольфеджио(Ncfsny, 994)\n",
      "которая:который(P--fsna, 1040)\n",
      "учительницы:учительница(Ncfsgy, 1624)\n",
      "Она:она(P-3fsnn, 1654)\n",
      "своего:свой(P--msga, 1692)\n",
      "та:тот(P--fsna, 1861)\n",
      "педагогический талант:педагогический талант(Ncmsnn, 1918)\n",
      "той:тот(P--fsga, 2039)\n",
      "\n",
      "новую хорошую школу:новый хороший школа(Ncfsan, 323)\n",
      "этой школы:этот школа(Ncfsgn, 570)\n",
      "новую школу с гуманитарным уклоном:новый школа с гуманитарный уклон(Ncfsan, 801)\n",
      "новую школу:новый школа(Ncfsan, 2411)\n",
      "той , продвинутой и почти гуманитарной школки:тот , продвинуть и почти гуманитарный школка(Ncfsgn, 4128)\n",
      "школу:школа(Ncfsan, 4475)\n",
      "\n",
      "мать:мать(Ncfsny, 520)\n",
      "Она:она(P-3fsnn, 526)\n",
      "мамой:мама(Ncfsiy, 1142)\n",
      "маме:мама(Ncfsdy, 3529)\n",
      "маму:мама(Ncfsay, 3800)\n",
      "мама:мама(Ncfsny, 3899)\n",
      "тебе:ты(P-2-sdn, 4243)\n",
      "Мама:мама(Ncfsny, 4339)\n",
      "Маме:мама(Ncfsdy, 4642)\n",
      "\n",
      "Мальчик:мальчик(Ncmsny, 17)\n",
      "он:он(P-3msnn, 58)\n",
      "мальчика:мальчик(Ncmsgy, 386)\n",
      "ребенок:ребенок(Ncmsny, 421)\n",
      "Мальчик:мальчик(Ncmsny, 843)\n",
      "мальчик:мальчик(Ncmsny, 1089)\n",
      "мальчик:мальчик(Ncmsny, 1327)\n",
      "легко возбудимая натура:легко возбудимая натура(Ncfsnn, 1336)\n",
      "ребенка:ребенок(Ncmsgy, 1681)\n",
      "Его:его(P-3msan, 1718)\n",
      "Мальчик:мальчик(Ncmsny, 2122)\n",
      "Он:он(P-3msnn, 2160)\n",
      "свою:свой(P--fsaa, 2186)\n",
      "его:его(P-3msan, 2296)\n",
      "Мальчик:мальчик(Ncmsny, 2330)\n",
      "Мальчик:мальчик(Ncmsny, 2508)\n",
      "Мальчик:мальчик(Ncmsny, 2616)\n",
      "Он:он(P-3msnn, 2702)\n",
      "нему:он(P-3msdn, 2761)\n",
      "младше - классника:молодой - классника(Afcmsnf, 2798)\n",
      "его:он(P-3msan, 2840)\n",
      "ты:ты(P-2-snn, 2925)\n",
      "мальчика:мальчик(Ncmsgy, 2967)\n",
      "Мальчика:мальчик(Ncmsay, 3192)\n",
      "ним:он(P-3msin, 3241)\n",
      "Мальчик:мальчик(Ncmsny, 3348)\n",
      "него:он(P-3msgn, 3427)\n",
      "Мальчик:мальчик(Ncmsny, 3495)\n",
      "он:он(P-3msnn, 3564)\n",
      "он:он(P-3msnn, 3770)\n",
      "Мне:я(P-1-sdn, 3807)\n",
      "Ему:он(P-3msdn, 3860)\n",
      "ребенок:ребенок(Ncmsny, 4014)\n",
      "Мальчик:мальчик(Ncmsny, 4217)\n",
      "Я:я(P-1-snn, 4238)\n",
      "мне:я(P-1-sdn, 4261)\n",
      "Я:я(P-1-snn, 4280)\n",
      "Ты:ты(P-2-snn, 4420)\n",
      "Ты:ты(P-2-snn, 4446)\n",
      "мальчик:мальчик(Ncmsny, 4539)\n",
      "Его:его(P--msga, 4584)\n",
      "\n",
      "сольфеджио:сольфеджио(Ncnsdn, 1028)\n",
      "основной предмет:основной предмет(Ncmsan, 1454)\n",
      "сольфеджио:сольфеджио(Ncnsan, 1476)\n",
      "\n"
     ]
    }
   ],
   "source": [
    "scores, test_groups, test_chains = clf.score(rucoref_test, gs_mentions, gs_groups)\n",
    "coref_utils.print_chains_in_text(rucoref_test, 1, test_chains, gs_mentions)"
   ]
  },
  {
   "cell_type": "markdown",
   "metadata": {},
   "source": [
    "### Soon + morphology + distance + lexical"
   ]
  },
  {
   "cell_type": "markdown",
   "metadata": {},
   "source": [
    "For the comparison:\n",
    "```\n",
    "\\textsc{MLMentionPairMoreFeatures} &  $100.00$  & $79.29$ & $63.01$ & $70.22$  & $79.42$ & $48.39$ & $60.14$  & $53.65$ \\\\\n",
    "```"
   ]
  },
  {
   "cell_type": "markdown",
   "metadata": {},
   "source": [
    "Without DT optimisation:"
   ]
  },
  {
   "cell_type": "code",
   "execution_count": 91,
   "metadata": {
    "collapsed": false
   },
   "outputs": [
    {
     "name": "stdout",
     "output_type": "stream",
     "text": [
      "\\textsc{MLMentionPairMoreFeatures} &  $100.00$  & $78.15$ & $62.22$ & $69.28$  & $77.97$ & $47.43$ & $58.98$  & $52.25$ \\\\\n"
     ]
    }
   ],
   "source": [
    "clf = MLMentionPairMoreFeatures(scorer_path, feat_zones=('soon', 'morpho', 'dist'))\n",
    "clf.train(create_clf(min_samples_leaf=0.0001), rucoref_train, gs_mentions_train)\n",
    "coref_utils.get_score_table(clf, rucoref_test, gs_mentions, gs_groups, False)\n",
    "export_graphviz(clf.clf, out_file='soon_morph_dist_lex_dt_optimized.dot', feature_names=clf.feat_names, class_names=('noncoref', 'coref'))"
   ]
  },
  {
   "cell_type": "code",
   "execution_count": 89,
   "metadata": {
    "collapsed": false
   },
   "outputs": [
    {
     "name": "stdout",
     "output_type": "stream",
     "text": [
      "\\textsc{MLMentionPairMoreFeatures} &  $100.00$  & $78.17$ & $62.30$ & $69.34$  & $77.96$ & $47.52$ & $59.04$  & $52.37$ \\\\\n"
     ]
    }
   ],
   "source": [
    "clf = MLMentionPairMoreFeatures(scorer_path, feat_zones=('soon', 'morpho', 'dist', 'lexical'))\n",
    "clf.train(create_clf(min_samples_leaf=0.0001), rucoref_train, gs_mentions_train)\n",
    "coref_utils.get_score_table(clf, rucoref_test, gs_mentions, gs_groups, False)\n",
    "export_graphviz(clf.clf, out_file='soon_morph_dist_lex_dt_optimized.dot', feature_names=clf.feat_names, class_names=('noncoref', 'coref'))"
   ]
  },
  {
   "cell_type": "code",
   "execution_count": 90,
   "metadata": {
    "collapsed": false
   },
   "outputs": [
    {
     "name": "stdout",
     "output_type": "stream",
     "text": [
      "str_match 0.36755115053\n",
      "rel_pronouns2 0.205247914997\n",
      "poss_pronouns1 0.0622135520899\n",
      "pers_poss_pronouns1 0.0562714821312\n",
      "number-agr 0.0555103197136\n",
      "dist>2 0.0518017233242\n",
      "gender-agr 0.0513454447734\n",
      "deictic_pronouns2 0.0391501649676\n",
      "deictic_pronouns1 0.0253726685901\n",
      "sem_class_agreement 0.0220621852686\n",
      "refl_pronouns2 0.0178411907812\n",
      "refl_pronouns1 0.0129641315221\n",
      "nouns>3 0.0116017093975\n",
      "dist==1 0.00859351240373\n",
      "modif-fullNP 0.00461397083666\n",
      "appositive 0.00441165603147\n",
      "anaphor-is-demonstrative 0.00145214999794\n",
      "both-proper 0.00139554510939\n",
      "poss_pronouns2 0.000599527534198\n",
      "pers_poss_pronouns2 0.0\n",
      "rel_pronouns1 0.0\n",
      "is_abbr 0.0\n"
     ]
    }
   ],
   "source": [
    "for i, feat_importance in sorted(enumerate(clf.clf.feature_importances_), key=lambda f: f[1], reverse=True):\n",
    "    print clf.feat_names[i], feat_importance"
   ]
  },
  {
   "cell_type": "code",
   "execution_count": 88,
   "metadata": {
    "collapsed": false
   },
   "outputs": [
    {
     "name": "stdout",
     "output_type": "stream",
     "text": [
      "str_match 0.456049951565\n",
      "j_pronoun 0.252226553074\n",
      "i_pronoun 0.165498810985\n",
      "gender-agr 0.0456248720127\n",
      "number-agr 0.0394931088139\n",
      "sem_class_agreement 0.0272672140394\n",
      "dist==1 0.0138238395528\n",
      "both-proper 1.56499570026e-05\n",
      "both_pronouns 0.0\n",
      "anaphor-is-demonstrative 0.0\n",
      "appositive 0.0\n",
      "modif-fullNP 0.0\n",
      "is_abbr 0.0\n"
     ]
    }
   ],
   "source": [
    "for i, feat_importance in sorted(enumerate(clf.clf.feature_importances_), key=lambda f: f[1], reverse=True):\n",
    "    print clf.feat_names[i], feat_importance"
   ]
  },
  {
   "cell_type": "code",
   "execution_count": 86,
   "metadata": {
    "collapsed": false
   },
   "outputs": [
    {
     "name": "stdout",
     "output_type": "stream",
     "text": [
      "2 :  вагнер  —  Вагнер:вагнер(Npmsny, 1453) Профессор:профессор(Ncmsny, 1461) вагнер\n",
      "2 :  вагнер  —  Вагнер:вагнер(Npmsny, 2558) профессор:профессор(Ncmsny, 2926) вагнер\n",
      "2 :  сергеевна  —  Сергеевна:сергеевна(Npfsny, 946) Елена:елена(Npfsny, 1177) сергеевна\n",
      "1 :  брат сергеева  —  Семья:семья(Ncfsnn, 3685) Сергеева:сергеева(Npfsny, 3698) семья+,+брат+,+сергеева\n",
      "1 :  сергеева  —  брат:брат(Ncmsny, 3692) Сергеева:сергеева(Npfsny, 3698) брат+,+сергеева\n",
      "2 :  тихонович татьяна финогеновна  —  Тихонович:тихонович(Npmsny, 424) Иван:иван(Npmsny, 4584) тихонович\n",
      "2 :  тихонович татьяна финогеновна  —  Финогеновна:финогеновна(Npfsny, 1243) Иван:иван(Npmsny, 4584) финогеновна\n",
      "2 :  тихонович татьяна финогеновна  —  Тихоновича:тихонович(Npmsay, 1286) Иван:иван(Npmsny, 4584) тихонович\n",
      "2 :  тихонович татьяна финогеновна  —  Финогеновна:финогеновна(Npfsny, 1923) Иван:иван(Npmsny, 4584) финогеновна\n",
      "2 :  тихонович татьяна финогеновна  —  Финогеновна:финогеновна(Npfsny, 2000) Иван:иван(Npmsny, 4584) финогеновна\n",
      "2 :  тихонович татьяна финогеновна  —  Тихоновичу:тихонович(Npmsdy, 2263) Иван:иван(Npmsny, 4584) тихонович\n",
      "2 :  тихонович татьяна финогеновна  —  Тихонович:тихонович(Npmsny, 2455) Иван:иван(Npmsny, 4584) тихонович\n",
      "2 :  тихонович татьяна финогеновна  —  Тихоновича:тихонович(Npmsay, 3140) Иван:иван(Npmsny, 4584) тихонович\n",
      "2 :  тихонович татьяна финогеновна  —  Тихонович:тихонович(Npmsny, 3526) Иван:иван(Npmsny, 4584) тихонович\n",
      "2 :  тихонович татьяна финогеновна  —  Тихоновича:тихонович(Npmsay, 3804) Иван:иван(Npmsny, 4584) тихонович\n",
      "2 :  тихонович татьяна финогеновна  —  Тихонович:тихонович(Npmsny, 4401) Иван:иван(Npmsny, 4584) тихонович\n",
      "2 :  финогеновна  —  Финогеновна:финогеновна(Npfsny, 1243) Татьяна:татьяна(Npfsny, 1915) финогеновна\n",
      "2 :  финогеновна  —  Финогеновна:финогеновна(Npfsny, 1923) Татьяна:татьяна(Npfsny, 1992) финогеновна\n",
      "2 :  тихонович  —  Тихонович:тихонович(Npmsny, 40) Иван:иван(Npmsny, 418) тихонович\n",
      "2 :  тихонович  —  Тихоновича:тихонович(Npmsay, 1286) Ивану:иван(Npmsdy, 2256) тихонович\n",
      "2 :  тихонович  —  Тихонович:тихонович(Npmsny, 3526) Ивана:иван(Npmsay, 3798) тихонович\n",
      "2 :  тихонович  —  Тихонович:тихонович(Npmsny, 4401) Иван:иван(Npmsny, 4584) тихонович\n",
      "2 :  сэннокс  —  Сэннокс:сэннокс(Npmsny, 4692) лорд:лорд(Ncmsny, 4887) сэннокс\n",
      "2 :  сэннокс  —  Сэннокс:сэннокс(Npmsny, 4805) лорд:лорд(Ncmsny, 4887) сэннокс\n",
      "2 :  сэннокс  —  Сэннокс:сэннокс(Npmsny, 4692) леди:леди(Ncfsny, 4800) сэннокс\n",
      "1 :  проводница  —  парень:парень(Ncmsny, 3912) проводница:проводница(Ncfsny, 3922) парень+,+-+проводница\n",
      "1 :  школа  —  колхоз:колхоз(Ncmsan, 5514) школу:школа(Ncfsan, 5526) колхоз+,+про+школа\n",
      "2 :  павловна  —  Павловны:павловна(Npfsgy, 2365) Вера:вера(Npfsny, 2399) павловна\n",
      "2 :  сатина  —  Сатиной:сатина(Npfsgy, 7475) Наташа:наташа(Npfsny, 7974) сатина\n",
      "2 :  сатина  —  Сатина:сатина(Npfsny, 8682) Наташа:наташа(Npfsny, 9037) сатина\n",
      "1 :  миссочкой  —  сестрами:сестра(Ncfpiy, 3479) Миссочкой:миссочкой(Npmsiy, 3490) сестра+и+миссочкой\n",
      "2 :  маремуха  —  Маремуха:маремуха(Npmsny, 1774) Петька:петька(Npmsny, 1874) маремуха\n",
      "1 :  незабудка роза гогольяновка гоголь  —  глаза:глаз(Ncmpnn, 2860) гогольяновка:гогольяновка(Ncfsnn, 2923) глаз+-+-+незабудка+;+румяный+роза+щека+;+голубой+суконный+платье+,+гогольяновка+,+из+гимназия+гоголь+-+яновского+;+весь+слово+,+весь+движение+-+-+голубой\n",
      "1 :  роза гогольяновка гоголь  —  незабудки:незабудка(Ncfpnn, 2869) гогольяновка:гогольяновка(Ncfsnn, 2923) незабудка+;+румяный+роза+щека+;+голубой+суконный+платье+,+гогольяновка+,+из+гимназия+гоголь+-+яновского+;+весь+слово+,+весь+движение+-+-+голубой\n",
      "1 :  гогольяновка гоголь  —  розы:роза(Ncfpnn, 2888) гогольяновка:гогольяновка(Ncfsnn, 2923) румяный+роза+щека+;+голубой+суконный+платье+,+гогольяновка+,+из+гимназия+гоголь+-+яновского+;+весь+слово+,+весь+движение+-+-+голубой\n",
      "2 :  васильевна  —  Васильевна:васильевна(Npfsny, 205) Марью:марья(Npfsay, 253) васильевна\n",
      "2 :  васильевна  —  Васильевне:васильевна(Npfsdy, 2072) Марья:марья(Npfsny, 2242) васильевна\n",
      "1 :  отец  —  Сундучанский:сундучанский(Npmsny, 3926) отец:отец(Ncmsny, 4111) сундучанский+-+отец\n",
      "1 :  саломирсков  —  барыня:барыня(Ncfsny, 1507) Саломирсков:саломирсков(Ncmsnn, 1516) этот+барыня+-+саломирсков\n",
      "1 :  барин  —  лошадь:лошадь(Ncfsny, 2315) барин:барин(Ncmsny, 2332) у+мужик+,+конечно+,+лошадь+плохой+,+и+барин\n",
      "1 :  барин  —  лошадь:лошадь(Ncfsny, 2315) барина:барин(Ncmsay, 4201) у+мужик+,+конечно+,+лошадь+плохой+,+и+барин\n",
      "1 :  нос  —  иссиза:иссиза(Ncfsnn, 2288) носу:нос(Ncmsdn, 3857) иссиза+-+красный+нос+,+распространяющий+какой+-+то+лаковый+блеск+по+угреватому+лицо+,+открытый+седой+голова+с+волос\n",
      "2 :  николаевна  —  Николаевны:николаевна(Npfsgy, 4974) Наталья:наталья(Npfsny, 5160) николаевна\n",
      "2 :  марковна  —  Марковна:марковна(Npfsny, 358) Ида:ида(Npfsny, 443) марковна\n",
      "2 :  марковна  —  Марковна:марковна(Npfsny, 1081) Ида:ида(Npfsny, 1242) марковна\n",
      "2 :  марковна  —  Марковна:марковна(Npfsny, 1408) Ида:ида(Npfsny, 1492) марковна\n",
      "1 :  море  —  решетка:решетка(Ncfsnn, 651) море:море(Ncnsnn, 671) толстый+железный+решетка+,+за+окно+-+море\n",
      "1 :  хозе мигуэль диац инсургент флибустьер  —  Мария:мария(Npfsny, 309) инсургент:инсургент(Ncmsny, 334) мария+-+хозе+-+мигуэль+-+диац+,+инсургент+и+флибустьер\n",
      "1 :  гость  —  честь:честь(Ncfsan, 4744) гостя:гость(Ncmsay, 4750) честь+гость\n",
      "1 :  аргентина  —  условиях:условие(Ncnpln, 320) Аргентине:аргентина(Ncfsln, 349) условие+валютный+кризис+в+аргентина\n",
      "1 :  кпу  —  ПР:пр(Ncmsdn, 1130) КПУ:кпу(Ncmsdn, 1135) пр+и+кпу\n",
      "1 :  дочка мама  —  втроём:втроем(Ncmsin, 2340) дочкой:дочка(Ncfsiy, 2351) втроем+—+с+дочка+и+мама+виктор\n",
      "1 :  дочь мама  —  супруга:супруга(Ncfsny, 2659) дочь:дочь(Ncfsny, 2668) в+настоящий+время+супруга+,+дочь+и+мама+виктор+бута\n",
      "2 :  бут  —  Бут:бут(Npmsny, 1275) Алла:алла(Npfsny, 1715) бут\n",
      "2 :  перельман  —  Перельман:перельман(Npmsny, 415) Григорию:григорий(Npmsdy, 661) перельман\n",
      "1 :  злоупотребление чечня  —  нарушениях:нарушение(Ncnpln, 610) Чечне:чечня(Ncfsln, 642) нарушение+и+злоупотребление+в+чечня\n",
      "1 :  чечня  —  злоупотреблениях:злоупотребление(Ncnpln, 623) Чечне:чечня(Ncfsln, 642) злоупотребление+в+чечня\n",
      "1 :  сша ...  —  убийстве:убийство(Ncnsln, 2949) США:сша(Ncmpln, 3073) жестокий+убийство+анна+политковской+,+бесстрашный+журналистка+,+так+и+в+сша+...\n",
      "2 :  путин  —  Путина:путин(Npmsgy, 176) президент:президент(Ncmsny, 2705) путин\n",
      "1 :  сирия проведение прекращение предоставление  —  создании:создание(Ncnsln, 1371) Сирии:сирия(Ncfsln, 1382) создание+в+сирия+плюралистической+многопартийной+система+,+проведение+там+честный+выборы+под+наблюдение+иностранный+представитель+,+прекращение+насилие+и+предоставление+свобода+сми\n",
      "1 :  сирия  —  событиях:событие(Ncnpln, 1620) Сирии:сирия(Ncfsln, 1631) событие+в+сирия\n",
      "1 :  австралия дэвид хиллмен  —  Председатель:председатель(Ncmsny, 744) Хиллмен:хиллмен(Npmsny, 937) председатель+sleep+health+foundation+(+австралия+)+дэвид+хиллмен\n",
      "1 :  дэвид хиллмен  —  Австралия:австралия(Ncfsnn, 782) Хиллмен:хиллмен(Npmsny, 937) австралия+)+дэвид+хиллмен\n",
      "1 :  хиллмен  —  Дэвид:дэвид(Npmsny, 793) Хиллмен:хиллмен(Npmsny, 937) дэвид+хиллмен\n",
      "1 :  животное  —  рыбы:рыба(Ncfpny, 1978) животных:животное(Ncnpgy, 2881) рыба+и+морской+животное\n",
      "1 :  женька скоромахов  —  ихтиолог:ихтиолог(Ncmsny, 1627) Женька:женька(Npcsny, 1779) мой+знакомый+ихтиолог+женька+скоромахов\n",
      "1 :  let армия группировка  —  Тайба:тайба(Ncfsnn, 2688) LET:let(Ncnpnn, 2695) тайба+(+let+,+армия+за+чистота+)+,+воинственный+группировка+в+пакистан\n",
      "2 :  газа  —  Газе:газа(Ncfsln, 4381) сектор:сектор(Ncmsnn, 4883) газа\n",
      "2 :  газа  —  Газы:газа(Ncfsgn, 4657) сектор:сектор(Ncmsnn, 4883) газа\n",
      "1 :  хамасом  —  Каидой:каидой(Ncfsin, 2865) Хамасом:хамасом(Ncmsin, 2875) каидой+,+и+хамасом\n",
      "1 :  хамасом  —  Израилем:израиль(Ncmsin, 3641) Хамасом:хамасом(Ncmsin, 3652) израиль+и+хамасом\n",
      "1 :  министр владимир путин  —  премьер:премьер(Ncmsny, 29) Путина:путин(Npmsgy, 482) российский+премьер+-+министр+владимир+путин\n",
      "1 :  владимир путин  —  министр:министр(Ncmsny, 37) Путина:путин(Npmsgy, 482) министр+владимир+путин\n",
      "1 :  путин  —  Владимир:владимир(Npmsny, 45) Путина:путин(Npmsgy, 482) владимир+путин\n",
      "1 :  вто  —  переговоры:переговоры(Ncmpan, 661) ВТО:вто(Ncnsan, 695) успешный+переговоры+по+вступление+россия+в+вто+с+первый+заместитель+путин+игорь+шувалов+,+министр+финансы+алексей+кудрин+и+министр+экономический+развитие+эльвира+набиуллиной\n",
      "1 :  вто  —  потребности:потребность(Ncfpan, 2375) ВТО:вто(Ncnsan, 2389) потребность+в+вто\n",
      "1 :  вто  —  курс:курс(Ncmsan, 3738) ВТО:вто(Ncnsan, 3769) курс+по+вопрос+о+вступление+в+вто\n",
      "1 :  вто  —  прорыв:прорыв(Ncmsan, 5685) ВТО:вто(Ncnsan, 5728) окончательный+прорыв+в+переговоры+о+вступление+россия+в+вто\n",
      "1 :  вто  —  позицию:позиция(Ncfsan, 6222) ВТО:вто(Ncnsan, 6246) свой+позиция+по+вступление+в+вто\n",
      "1 :  вто  —  переговоры:переговоры(Ncmpan, 6283) ВТО:вто(Ncnsan, 6316) переговоры+о+вступление+россия+в+вто+после+война+в+грузия+в+август+@card@+год+только+для+то+,+чтобы\n",
      "1 :  казахстан  —  Белоруссией:белоруссия(Ncfsin, 1905) Казахстаном:казахстан(Ncmsin, 1919) белоруссия+и+казахстан\n",
      "1 :  грузия  —  наступление:наступление(Ncnsan, 4913) Грузию:грузия(Ncfsan, 4928) свой+пропагандистский+наступление+на+грузия\n",
      "1 :  грузия август  —  вступлении:вступление(Ncnsln, 6296) Грузии:грузия(Ncfsln, 6334) вступление+россия+в+вто+после+война+в+грузия+в+август+@card@+год+только+для+то+,+чтобы\n",
      "1 :  абхазия  —  Грузии:грузия(Ncfsln, 4994) Абхазии:абхазия(Ncfsln, 5003) грузия+и+абхазия\n",
      "2 :  протокол  —  Протокол:протокол(Ncmsnn, 211) Монреальский:монреальский(Afpmsnf, 1079) протокол\n",
      "1 :  израиль  —  Палестиной:палестина(Ncfsin, 797) Израилем:израиль(Ncmsin, 810) палестина+и+израиль\n",
      "1 :  министр тони блэр  —  премьер:премьер(Ncmsny, 3308) Блэр:блэр(Npmsny, 4672) бывший+премьер+-+министр+великобритания+тони+блэр\n",
      "1 :  тони блэр  —  министр:министр(Ncmsny, 3316) Блэр:блэр(Npmsny, 4672) за+последний+два+год+министр+великобритания+тони+блэр\n",
      "1 :  блэр  —  Тони:тони(Npmsny, 3339) Блэр:блэр(Npmsny, 4672) тони+блэр\n",
      "1 :  бенджамином нетаньяху  —  Ликуд:ликуд(Npmsny, 976) Нетаньяху:нетаньяху(Npcsdy, 4788) ликуд+бенджамином+нетаньяху\n",
      "1 :  нетаньяху  —  Бенджамином:бенджамином(Npmsny, 982) Нетаньяху:нетаньяху(Npcsdy, 4788) бенджамином+нетаньяху\n",
      "1 :  санников  —  Андрей:андрей(Npmsny, 281) Санников:санников(Npmsny, 767) андрей+санников\n",
      "1 :  iston portes отель  —  palace:palace(Ncmsnn, 4142) отели:отель(Ncmpnn, 4175) palace+,+iston+,+portes+beach+,+этот+отель+по+ландшафтному+дизайн+,+да+и\n",
      "1 :  portes отель  —  Iston:iston(Ncfsnn, 4150) отели:отель(Ncmpnn, 4175) iston+,+portes+beach+,+этот+отель+по+ландшафтному+дизайн+,+да+и\n",
      "1 :  отель  —  Portes:portes(Ncmpnn, 4157) отели:отель(Ncmpnn, 4175) portes+beach+,+этот+отель+по+ландшафтному+дизайн+,+да+и\n",
      "1 :  меркурий  —  Луна:луна(Ncfsnn, 3688) Меркурий:меркурий(Ncmsnn, 3695) луна+и+меркурий+для+этот+тело\n",
      "1 :  луна  —  отношении:отношение(Ncnsln, 7758) Луне:луна(Ncfsln, 7789) отношение+возможность+жизнь+на+луна\n",
      "1 :  марс  —  планета:планета(Ncfsnn, 10784) Марс:марс(Ncmsnn, 10792) планета+марс\n",
      "1 :  земля  —  Солнцем:солнце(Ncnsin, 7954) Землей:земля(Ncfsin, 7964) солнце+и+земля\n",
      "1 :  ф.л морошкин  —  профессор:профессор(Ncmsny, 1418) Морошкин:морошкин(Npmsny, 2369) профессор+московский+университет+ф.л+.+морошкин\n",
      "2 :  ольденбург  —  Ольденбург:ольденбург(Ncmsny, 12316) С.Ф:с.ф(Npmsny, 12999) ольденбург\n",
      "2 :  поэт тагор  —  поэты:поэт(Ncmpny, 14857) писатель:писатель(Ncmsny, 15545) поэт\n",
      "1 :  ссср  —  Индией:индия(Ncfsin, 15822) СССР:ссср(Ncmsin, 15831) индия+и+ссср\n",
      "1 :  индия  —  Европе:европа(Ncfsln, 12444) Индии:индия(Ncfsln, 12453) европа+и+индия\n",
      "1 :  байер  —  академик:академик(Ncmsny, 2387) Байера:байер(Ncmsgn, 2460) русский+академик+байер\n",
      "1 :  москва  —  Толстой:толстой(Npmsny, 14912) Москве:москва(Ncfsln, 15625) толстой+и+москва\n",
      "1 :  ленинград  —  выставке:выставка(Ncfsln, 10518) Ленинграде:ленинград(Ncmsln, 10535) постоянный+выставка+музей+в+ленинград\n",
      "1 :  ленинград  —  Москве:москва(Ncfsln, 15625) Ленинграде:ленинград(Ncmsln, 15634) москва+и+ленинград\n",
      "1 :  гринвуд  —  Том:том(Npmsny, 5611) Гринвуд:гринвуд(Npmsny, 5827) ﻿заезжий+том+гринвуд\n",
      "1 :  эстония  —  Республике:республика(Ncfsln, 3609) Эстонии:эстония(Ncfsln, 3622) латвийский+республика+и+эстония\n",
      "1 :  эстония  —  Латвии:латвия(Ncfsln, 5465) Эстонии:эстония(Ncfsln, 5474) латвия+и+эстония\n",
      "1 :  счет россия продажа  —  спасение:спасение(Ncnsan, 3639) Россию:россия(Ncfsan, 3667) спасение+за+счет+экспорт+в+россия+или+продажа+актив+русский+инвестор\n",
      "1 :  губернатор чиркунов  —  Олег:олег(Npmsny, 971) Чиркунов:чиркунов(Npmsny, 1140) губернатор+пермский+край+олег+чиркунов\n",
      "1 :  чиркунов  —  Олег:олег(Npmsny, 971) Чиркунов:чиркунов(Npmsny, 1140) олег+чиркунов\n",
      "1 :  аеб дэвид томас  —  председатель:председатель(Ncmsny, 998) АЕБ:аеб(Ncmsnn, 1039) председатель+комитет+автопроизводитель+аеб+дэвид+томас\n",
      "1 :  автомобиль  —  продажу:продажа(Ncfsan, 6861) автомобиль:автомобиль(Ncmsan, 6869) продажа+автомобиль\n",
      "1 :  луис борхес павич  —  Хорхе:хорхе(Npmsny, 4227) Павич:павич(Npmsny, 4246) и+хорхе+луис+борхес+,+павич\n",
      "1 :  борхес павич  —  Луис:луис(Npmsny, 4233) Павич:павич(Npmsny, 4246) луис+борхес+,+павич\n",
      "1 :  павич  —  Борхес:борхес(Npmsny, 4238) Павич:павич(Npmsny, 4246) борхес+,+павич\n",
      "2 :  кортасар  —  Кортасар:кортасар(Npmsny, 3740) Хулио:хулио(Npmsny, 4038) кортасар\n",
      "2 :  луис борхес  —  Борхес:борхес(Npmsny, 3751) Хорхе:хорхе(Npmsny, 4227) борхес\n",
      "2 :  данхэмом  —  Данхэмом:данхэмом(Ncmsin, 304) Эдвардом:эдвард(Npmsiy, 3398) данхэмом\n",
      "2 :  кольцо  —  кольцо:кольцо(Ncnsnn, 9791) ε:ε(Ncnsnn, 9841) кольцо\n",
      "1 :  кольцо  —  ε:ε(Ncnsnn, 9841) кольце:кольцо(Ncnsln, 10004) кольцо+ε\n",
      "1 :  офелия  —  Корделия:корделия(Ncfsnn, 10845) Офелия:офелия(Npfsny, 10869) корделия+(+внутренний+)+и+офелия+(+внешний\n",
      "1 :  птица  —  гагар:гагар(Ncmsnn, 923) птицы:птица(Ncfpny, 934) гагар+:+этот+птица\n",
      "1 :  ﻿гаги  —  Голос:голос(Ncmsnn, 3296) Гаги:﻿гаги(Ncmpnn, 3302) голос+﻿гаги\n",
      "1 :  гага  —  История:история(Ncfsnn, 13884) гаги:гага(Ncfpny, 13908) история+взаимоотношение+гага+и+человек\n",
      "1 :  конференция  —  конкурс:конкурс(Ncmsnn, 58) конференция:конференция(Ncfsnn, 272) конкурс+-+конференция\n",
      "1 :  ресурс  —  Grockit:grockit(Ncmsnn, 2376) ресурса:ресурс(Ncmsgn, 2540) онлайновый+ресурс+grockit\n",
      "2 :  ленфильм  —  Ленфильм:ленфильм(Ncmsnn, 4286) общество:общество(Ncnsnn, 4316) ленфильм\n",
      "1 :  система  —  система:система(Ncfsnn, 986) системы:система(Ncfsgn, 1283) французский+система+голосование+в+два+тур+или+российский+пропорциональный+система\n",
      "1 :  лейборист  —  консерваторы:консерватор(Ncmpny, 2940) лейбористы:лейборист(Ncmpny, 2958) »+(+консерватор+плюс+лейборист+)+,+подобный+тот\n",
      "1 :  интернет  —  численность:численность(Ncfsnn, 793) интернета:интернет(Ncmsgn, 1398) ﻿общая+численность+активный+интернет+-+аудитория\n",
      "1 :  интернет  —  рост:рост(Ncmsnn, 895) интернета:интернет(Ncmsgn, 1398) ﻿среднеквартальный+рост+интернет+-+аудитория+за+@card@+год+в+целое\n",
      "1 :  интернет  —  темпы:темп(Ncmpnn, 1046) интернета:интернет(Ncmsgn, 1398) темп+рост+аудитория+интернет+-+пользователь\n",
      "1 :  интернет  —  мониторинг:мониторинг(Ncmsnn, 1245) интернета:интернет(Ncmsgn, 1398) постоянный+мониторинг+распространение+интернет+в+рамка+исследование+«+интернет+в+россия\n",
      "1 :  интернет  —  доля:доля(Ncfsnn, 2198) интернета:интернет(Ncmsgn, 2355) доля+интернет+-+пользователь+в+возрастной+группа\n",
      "1 :  интернет  —  численность:численность(Ncfsnn, 2632) интернета:интернет(Ncmsgn, 2847) численность+интернет+-+аудитория+в+этот+возрастной+группа\n",
      "1 :  россия  —  рамках:рамка(Ncfpln, 1284) России:россия(Ncfsln, 1317) рамка+исследование+«+интернет+в+россия\n",
      "1 :  gfdl  —  Documentation:documentation(Ncmsnn, 421) GFDL:gfdl(Ncmsnn, 444) documentation+license+(+gfdl\n",
      "1 :  gfdl  —  Documentation:documentation(Ncmsnn, 2253) GFDL:gfdl(Ncmsnn, 2276) documentation+license+(+gfdl\n",
      "2 :  джаз  —  джаз:джаз(Ncmsnn, 1830) фри:﻿фри(Afpfsif, 1918) джаз\n",
      "2 :  джаз  —  джаза:джаз(Ncmsgn, 9522) фри:﻿фри(Afpmsnf, 9875) джаз\n",
      "1 :  пианист тэйлор  —  Сесил:сесил(Npmsny, 540) Тэйлора:тэйлор(Npmsgy, 698) пианист+сесил+тэйлор\n",
      "1 :  тэйлор  —  Сесил:сесил(Npmsny, 540) Тэйлора:тэйлор(Npmsgy, 698) сесил+тэйлор\n",
      "2 :  колтрейн  —  Колтрейна:колтрейн(Npmsgy, 631) Джон:джон(Npmsny, 2435) колтрейн\n",
      "2 :  колтрейн  —  Колтрейна:колтрейн(Npmsgy, 8021) Джон:джон(Npmsny, 10137) колтрейн\n",
      "1 :  эйлер  —  Альберт:альберт(Npmsny, 1994) Эйлера:эйлер(Npmsgy, 8083) альберт+эйлер\n",
      "1 :  диксон  —  Билл:билл(Npmsny, 7278) Диксон:диксон(Npmsny, 7561) билл+диксон\n",
      "1 :  черри  —  Дон:дон(Npmsny, 773) Черри:черри(Npmsny, 8069) дон+черри\n",
      "1 :  черри  —  Шеппа:шеппа(Npmsny, 8055) Черри:черри(Npmsny, 8069) шеппа+(+@card@+)+,+черри+(+@card@+)+,+эйлер+(+@card@\n",
      "2 :  черри  —  Черри:черри(Npmsny, 8069) Дон:дон(Npmsny, 10152) черри\n",
      "2 :  сэндерс  —  Сэндерс:сэндерс(Npmsny, 790) Фэроу:фэроу(Npmsny, 2450) сэндерс\n",
      "2 :  брэкстон  —  Брэкстон:брэкстон(Npmsny, 2496) Энтони:энтони(Npmsny, 5414) брэкстон\n",
      "2 :  брэкстон  —  Брэкстон:брэкстон(Npmsny, 5421) Энтони:энтони(Npmsny, 8948) брэкстон\n",
      "2 :  брэкстон  —  Брэкстон:брэкстон(Npmsny, 8955) Энтони:энтони(Npmsny, 11391) брэкстон\n",
      "2 :  брэкстон  —  Брэкстон:брэкстон(Npmsny, 11398) Энтони:энтони(Npmsny, 15479) брэкстон\n",
      "1 :  абрамс основатель энтони брэкстон  —  Ричард:ричард(Npmsny, 8920) основатель:основатель(Ncmsny, 8935) ричард+абрамс+(+основатель+)+,+энтони+брэкстон\n",
      "1 :  основатель энтони брэкстон  —  Абрамс:абрамс(Npmsny, 8927) основатель:основатель(Ncmsny, 8935) абрамс+(+основатель+)+,+энтони+брэкстон\n",
      "2 :  холланд  —  Холланда:холланд(Npmsay, 10979) Дэйв:дэйв(Npmsny, 11408) холланд\n",
      "2 :  шоу  —  шоу:шоу(Ncnsnn, 723) ток:ток(Ncmsnn, 3866) шоу\n",
      "1 :  гордон  —  Александр:александр(Npmsny, 3153) Гордон:гордон(Npmsnn, 4441) александр+гордон\n",
      "2 :  гордон  —  Гордон:гордон(Npmsnn, 4441) Александр:александр(Npmsny, 4716) гордон\n",
      "1 :  гордон  —  Александр:александр(Npmsny, 4716) Гордона:гордон(Npmsgy, 4843) александр+гордон\n",
      "1 :  гордон  —  Александр:александр(Ncmsnn, 5018) Гордон:гордон(Npmsny, 5207) александр+гордон\n",
      "1 :  собчак  —  поцелуями:поцелуй(Ncmpin, 1518) Собчак:собчак(Npmsiy, 1530) светский+поцелуй+с+собчак+и+канделаки\n",
      "1 :  канделаки собчак  —  наряды:наряд(Ncmpnn, 5971) Собчак:собчак(Npmsny, 5990) наряд+канделаки+и+собчак\n",
      "2 :  канделаки  —  Канделаки:канделаки(Ncmpny, 3629) Тина:тина(Ncmsny, 4747) канделаки\n",
      "1 :  канделаки собчак  —  наряды:наряд(Ncmpnn, 5971) Канделаки:канделаки(Npmsny, 5978) наряд+канделаки+и+собчак\n",
      "1 :  акция  —  День:день(Ncmsnn, 121) акции:акция(Ncfsgn, 272) очередной+несанкционированная+акция+протест+«+день+гнев+»\n",
      "1 :  дарвин  —  Поэтому:поэтому(Ncmsny, 1653) Дарвин:дарвин(Npmsny, 1661) поэтому+дарвин\n",
      "1 :  француз  —  англичане:англичанин(Ncmpny, 1986) французы:француз(Ncmpny, 2000) англичанин+или+француз\n",
      "1 :  пугачёва  —  Алла:алла(Npfsny, 2307) Пугачевой:пугачёва(Npfsgy, 2671) алла+пугачёва\n",
      "2 :  пугачёва  —  Пугачевой:пугачёва(Npfsgy, 2671) Алла:алла(Npfsny, 4110) пугачёва\n",
      "2 :  пугачёва  —  Пугачеву:пугачёва(Npfsay, 5371) Аллой:алла(Npfsiy, 5523) пугачёва\n",
      "1 :  пугачёва  —  Алла:алла(Npfsny, 7662) Пугачевой:пугачёва(Npfsgy, 7911) алла+пугачёва\n",
      "1 :  грузин  —  абхазы:абхазы(Ncmpnn, 3267) грузины:грузин(Ncmpny, 3277) не+абхазы+,+а+грузин\n",
      "1 :  хант  —  С:с(Npmsny, 3039) Хант:хант(Npmsny, 3170) с+.+хант\n",
      "1 :  скрипач граппелли  —  Стефан:стефан(Npmsny, 13187) Граппелли:граппелли(Ncmpny, 13403) джазовый+скрипач+стефан+граппелли\n",
      "1 :  граппелли  —  Стефан:стефан(Npmsny, 13187) Граппелли:граппелли(Ncmpny, 13403) стефан+граппелли\n",
      "1 :  скрипач менухин  —  Иегуди:иегуди(Npmsny, 13234) Менухин:менухин(Ncmsnn, 13363) скрипач+классический+музыка+иегуди+менухин\n",
      "1 :  менухин  —  Иегуди:иегуди(Npmsny, 13234) Менухин:менухин(Ncmsnn, 13363) иегуди+менухин\n",
      "2 :  друг коллега харпер  —  Харпер:харпер(Npmsny, 1274) Рой:рой(Npmsny, 14640) харпер\n",
      "1 :  друг коллега харпер  —  Рой:рой(Npmsny, 14640) Харпер:харпер(Ncmsny, 14777) друг+и+коллега+pink+floyd+рой+харпер\n",
      "1 :  харпер  —  Рой:рой(Npmsny, 14640) Харпер:харпер(Ncmsny, 14777) рой+харпер\n",
      "2 :  торгерсон  —  Торгерсон:торгерсон(Npmsny, 10539) Сторм:сторм(Ncmsnn, 15487) торгерсон\n",
      "1 :  флойд  —  Пинк:пинк(Ncfsnn, 22035) Флойда:флойд(Npmsgy, 24488) пинк+флойд\n",
      "2 :  роуд  —  Роуд:роуд(Ncmsln, 2951) студии:студия(Ncfsln, 5774) роуд\n",
      "2 :  роуд  —  Роуд:роуд(Ncmsln, 5786) студии:студия(Ncfsln, 11433) роуд\n",
      "1 :  барретта  —  Сида:сида(Npmsny, 8276) Барретта:барретта(Npmsgy, 8879) бывший+участник+pink+floyd+сида+барретта\n",
      "1 :  барретта  —  Сида:сида(Npmsny, 8276) Барретта:барретта(Npmsgy, 8879) pink+floyd+сида+барретта\n",
      "2 :  райт  —  Райт:райт(Npmsny, 1914) Ричард:ричард(Npmsny, 6470) райт\n",
      "1 :  райт  —  Ричард:ричард(Npmsny, 6470) Райт:райт(Npmsny, 10120) ричард+райт\n",
      "2 :  уотерс  —  Уотерс:уотерс(Npmsny, 6046) Роджер:роджер(Npmsny, 6534) уотерс\n",
      "1 :  уотерс  —  Роджер:роджер(Npmsny, 6534) Уотерс:уотерс(Npmsny, 7790) роджер+уотерс\n",
      "2 :  ﻿барабанщик мэйсон  —  Мэйсон:мэйсон(Npmsny, 6055) Ник:ник(Npmsny, 6591) мэйсон\n",
      "1 :  гилмор  —  Дэвид:дэвид(Npmsny, 7732) Гилмор:гилмор(Npmsnn, 8291) дэвид+гилмор\n",
      "2 :  гилмор  —  Гилмор:гилмор(Npmsny, 14904) Дэвид:дэвид(Npmsny, 24595) гилмор\n",
      "1 :  президент обама  —  Барак:барак(Ncmsnn, 710) Обама:обама(Npmsny, 840) президент+сша+барак+обама\n",
      "1 :  колчак  —  Стоящий:стоящий(Ncmsny, 5065) Колчак:колчак(Npmsny, 5085) стоящий+на+пригорок+колчак\n",
      "2 :  крамской  —  Крамской:крамской(Npmsny, 943) Григорий:григорий(Npmsny, 4595) крамской\n",
      "1 :  компания  —  Нефтестрой:нефтестрой(Ncmsnn, 3824) компания:компания(Ncfsnn, 3882) компания+ооо+«+нефтестрой+»\n",
      "1 :  анкарой  —  Киевом:киев(Ncmsin, 628) Анкарой:анкарой(Ncfsin, 637) киев+и+анкарой\n",
      "1 :  турция  —  Украина:украина(Ncfsnn, 4113) Турция:турция(Ncfsnn, 4123) украина+и+турция+в+вопрос+евроинтеграции\n",
      "2 :  эрдоган  —  Эрдоган:эрдоган(Npmsny, 1007) Реджеп:реджеп(Npmsny, 1224) эрдоган\n",
      "2 :  министр эрдоганом  —  министра:министр(Ncmsgy, 1432) Реджепом:реджепом(Ncmsin, 1892) министр\n",
      "2 :  президент януковичем  —  Януковичем:януковичем(Npmsiy, 1942) Виктором:виктор(Npmsiy, 2347) януковичем\n",
      "1 :  крым  —  строительстве:строительство(Ncnsln, 2737) Крыму:крым(Ncmsln, 2766) строительство+университет+в+крым+для+наш+народ\n",
      "2 :  джемилев  —  Джемилев:джемилев(Npmsny, 2092) Мустафа:мустафа(Npmsny, 2379) джемилев\n",
      "2 :  джемилев  —  Джемилев:джемилев(Npmsny, 3025) Мустафа:мустафа(Npmsny, 3492) джемилев\n",
      "2 :  джемилев  —  Джемилев:джемилев(Npmsny, 3500) Мустафа:мустафа(Npmsny, 4095) джемилев\n",
      "2 :  джемилев  —  Джемилев:джемилев(Npmsny, 4103) Мустафа:мустафа(Npmsny, 4535) джемилев\n",
      "2 :  джемилев  —  Джемилев:джемилев(Npmsny, 4543) Мустафа:мустафа(Npmsny, 5085) джемилев\n",
      "1 :  молдова  —  условиях:условие(Ncnpln, 5894) Молдове:молдова(Ncfsln, 5963) условие+политический+нестабильность+и+дезинтеграционных+процесс+в+молдова\n",
      "1 :  глава калашников  —  Сергей:сергей(Npmsny, 181) Калашников:калашников(Npmsny, 879) глава+комитет+нижний+палата+по+охрана+здоровье+сергей+калашников\n",
      "1 :  калашников лдпр  —  Сергей:сергей(Npmsny, 181) Калашников:калашников(Npmsny, 879) сергей+калашников+(+лдпр\n",
      "1 :  лютер кинг  —  Мартин:мартин(Npmsny, 528) Кинга:кинг(Npmsgy, 702) мартин+лютер+кинг\n",
      "1 :  кинг  —  Лютер:лютер(Npmsny, 535) Кинга:кинг(Npmsgy, 702) лютер+кинг\n",
      "1 :  агафонова  —  попытка:попытка(Ncfsnn, 907) Агафонова:агафонова(Npfsny, 915) попытка+агафонова\n",
      "1 :  мирзаев  —  спортсмен:спортсмен(Ncmsny, 1352) Мирзаев:мирзаев(Npmsny, 1362) спортсмен+мирзаев\n",
      "1 :  дотком  —  Ким:ким(Afpmsif, 1592) Дотком:дотком(R-----, 1688) ким+дотком\n",
      "1 :  америка  —  вопрос:вопрос(Ncmsan, 1904) Америку:америка(Ncfsan, 1941) вопрос+объем+экстрадиция+ким+доткома+в+америка\n",
      "1 :  кличко жена дитя  —  члены:член(Ncmpny, 644) Кличко:кличко(Ncnsnn, 656) член+семья+кличко+—+жена+и+дитя\n",
      "1 :  кличко год  —  Доход:доход(Ncmsnn, 678) Кличко:кличко(Ncnsnn, 684) доход+кличко+в+@card@+год\n",
      "2 :  сон  —  Сон:сон(Ncmsnn, 769) Чан:чан(Npmsny, 1036) сон\n",
      "2 :  гын нёль  —  Нёль:нёль(Ncfsnn, 284) О:о(Npmsny, 278) нёль\n",
      "2 :  гык  —  Гык:гык(Ncmsny, 573) О:о(Npmsny, 571) гык\n",
      "2 :  гык  —  Гык:гык(Ncmsny, 1094) О:о(Npmsny, 571) гык\n",
      "2 :  гык  —  Гык:гык(Ncmsny, 573) О:о(Ncmsnn, 1092) гык\n",
      "2 :  гык  —  Гык:гык(Ncmsny, 1402) О:о(Npmsny, 1400) гык\n",
      "2 :  гык  —  Гык:гык(Ncmsny, 1479) О:о(Npmsny, 1400) гык\n",
      "2 :  гык  —  Гык:гык(Ncmsny, 1770) О:о(Npmsny, 1818) гык\n",
      "1 :  степановна  —  Вера:вера(Npfsny, 1145) Степановна:степановна(Npfsny, 1345) вера+степановна\n",
      "2 :  степановна  —  Степановны:степановна(Npfsgy, 2257) Вера:вера(Npfsny, 2486) степановна\n",
      "1 :  степановна  —  Вера:вера(Npfsny, 2486) Степановны:степановна(Npfsgy, 2755) вера+степановна\n",
      "1 :  дед  —  бабе:баба(Ncfsdy, 1714) деду:дед(Ncmsdy, 1722) баба+и+дед\n",
      "1 :  квартира  —  свою:свой(P--fsaa, 4010) квартиру:квартира(Ncfsan, 4809) свой+квартира\n",
      "2 :  петербург  —  Петербурге:петербург(Ncmsln, 1181) Санкт:санкт(Ncmsnn, 2241) петербург\n",
      "1 :  невский  —  переходе:переход(Ncmsln, 774) Невском:невский(Npmsly, 786) переход+на+невский\n",
      "1 :  степан  —  кот:кот(Ncmsny, 161) Степан:степан(Npmsny, 344) черный+кот+степан\n",
      "1 :  степан  —  кот:кот(Ncmsny, 161) Степану:степан(Npmsdy, 592) черный+кот+степан\n",
      "1 :  фунтик  —  такса:такса(Ncfsnn, 98) Фунтик:фунтик(Npmsny, 2051) кривоногий+такса+фунтик\n",
      "1 :  самоучка дегтяренко  —  архитектор:архитектор(Ncmsny, 574) Дегтяренко:дегтяренко(Npmsny, 1480) архитектор+-+самоучка+дегтяренко\n",
      "1 :  чмутов  —  Валя:валя(Npmsny, 4046) Чмутов:чмутов(Npmsny, 4082) валя+чмутов\n",
      "1 :  китаев  —  матрос:матрос(Ncmsny, 2513) Китаев:китаев(Npmsny, 6719) беглый+матрос+китаев\n",
      "1 :  кребс  —  Брайан:брайан(Npmsny, 1949) Кребс:кребс(Npmsny, 2254) брайан+кребс\n",
      "1 :  дело александр данилюк  —  Лидер:лидер(Ncmsny, 0) Данилюк:данилюк(Npfsny, 626) лидер+украинский+оппозиционный+движение+«+спiльна+справа+»+(+«+общий+дело+»+)+александр+данилюк\n",
      "1 :  путин  —  Владимиром:владимир(Npmsiy, 233) Путина:путин(Npmsgy, 291) владимир+путин\n",
      "1 :  владимир путин  —  Президент:президент(Ncmsny, 0) Путина:путин(Npmsgy, 291) президент+россия+владимир+путин\n",
      "1 :  тильман цюльх  —  представитель:представитель(Ncmsny, 1495) Цюльх:цюльх(Npmsny, 1943) представитель+правозащитник+тильман+цюльх\n",
      "1 :  грузия  —  Украина:украина(Ncfsnn, 3913) Грузия:грузия(Ncfsnn, 3923) украина+и+грузия\n",
      "1 :  обама  —  Барак:барак(Ncmsnn, 914) Обама:обама(Ncfsnn, 1235) барак+обама\n",
      "1 :  президент  —  Обама:обама(Ncfsnn, 1813) Президент:президент(Ncmsny, 1973) президент+обама\n",
      "1 :  президент  —  Обама:обама(Ncfsnn, 1813) президент:президент(Ncmsny, 2253) президент+обама\n",
      "1 :  юрий любимов  —  основатель:основатель(Ncmsny, 22) Любимов:любимов(Npmsny, 1680) основатель+театр+на+таганка+@card@+-+летний+юрий+любимов\n",
      "1 :  эрик шмидт  —  директор:директор(Ncmsny, 1596) Шмидт:шмидт(Npmsny, 1731) генеральный+директор+компания+эрик+шмидт\n",
      "1 :  эрик шмидт  —  Глава:глава(Ncfsnn, 0) Шмидт:шмидт(Npmsny, 1731) глава+google+эрик+шмидт\n",
      "1 :  афганистан  —  Пакистане:пакистан(Ncmsln, 4946) Афганистане:афганистан(Ncmsln, 4958) пакистан+и+афганистан\n",
      "1 :  барак обама  —  президент:президент(Ncmsny, 26) Обама:обама(Npmsny, 292) американский+президент+барак+обама\n",
      "1 :  владимир воронин  —  Президент:президент(Ncmsny, 1072) Воронин:воронин(Npmsny, 1178) президент+владимир+воронин\n",
      "1 :  погреб  —  вход:вход(Ncmsan, 598) погреб:погреб(Ncmsan, 605) вход+в+погреб\n",
      "1 :  погреб  —  вход:вход(Ncmsan, 598) погребом:погреб(Ncmsin, 1238) вход+в+погреб\n",
      "1 :  роман  —  Заговор:заговор(Ncmsnn, 902) романе:роман(Ncmsln, 1817) роман+«+заговор+бумага+»\n",
      "1 :  убийца  —  Этичный:этичный(Afpmsnf, 3959) убийца:убийца(Nccsny, 4954) «+этичный+убийца+»\n",
      "1 :  кин  —  Милфорд:милфорд(Npmsny, 5895) Кина:кин(Npmsgy, 6008) милфорд+кин\n",
      "1 :  фигура  —  разменной:разменной(Afpfsif, 3901) фигура:фигура(Ncfsnn, 6352) разменной+фигура+в+чужой+игра\n",
      "2 :  лисс  —  Лисс:лисс(Npmsny, 5311) Дэвид:дэвид(Npmsny, 7262) лисс\n",
      "2 :  обама  —  Обама:обама(Ncfsnn, 1078) Барак:барак(Ncmsnn, 1401) обама\n",
      "1 :  обама  —  Барак:барак(Ncmsnn, 1571) Обама:обама(Npmsny, 2244) барак+обама\n",
      "2 :  обама  —  Обама:обама(Npmsny, 2244) Барак:барак(Ncmsnn, 2682) обама\n",
      "1 :  басби  —  Мэтт:мэтт(Npmsny, 4285) Басби:басби(Npmsny, 4314) мэтт+басби\n",
      "1 :  басби  —  Мэтт:мэтт(Npmsny, 4285) Басби:басби(Npmsny, 4651) мэтт+басби\n",
      "2 :  басби  —  Басби:басби(Npmsny, 4651) команда:команда(Ncfsnn, 4857) басби\n",
      "1 :  басби  —  команда:команда(Ncfsnn, 4857) Басби:басби(Npfsny, 4865) команда+басби\n",
      "2 :  басби  —  Басби:басби(Npmsny, 5084) Мэтт:мэтт(Npmsny, 5795) басби\n",
      "1 :  басби  —  Мэтт:мэтт(Npmsny, 5795) Басби:басби(Npmsny, 6365) мэтт+басби\n",
      "1 :  басби  —  команда:команда(Ncfsnn, 6623) Басби:басби(Npfsny, 6631) команда+басби\n",
      "2 :  басби  —  Басби:басби(Npfsny, 6631) Мэтт:мэтт(Npmsny, 7143) басби\n",
      "1 :  басби  —  Мэтт:мэтт(Npmsny, 7143) Басби:басби(Npmsny, 7491) мэтт+басби\n",
      "1 :  дохерти  —  Томми:томми(Npmsny, 8075) Дохерти:дохерти(Npmsny, 8772) томми+дохерти\n",
      "1 :  дохерти  —  Томми:томми(Npmsny, 8075) Дохерти:дохерти(Npmsgy, 8887) томми+дохерти\n",
      "2 :  басби  —  Басби:басби(Npmsny, 7491) Мэтт:мэтт(Npmsny, 17105) басби\n",
      "1 :  день  —  Международный:международный(Afpmsaf, 1731) день:день(Ncmsan, 1840) международный+женский+день+8+март\n",
      "2 :  день  —  день:день(Ncmsan, 3627) Женский:женский(Afpmsaf, 4753) этот+день\n",
      "1 :  спутник  —  Giove:giove(Ncmsnn, 229) спутник:спутник(Ncmsnn, 428) спутник+giove+-+a\n",
      "2 :  спутник  —  спутник:спутник(Ncmsnn, 428) Giove:giove(Ncmsnn, 531) спутник\n",
      "1 :  иерушалми  —  Шломо:шломо(Npmsny, 1011) Иерушалми:иерушалми(Npmsny, 1486) шломо+иерушалми\n",
      "1 :  президент яр’адуа  —  Умару:умару(Npmsny, 2916) Яр’Адуа:яр’адуа(Npmsny, 3422) президент+нигерия+умару+яр’адуа\n",
      "1 :  президент гбагбо  —  Лоран:лоран(Npmsny, 5931) Гбагбо:гбагбо(R-----, 6671) президент+лоран+гбагбо\n",
      "1 :  шотландцу батлеру  —  Джерарду:джерарду(Npmsdy, 319) Батлеру:батлеру(Npmsdy, 564) шотландцу+джерарду+батлеру\n",
      "1 :  батлером  —  Джерардом:джерардом(Npmsiy, 157) Батлером:батлером(Npmsiy, 4333) джерардом+батлером\n",
      "1 :  грендель  —  Беовульф:﻿беовульф(Ncmsny, 4118) Грендель:грендель(Npmsny, 4666) ﻿беовульф+и+грендель\n",
      "1 :  батлер  —  Нила:нила(Npfsny, 5911) Батлер:батлер(Npmsny, 5918) нила+(+батлер+)+и+эбби\n",
      "1 :  ровер  —  Алекс:алекс(Npmsny, 7241) Ровер:ровер(Ncmsnn, 7431) алекс+ровер\n",
      "1 :  тренер бавария гвардиола  —  Хосеп:хосеп(Ncmsnn, 55) Гвардиола:гвардиола(Ncfsnn, 920) главный+тренер+мюнхенский+футбольный+клуб+«+бавария+»+хосеп+гвардиола\n",
      "1 :  тренер бавария гвардиола  —  Хосеп:хосеп(Ncmsnn, 55) тренера:тренер(Ncmsgy, 1238) главный+тренер+мюнхенский+футбольный+клуб+«+бавария+»+хосеп+гвардиола\n",
      "2 :  албарн  —  Албарн:албарн(Npmsny, 1180) Деймон:﻿деймон(Npmsny, 1246) албарн\n",
      "1 :  секретарь вконтакте лобушкин  —  Георгий:георгий(Npmsny, 205) Лобушкин:лобушкин(Npmsny, 288) пресс+-+секретарь+«+вконтакте+»+георгий+лобушкин\n",
      "1 :  владелец усманов  —  Алишер:алишер(Npmsny, 2339) Усманов:усманов(Npmsny, 2369) владелец+mail.ru+group+алишер+усманов\n",
      "1 :  владелец усманов  —  Алишер:алишер(Npmsny, 2339) Усманов:усманов(Npmsny, 3006) владелец+mail.ru+group+алишер+усманов\n",
      "1 :  дуровым  —  Павлом:павел(Npmsiy, 2593) Дуровым:дуровым(Npmsiy, 3427) павел+дуровым\n"
     ]
    }
   ],
   "source": [
    "for pair in clf.modif_pairs:\n",
    "    if pair[1]:\n",
    "        print pair[0], ': ', pair[1], ' — ', pair[2], pair[3], pair[4]"
   ]
  },
  {
   "cell_type": "code",
   "execution_count": 52,
   "metadata": {
    "collapsed": false
   },
   "outputs": [
    {
     "name": "stdout",
     "output_type": "stream",
     "text": [
      "тренер\n",
      "движение\n",
      "император\n",
      "артем\n",
      "маарив\n",
      "спутник\n",
      "партия\n",
      "переводчица\n",
      "алтайска\n",
      "ресурс\n",
      "﻿усков\n",
      "арт\n",
      "владелец\n",
      "ε\n",
      "очень\n",
      "целлофан\n",
      "рок\n",
      "член\n",
      "﻿песням\n",
      "книгабайта\n",
      "комсомолка\n",
      "возлюбленный\n",
      "подружка\n",
      "специалист\n",
      "старик\n",
      "катание\n",
      "италия\n",
      "круглою\n",
      "епископ\n",
      "друг\n",
      "директор\n",
      "руа\n",
      "шотландцу\n",
      "клуб\n",
      "﻿эта\n",
      "блогер\n",
      "придурковатой\n",
      "эфир\n",
      "пресс\n",
      "юристка\n",
      "голодовка\n",
      "лицензия\n",
      "джеймс\n",
      "стекло\n",
      "мать\n",
      "остальное\n",
      "протон\n",
      "жительница\n",
      "сэр\n",
      "правило\n",
      "господин\n",
      "сержант\n",
      "стадион\n",
      "республиканец\n",
      "алексей\n",
      "сезон\n",
      "дедушка\n",
      "битва\n",
      "монах\n",
      "десятилетие\n",
      "шоумен\n",
      "сенатор\n",
      "интернет\n",
      "министр\n",
      "полузащитник\n",
      "писатель\n",
      "царь\n",
      "американец\n",
      "компания\n",
      "раз\n",
      "глава\n",
      "спикер\n",
      "температура\n",
      "песня\n",
      "болтовня\n",
      "эдвард\n",
      "город\n",
      "итар\n",
      "саксофонист\n",
      "преступник\n",
      "основатель\n",
      "пианист\n",
      "психолог\n",
      "пацан\n",
      "drooling\n",
      "санкт\n",
      "вконтакте\n",
      "наставник\n",
      "kuiper\n",
      "аналитик\n",
      "басисты\n",
      "например\n",
      "знакомый\n",
      "коэффициент\n",
      "бреттон\n",
      "провинция\n",
      "дядя\n",
      "корреспондент\n",
      "актриса\n",
      "покойный\n",
      "депутат\n",
      "бабушка\n",
      "мини\n",
      "энциклопедия\n",
      "своём\n",
      "бизнес\n",
      "сценаристка\n",
      "президент\n",
      "ток\n",
      "машина\n",
      "соотечественник\n",
      "двор\n",
      "писательница\n",
      "инвестор\n",
      "культура\n",
      "бавария\n",
      "студия\n",
      "группа\n",
      "би\n",
      "контракт\n",
      "дуглас\n",
      "﻿барабанщик\n",
      "коллега\n",
      "кольцо\n",
      "ривьера\n",
      "королём\n",
      "египтологом\n",
      "консультант\n",
      "время\n",
      "участница\n",
      "сегодня\n",
      "выпускница\n",
      "свобода\n",
      "бен\n",
      "интригана\n",
      "первое\n",
      "чай\n",
      "have\n",
      "беглец\n",
      "композиция\n",
      "аризона\n",
      "юнайтед\n",
      "роман\n",
      "администратор\n",
      "связь\n",
      "осло\n",
      "газета\n",
      "зинкин\n",
      "лидер\n",
      "осьминог\n",
      "machine\n",
      "ментора\n",
      "рецидивист\n",
      "губернатор\n",
      "﻿наши\n",
      "князь\n",
      "редактор\n",
      "знаток\n",
      "агентура.ru\n",
      "загаре\n",
      "очередь\n",
      "работа\n",
      "образ\n",
      "партнёры\n",
      "коллайдер\n",
      "мемориал\n",
      "это\n",
      "адвокат\n",
      "хиллари\n",
      "самоощущение\n",
      "группировка\n",
      "стать\n",
      "мальчик\n",
      "брат\n",
      "руководитель\n",
      "данхэмом\n",
      "скрипач\n",
      "сайт\n",
      "дочь\n",
      "телескоп\n",
      "секретарь\n",
      "еще\n",
      "этот\n",
      "gerard\n",
      "имератор\n",
      "акция\n",
      "художник\n",
      "премьер\n"
     ]
    }
   ],
   "source": [
    "print '\\n'.join(clf.modif)"
   ]
  },
  {
   "cell_type": "markdown",
   "metadata": {},
   "source": [
    "The results are the same.\n",
    "There are not enough cases for those features to be recognized by a Decision Tree."
   ]
  },
  {
   "cell_type": "markdown",
   "metadata": {},
   "source": [
    "### Soon + morphology + distance + lexical + syntax"
   ]
  },
  {
   "cell_type": "markdown",
   "metadata": {},
   "source": [
    "For the comparison:\n",
    "```\n",
    "\\textsc{MLMentionPairMoreFeatures} &  $100.00$  & $79.29$ & $63.01$ & $70.22$  & $79.42$ & $48.39$ & $60.14$  & $53.65$ \\\\\n",
    "```"
   ]
  },
  {
   "cell_type": "code",
   "execution_count": 96,
   "metadata": {
    "collapsed": false
   },
   "outputs": [
    {
     "name": "stdout",
     "output_type": "stream",
     "text": [
      "\\textsc{MLMentionPairMoreFeatures} &  $100.00$  & $79.29$ & $63.01$ & $70.22$  & $79.42$ & $48.39$ & $60.14$  & $53.65$ \\\\\n"
     ]
    }
   ],
   "source": [
    "clf = MLMentionPairMoreFeatures(scorer_path, feat_zones=('soon', 'morpho', 'dist', 'lexical', 'synt'))\n",
    "clf.train(create_clf(), rucoref_train, gs_mentions_train)\n",
    "coref_utils.get_score_table(clf, rucoref_test, gs_mentions, gs_groups, False)\n",
    "export_graphviz(clf.clf, out_file='soon_morph_dist_lex_synt_dt_optimized.dot', feature_names=clf.feat_names, class_names=('noncoref', 'coref'))"
   ]
  },
  {
   "cell_type": "code",
   "execution_count": 97,
   "metadata": {
    "collapsed": false
   },
   "outputs": [
    {
     "name": "stdout",
     "output_type": "stream",
     "text": [
      "\\textsc{MLMentionPairMoreFeatures} &  $100.00$  & $79.27$ & $61.76$ & $69.43$  & $80.18$ & $47.55$ & $59.70$  & $52.70$ \\\\\n"
     ]
    }
   ],
   "source": [
    "clf = MLMentionPairMoreFeatures(scorer_path, feat_zones=('soon', 'morpho', 'dist', 'lexical', 'synt'))\n",
    "clf.train(create_clf(min_samples_leaf=0.0003), rucoref_train, gs_mentions_train)\n",
    "coref_utils.get_score_table(clf, rucoref_test, gs_mentions, gs_groups, False)\n",
    "export_graphviz(clf.clf, out_file='soon_morph_dist_lex_synt_dt_optimized.dot', feature_names=clf.feat_names, class_names=('noncoref', 'coref'))"
   ]
  },
  {
   "cell_type": "code",
   "execution_count": 25,
   "metadata": {
    "collapsed": false
   },
   "outputs": [
    {
     "name": "stdout",
     "output_type": "stream",
     "text": [
      "\\textsc{MLMentionPairMoreFeatures} &  $100.00$  & $73.91$ & $58.84$ & $65.52$  & $74.79$ & $44.54$ & $55.83$  & $49.72$ \\\\\n"
     ]
    }
   ],
   "source": [
    "clf = MLMentionPairMoreFeatures(scorer_path, feat_zones=('soon', 'morpho', 'dist', 'lexical', 'synt'))\n",
    "clf.train(create_clf(), rucoref_train, gs_mentions_train)\n",
    "coref_utils.get_score_table(clf, rucoref_test, gs_mentions, gs_groups, False)\n",
    "export_graphviz(clf.clf, out_file='soon_morph_dist_lex_synt_dt_optimized.dot', feature_names=clf.feat_names, class_names=('noncoref', 'coref'))"
   ]
  },
  {
   "cell_type": "code",
   "execution_count": 14,
   "metadata": {
    "collapsed": false
   },
   "outputs": [
    {
     "name": "stdout",
     "output_type": "stream",
     "text": [
      "\\textsc{MLMentionPairMoreFeatures} &  $100.00$  & $79.29$ & $63.01$ & $70.22$  & $79.42$ & $48.39$ & $60.14$  & $53.65$ \\\\\n"
     ]
    }
   ],
   "source": [
    "clf = MLMentionPairMoreFeatures(scorer_path, feat_zones=('soon', 'morpho', 'dist', 'lexical', 'synt'))\n",
    "clf.train(create_clf(), rucoref_train, gs_mentions_train)\n",
    "coref_utils.get_score_table(clf, rucoref_test, gs_mentions, gs_groups, False)\n",
    "export_graphviz(clf.clf, out_file='soon_morph_dist_lex_synt_dt_optimized.dot', feature_names=clf.feat_names, class_names=('noncoref', 'coref'))"
   ]
  },
  {
   "cell_type": "code",
   "execution_count": 95,
   "metadata": {
    "collapsed": false
   },
   "outputs": [
    {
     "name": "stdout",
     "output_type": "stream",
     "text": [
      "\\textsc{MLMentionPairMoreFeatures} &  $51.21$  & $38.39$ & $51.35$ & $43.94$  & $25.56$ & $41.09$ & $31.51$  & $26.50$ \\\\\n"
     ]
    }
   ],
   "source": [
    "clf = MLMentionPairMoreFeatures(scorer_path, feat_zones=('soon', 'morpho', 'dist', 'lexical', 'synt'))\n",
    "clf.train(DecisionTreeClassifier(random_state=42), rucoref_train, pred_mentions_gold_bound_train)\n",
    "coref_utils.get_score_table(clf, rucoref_test, pred_mentions_gold_bound, pred_groups_gold_bound, False)"
   ]
  },
  {
   "cell_type": "code",
   "execution_count": 94,
   "metadata": {
    "collapsed": false
   },
   "outputs": [
    {
     "name": "stdout",
     "output_type": "stream",
     "text": [
      "\\textsc{MLMentionPairMoreFeatures} &  $51.21$  & $37.99$ & $51.53$ & $43.74$  & $25.16$ & $41.19$ & $31.24$  & $26.61$ \\\\\n"
     ]
    }
   ],
   "source": [
    "clf = MLMentionPairMoreFeatures(scorer_path, feat_zones=('soon', 'morpho'))\n",
    "clf.train(DecisionTreeClassifier(random_state=42), rucoref_train, pred_mentions_gold_bound_train)\n",
    "coref_utils.get_score_table(clf, rucoref_test, pred_mentions_gold_bound, pred_groups_gold_bound, False)"
   ]
  },
  {
   "cell_type": "code",
   "execution_count": 15,
   "metadata": {
    "collapsed": false
   },
   "outputs": [
    {
     "name": "stdout",
     "output_type": "stream",
     "text": [
      "-- SYS --\n",
      "Мальчик:мальчик(Ncmsny, 17)\n",
      "он:он(P-3msnn, 58)\n",
      "Она:она(P-3fsnn, 526)\n",
      "\n",
      "классом этого друга:класс это друг(Ncmsin, 2540)\n",
      "собственный класс мальчика:собственный класс мальчик(Ncmsan, 2949)\n",
      "\n",
      "новую хорошую школу:новый хороший школа(Ncfsan, 323)\n",
      "этой школы:этот школа(Ncfsgn, 570)\n",
      "новую школу с гуманитарным уклоном:новый школа с гуманитарный уклон(Ncfsan, 801)\n",
      "музыкальную школу:музыкальный школа(Ncfsan, 872)\n",
      "новую школу:новый школа(Ncfsan, 2411)\n",
      "музыкальной школы:музыкальный школа(Ncfsgn, 3636)\n",
      "музыкальной школы:музыкальный школа(Ncfsgn, 3993)\n",
      "школу:школа(Ncfsan, 4475)\n",
      "\n",
      "мальчика:мальчик(Ncmsgy, 386)\n",
      "Мальчик:мальчик(Ncmsny, 843)\n",
      "мальчик:мальчик(Ncmsny, 1089)\n",
      "мальчик:мальчик(Ncmsny, 1327)\n",
      "Мальчик:мальчик(Ncmsny, 2122)\n",
      "Мальчик:мальчик(Ncmsny, 2330)\n",
      "Мальчик:мальчик(Ncmsny, 2508)\n",
      "Мальчик:мальчик(Ncmsny, 2616)\n",
      "мальчика:мальчик(Ncmsgy, 2967)\n",
      "Мальчика:мальчик(Ncmsay, 3192)\n",
      "ним:он(P-3msin, 3241)\n",
      "Он:он(P-3msnn, 3283)\n",
      "себя:себя(P----an, 3296)\n",
      "Они:они(P-3-pnn, 3384)\n",
      "Они:они(P-3-pnn, 3412)\n",
      "него:он(P-3msgn, 3427)\n",
      "он:он(P-3msnn, 3564)\n",
      "он:он(P-3msnn, 3770)\n",
      "Мне:я(P-1-sdn, 3807)\n",
      "Ему:он(P-3msdn, 3860)\n",
      "Я:я(P-1-snn, 4238)\n",
      "мне:я(P-1-sdn, 4261)\n",
      "Я:я(P-1-snn, 4280)\n",
      "Его:его(P--msga, 4584)\n",
      "\n",
      "ребенок:ребенок(Ncmsny, 421)\n",
      "ребенка:ребенок(Ncmsgy, 1681)\n",
      "своего:свой(P--msga, 1692)\n",
      "Его:его(P-3msan, 1718)\n",
      "Он:он(P-3msnn, 2160)\n",
      "\n",
      "Мальчик:мальчик(Ncmsny, 3348)\n",
      "Мальчик:мальчик(Ncmsny, 3495)\n",
      "Мальчик:мальчик(Ncmsny, 4217)\n",
      "мальчик:мальчик(Ncmsny, 4539)\n",
      "\n",
      "свою партию:свой партия(Ncfsan, 2186)\n",
      "которую:который(P--fsaa, 2199)\n",
      "его:его(P-3msan, 2296)\n",
      "они:они(P-3-pnn, 2565)\n",
      "ними:они(P-3-pin, 2696)\n",
      "Он:он(P-3msnn, 2702)\n",
      "их:они(P-3-pan, 2705)\n",
      "\n",
      "отец:отец(Ncmsny, 2312)\n",
      "отцу:отец(Ncmsdy, 3546)\n",
      "отцу:отец(Ncmsdy, 3904)\n",
      "\n",
      "красивая и любимая учительница по сольфеджио:красивый и любимый учительница по сольфеджио(Ncfsny, 994)\n",
      "которая:который(P--fsna, 1040)\n",
      "Она:она(P-3fsnn, 1654)\n",
      "\n",
      "сольфеджио:сольфеджио(Ncnsdn, 1028)\n",
      "сольфеджио:сольфеджио(Ncnsan, 1476)\n",
      "\n",
      "друг с детского садика:друг с детский садик(P---snn, 2478)\n",
      "этого друга:это друг(P---san, 2548)\n",
      "этот друг:этот друг(P---snn, 2725)\n",
      "нему:он(P-3msdn, 2761)\n",
      "его:он(P-3msan, 2840)\n",
      "\n",
      "детьми:дитя(Ncnpiy, 1069)\n",
      "дети:дитя(Ncnpny, 1249)\n",
      "\n",
      "оперу:опера(Ncfsan, 1076)\n",
      "опера:опера(Ncfsnn, 2076)\n",
      "их оперу:они опера(Ncfsan, 2175)\n",
      "свою:свой(P--fsaa, 2186)\n",
      "\n",
      "мамой:мама(Ncfsiy, 1142)\n",
      "маме:мама(Ncfsdy, 3529)\n",
      "маму:мама(Ncfsay, 3800)\n",
      "мама:мама(Ncfsny, 3899)\n",
      "Мама:мама(Ncfsny, 4339)\n",
      "Маме:мама(Ncfsdy, 4642)\n",
      "\n",
      "учительницы:учительница(Ncfsgy, 1624)\n",
      "Новая учительница:новый учительница(Ncfsny, 1948)\n",
      "\n",
      "ты:ты(P-2-snn, 2925)\n",
      "тебе:ты(P-2-sdn, 4243)\n",
      "Ты:ты(P-2-snn, 4420)\n",
      "Ты:ты(P-2-snn, 4446)\n",
      "\n",
      "та:тот(P--fsna, 1861)\n",
      "той:тот(P--fsga, 2039)\n",
      "\n",
      "обожаемый старший друг мальчика , еще с детского садика:обожать старший друг мальчик , еще с детский садик(Ncmsny, 363)\n",
      "\n",
      "мать:мать(Ncfsny, 520)\n",
      "\n",
      "ребята неграмотные и не понимающие алгебры:ребята неграмотный и не понимать алгебра(Ncmpnn, 3060)\n",
      "\n",
      "Новенький:новенький(Ncmsny, 3246)\n",
      "\n",
      "сборная окрестных дворов:сборная окрестный двор(Ncfsnn, 3034)\n",
      "\n",
      "легко возбудимая натура:легко возбудимая натура(Ncfsnn, 1336)\n",
      "\n",
      "основной предмет:основной предмет(Ncmsan, 1454)\n",
      "\n",
      "заботливая и милая женщина:заботливый и милый женщина(Ncfsny, 4089)\n",
      "\n",
      "той , продвинутой и почти гуманитарной школки:тот , продвинуть и почти гуманитарный школка(Ncfsgn, 4128)\n",
      "\n",
      "ребенок:ребенок(Ncmsny, 4014)\n",
      "\n",
      "педагог по фортепьяно:педагог по фортепьяно(Ncmsny, 4066)\n",
      "\n",
      "две арии Козла:два ария козел(Mcf-a, 1120)\n",
      "\n",
      "педагогический талант:педагогический талант(Ncmsnn, 1918)\n",
      "\n",
      "другая преподавательница:другой преподавательница(Ncfsny, 1728)\n",
      "\n",
      "младше - классника:молодой - классника(Afcmsnf, 2798)\n",
      "\n",
      "серьезные восьмиклассники:серьезный восьмиклассник(Ncmpny, 2589)\n",
      "\n",
      "\n",
      "\n",
      "-- GS --\n",
      "педагог по фортепьяно:педагог по фортепьяно(Ncmsny, 4066)\n",
      "заботливая и милая женщина:заботливый и милый женщина(Ncfsny, 4089)\n",
      "\n",
      "музыкальную школу:музыкальный школа(Ncfsan, 872)\n",
      "музыкальной школы:музыкальный школа(Ncfsgn, 3636)\n",
      "музыкальной школы:музыкальный школа(Ncfsgn, 3993)\n",
      "\n",
      "отец:отец(Ncmsny, 2312)\n",
      "отцу:отец(Ncmsdy, 3546)\n",
      "отцу:отец(Ncmsdy, 3904)\n",
      "\n",
      "Новенький:новенький(Ncmsny, 3246)\n",
      "Он:он(P-3msnn, 3283)\n",
      "себя:себя(P----an, 3296)\n",
      "\n",
      "собственный класс мальчика:собственный класс мальчик(Ncmsan, 2949)\n",
      "сборная окрестных дворов:сборная окрестный двор(Ncfsnn, 3034)\n",
      "ребята неграмотные и не понимающие алгебры:ребята неграмотный и не понимать алгебра(Ncmpnn, 3060)\n",
      "Они:они(P-3-pnn, 3384)\n",
      "Они:они(P-3-pnn, 3412)\n",
      "\n",
      "классом этого друга:класс это друг(Ncmsin, 2540)\n",
      "они:они(P-3-pnn, 2565)\n",
      "серьезные восьмиклассники:серьезный восьмиклассник(Ncmpny, 2589)\n",
      "ними:они(P-3-pin, 2696)\n",
      "их:они(P-3-pan, 2705)\n",
      "\n",
      "обожаемый старший друг мальчика , еще с детского садика:обожать старший друг мальчик , еще с детский садик(Ncmsny, 363)\n",
      "друг с детского садика:друг с детский садик(P---snn, 2478)\n",
      "этого друга:это друг(P---san, 2548)\n",
      "этот друг:этот друг(P---snn, 2725)\n",
      "\n",
      "две арии Козла:два ария козел(Mcf-a, 1120)\n",
      "свою партию:свой партия(Ncfsan, 2186)\n",
      "которую:который(P--fsaa, 2199)\n",
      "\n",
      "оперу:опера(Ncfsan, 1076)\n",
      "опера:опера(Ncfsnn, 2076)\n",
      "их оперу:они опера(Ncfsan, 2175)\n",
      "\n",
      "детьми:дитя(Ncnpiy, 1069)\n",
      "дети:дитя(Ncnpny, 1249)\n",
      "\n",
      "другая преподавательница:другой преподавательница(Ncfsny, 1728)\n",
      "Новая учительница:новый учительница(Ncfsny, 1948)\n",
      "\n",
      "красивая и любимая учительница по сольфеджио:красивый и любимый учительница по сольфеджио(Ncfsny, 994)\n",
      "которая:который(P--fsna, 1040)\n",
      "учительницы:учительница(Ncfsgy, 1624)\n",
      "Она:она(P-3fsnn, 1654)\n",
      "своего:свой(P--msga, 1692)\n",
      "та:тот(P--fsna, 1861)\n",
      "педагогический талант:педагогический талант(Ncmsnn, 1918)\n",
      "той:тот(P--fsga, 2039)\n",
      "\n",
      "новую хорошую школу:новый хороший школа(Ncfsan, 323)\n",
      "этой школы:этот школа(Ncfsgn, 570)\n",
      "новую школу с гуманитарным уклоном:новый школа с гуманитарный уклон(Ncfsan, 801)\n",
      "новую школу:новый школа(Ncfsan, 2411)\n",
      "той , продвинутой и почти гуманитарной школки:тот , продвинуть и почти гуманитарный школка(Ncfsgn, 4128)\n",
      "школу:школа(Ncfsan, 4475)\n",
      "\n",
      "мать:мать(Ncfsny, 520)\n",
      "Она:она(P-3fsnn, 526)\n",
      "мамой:мама(Ncfsiy, 1142)\n",
      "маме:мама(Ncfsdy, 3529)\n",
      "маму:мама(Ncfsay, 3800)\n",
      "мама:мама(Ncfsny, 3899)\n",
      "тебе:ты(P-2-sdn, 4243)\n",
      "Мама:мама(Ncfsny, 4339)\n",
      "Маме:мама(Ncfsdy, 4642)\n",
      "\n",
      "Мальчик:мальчик(Ncmsny, 17)\n",
      "он:он(P-3msnn, 58)\n",
      "мальчика:мальчик(Ncmsgy, 386)\n",
      "ребенок:ребенок(Ncmsny, 421)\n",
      "Мальчик:мальчик(Ncmsny, 843)\n",
      "мальчик:мальчик(Ncmsny, 1089)\n",
      "мальчик:мальчик(Ncmsny, 1327)\n",
      "легко возбудимая натура:легко возбудимая натура(Ncfsnn, 1336)\n",
      "ребенка:ребенок(Ncmsgy, 1681)\n",
      "Его:его(P-3msan, 1718)\n",
      "Мальчик:мальчик(Ncmsny, 2122)\n",
      "Он:он(P-3msnn, 2160)\n",
      "свою:свой(P--fsaa, 2186)\n",
      "его:его(P-3msan, 2296)\n",
      "Мальчик:мальчик(Ncmsny, 2330)\n",
      "Мальчик:мальчик(Ncmsny, 2508)\n",
      "Мальчик:мальчик(Ncmsny, 2616)\n",
      "Он:он(P-3msnn, 2702)\n",
      "нему:он(P-3msdn, 2761)\n",
      "младше - классника:молодой - классника(Afcmsnf, 2798)\n",
      "его:он(P-3msan, 2840)\n",
      "ты:ты(P-2-snn, 2925)\n",
      "мальчика:мальчик(Ncmsgy, 2967)\n",
      "Мальчика:мальчик(Ncmsay, 3192)\n",
      "ним:он(P-3msin, 3241)\n",
      "Мальчик:мальчик(Ncmsny, 3348)\n",
      "него:он(P-3msgn, 3427)\n",
      "Мальчик:мальчик(Ncmsny, 3495)\n",
      "он:он(P-3msnn, 3564)\n",
      "он:он(P-3msnn, 3770)\n",
      "Мне:я(P-1-sdn, 3807)\n",
      "Ему:он(P-3msdn, 3860)\n",
      "ребенок:ребенок(Ncmsny, 4014)\n",
      "Мальчик:мальчик(Ncmsny, 4217)\n",
      "Я:я(P-1-snn, 4238)\n",
      "мне:я(P-1-sdn, 4261)\n",
      "Я:я(P-1-snn, 4280)\n",
      "Ты:ты(P-2-snn, 4420)\n",
      "Ты:ты(P-2-snn, 4446)\n",
      "мальчик:мальчик(Ncmsny, 4539)\n",
      "Его:его(P--msga, 4584)\n",
      "\n",
      "сольфеджио:сольфеджио(Ncnsdn, 1028)\n",
      "основной предмет:основной предмет(Ncmsan, 1454)\n",
      "сольфеджио:сольфеджио(Ncnsan, 1476)\n",
      "\n"
     ]
    }
   ],
   "source": [
    "scores, test_groups, test_chains = clf.score(rucoref_test, gs_mentions, gs_groups)\n",
    "coref_utils.print_chains_in_text(rucoref_test, 1, test_chains, gs_mentions)"
   ]
  },
  {
   "cell_type": "markdown",
   "metadata": {},
   "source": [
    "For some unknown reasons (yet!) `lexical` and `synt` features are not included in the trained decision trees"
   ]
  },
  {
   "cell_type": "markdown",
   "metadata": {},
   "source": [
    "Dumping the results to a file:"
   ]
  },
  {
   "cell_type": "code",
   "execution_count": 37,
   "metadata": {
    "collapsed": true
   },
   "outputs": [],
   "source": [
    "import codecs\n",
    "\n",
    "def dump_chains_in_corpus(corpus, test_chains, gold_mentions, out_file_name='coref_chains.txt'):\n",
    "    out_file = codecs.open(out_file_name, 'w', encoding='utf-8')\n",
    "    for i_text, text in enumerate(test_chains):\n",
    "        # Dumping SYS\n",
    "        for chain_id in test_chains[i_text]:\n",
    "            for elem_id in test_chains[i_text][chain_id]:\n",
    "                elem = gold_mentions[i_text][elem_id]\n",
    "                out_file.write(u'{text_id}\\tSYS\\t{chain_id}\\t{elem_id}\\t{offset}\\t{lemma}\\t{wordform}\\n'.format(text_id=corpus.doc_ids[i_text],\n",
    "                                                                                                                chain_id=chain_id,\n",
    "                                                                                                                elem_id=elem_id,\n",
    "                                                                                                                offset=elem.offset,\n",
    "                                                                                                                lemma=u' '.join(elem.lemma),\n",
    "                                                                                                                wordform=u' '.join(elem.wordform)\n",
    "                                                                                                               ))\n",
    "            out_file.write('\\n')\n",
    "        \n",
    "        # Dumping GS\n",
    "        for chain_id in corpus.gs[i_text]['chains'].keys():\n",
    "            #gs_mentions, gs_group_ids = coref_utils.get_gs_groups(corpus)\n",
    "            cur_gs_chain = {key: [gs_group_ids[i_text].index(item) for item in val]\n",
    "                            for key, val in corpus.gs[i_text]['chains'].items()}\n",
    "            for elem_id in cur_gs_chain[chain_id]:\n",
    "                elem = gs_mentions[i_text][elem_id]\n",
    "                out_file.write(u'{text_id}\\tGS \\t{chain_id}\\t{elem_id}\\t{offset}\\t{lemma}\\t{wordform}\\n'.format(text_id=corpus.doc_ids[i_text],\n",
    "                                                                                                                chain_id=chain_id,\n",
    "                                                                                                                elem_id=elem_id,\n",
    "                                                                                                                offset=elem.offset,\n",
    "                                                                                                                lemma=u' '.join(elem.lemma),\n",
    "                                                                                                                wordform=u' '.join(elem.wordform)\n",
    "                                                                                                               ))\n",
    "            out_file.write('\\n')"
   ]
  },
  {
   "cell_type": "code",
   "execution_count": 38,
   "metadata": {
    "collapsed": false
   },
   "outputs": [],
   "source": [
    "dump_chains_in_corpus(rucoref_test, test_chains, gs_mentions, out_file_name='coref_chains_default.txt')"
   ]
  }
 ],
 "metadata": {
  "anaconda-cloud": {},
  "kernelspec": {
   "display_name": "Python [default]",
   "language": "python",
   "name": "python2"
  },
  "language_info": {
   "codemirror_mode": {
    "name": "ipython",
    "version": 2
   },
   "file_extension": ".py",
   "mimetype": "text/x-python",
   "name": "python",
   "nbconvert_exporter": "python",
   "pygments_lexer": "ipython2",
   "version": "2.7.12"
  }
 },
 "nbformat": 4,
 "nbformat_minor": 1
}
