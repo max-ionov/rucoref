{
 "cells": [
  {
   "cell_type": "code",
   "execution_count": 1,
   "metadata": {
    "collapsed": false
   },
   "outputs": [
    {
     "name": "stdout",
     "output_type": "stream",
     "text": [
      "/Users/max/Projects/Coreference\n"
     ]
    }
   ],
   "source": [
    "%cd '/Users/max/Projects/Coreference/'"
   ]
  },
  {
   "cell_type": "code",
   "execution_count": 2,
   "metadata": {
    "collapsed": false
   },
   "outputs": [
    {
     "name": "stdout",
     "output_type": "stream",
     "text": [
      "/Users/max/Projects/Coreference/rucoref\n",
      "/Users/max/Projects/Coreference\n"
     ]
    }
   ],
   "source": [
    "%cd 'rucoref'\n",
    "from anaphoralib.corpora import rueval\n",
    "from anaphoralib.tagsets import multeast\n",
    "from anaphoralib.tagsets.utils import same_grammemmes\n",
    "from anaphoralib.experiments import mentionpair\n",
    "from anaphoralib.experiments import coref_utils\n",
    "from anaphoralib import utils\n",
    "from anaphoralib.experiments import utils as exp_utils\n",
    "%cd '..'\n",
    "#%load_ext autoreload\n",
    "#%autoreload 2\n",
    "\n",
    "scorer_path = 'rucoref/external/reference-coreference-scorers/scorer.pl'"
   ]
  },
  {
   "cell_type": "code",
   "execution_count": 3,
   "metadata": {
    "collapsed": true
   },
   "outputs": [],
   "source": [
    "from sklearn.svm import LinearSVC\n",
    "from sklearn.svm import SVC\n",
    "from sklearn.tree import DecisionTreeClassifier\n",
    "from sklearn.ensemble import RandomForestClassifier\n",
    "from sklearn.naive_bayes import MultinomialNB\n",
    "from sklearn.tree import export_graphviz"
   ]
  },
  {
   "cell_type": "markdown",
   "metadata": {},
   "source": [
    "Initializing:\n",
    "---------------------"
   ]
  },
  {
   "cell_type": "code",
   "execution_count": 4,
   "metadata": {
    "collapsed": true
   },
   "outputs": [],
   "source": [
    "rucoref_train = rueval.RuCorefCorpus(multeast, rueval)\n",
    "rucoref_test = rueval.RuCorefCorpus(multeast, rueval)"
   ]
  },
  {
   "cell_type": "code",
   "execution_count": 5,
   "metadata": {
    "collapsed": false
   },
   "outputs": [
    {
     "name": "stdout",
     "output_type": "stream",
     "text": [
      "Number of texts: 126\n",
      "Number of GS texts: 126\n",
      "Number of chains in a corpus: 2515\n",
      "Number of words in all chains: 11453\n"
     ]
    }
   ],
   "source": [
    "exp_utils.load_corpus(rucoref_train, 'Corpus-2015/Tokens.train.fixmorph.txt.parsed', 'Corpus-2015/Groups.train.txt')"
   ]
  },
  {
   "cell_type": "code",
   "execution_count": 6,
   "metadata": {
    "collapsed": false
   },
   "outputs": [
    {
     "name": "stdout",
     "output_type": "stream",
     "text": [
      "Number of texts: 55\n",
      "Number of GS texts: 55\n",
      "Number of chains in a corpus: 1123\n",
      "Number of words in all chains: 5104\n"
     ]
    }
   ],
   "source": [
    "exp_utils.load_corpus(rucoref_test, 'Corpus-2015/Tokens.test.fixmorph.txt.parsed', 'Corpus-2015/Groups.test.txt')"
   ]
  },
  {
   "cell_type": "code",
   "execution_count": 7,
   "metadata": {
    "collapsed": true
   },
   "outputs": [],
   "source": [
    "group_ok = lambda g: g.tag.startswith('N') or (g.tag.startswith('P') and g.lemma[0] in multeast.coref_pronouns)"
   ]
  },
  {
   "cell_type": "code",
   "execution_count": 8,
   "metadata": {
    "collapsed": true
   },
   "outputs": [],
   "source": [
    "gs_mentions, gs_group_ids = coref_utils.get_gs_groups(rucoref_test)\n",
    "gs_groups = gs_mentions\n",
    "\n",
    "pred_mentions, pred_group_ids = coref_utils.get_pred_groups(rucoref_test, group_ok)\n",
    "pred_groups = rucoref_test.groups\n",
    "\n",
    "pred_mentions_gold_bound, pred_gold_bounds_ids = coref_utils.get_pred_groups_gold_boundaries(rucoref_test, group_ok)\n",
    "pred_groups_gold_bound = rucoref_test.groups"
   ]
  },
  {
   "cell_type": "code",
   "execution_count": 9,
   "metadata": {
    "collapsed": true
   },
   "outputs": [],
   "source": [
    "gs_mentions_train, gs_group_ids_train = coref_utils.get_gs_groups(rucoref_train)\n",
    "gs_groups_train = gs_mentions_train\n",
    "\n",
    "pred_mentions_train, pred_group_ids_train = coref_utils.get_pred_groups(rucoref_train, group_ok)\n",
    "pred_groups_train = rucoref_train.groups\n",
    "\n",
    "pred_mentions_gold_bound_train, pred_gold_bounds_ids = coref_utils.get_pred_groups_gold_boundaries(rucoref_train, group_ok)\n",
    "pred_groups_gold_bound_train = rucoref_train.groups"
   ]
  },
  {
   "cell_type": "markdown",
   "metadata": {},
   "source": [
    "Defining the classifier\n",
    "--------------------"
   ]
  },
  {
   "cell_type": "code",
   "execution_count": 10,
   "metadata": {
    "collapsed": false
   },
   "outputs": [],
   "source": [
    "class MLMentionPairClassifier(mentionpair.MentionPairClassifier):\n",
    "    NEEDS_TRAINING = True\n",
    "    def __init__(self, scorer_path=None):\n",
    "        self.scorer_path = scorer_path\n",
    "    \n",
    "    def train(self, clf, corpus, mentions):\n",
    "        self.data_x = []\n",
    "        self.data_y = []\n",
    "        self.appositives = []\n",
    "        \n",
    "        self.tagset = corpus.tagset\n",
    "        \n",
    "        for i, text in enumerate(corpus.texts):\n",
    "            all_mentions = utils.find_mentions(corpus.groups[i], corpus.tagset)\n",
    "            gs = corpus.gs[i]\n",
    "            words_index = corpus.words_index[i]\n",
    "\n",
    "            \n",
    "            for chain_id in gs['chains']:\n",
    "                chain = gs['chains'][chain_id]\n",
    "                for pair in ((chain[i], chain[i+1]) for i in range(len(chain)-1)):\n",
    "                    text_groups = []\n",
    "                    for pair_elem in pair:\n",
    "                        gs_group = gs['groups'][pair_elem]\n",
    "                        \n",
    "                        words = [text[words_index[shift]] for shift in gs_group['tokens_shifts']]\n",
    "                        head = text[words_index[gs_group['head_shift'][0]]]\n",
    "                        text_groups.append(coref_utils.create_gs_group(gs_group, words, head))\n",
    "                    \n",
    "                    self.data_x.append(self.get_feature_vector(corpus.texts[i], corpus.parses[i] if corpus.parses else None, *text_groups))\n",
    "                    self.data_y.append(True)\n",
    "                    \n",
    "                    neg_first = None\n",
    "                    neg_last = None\n",
    "\n",
    "                    for i_mention, mention in enumerate(all_mentions):\n",
    "                        if mention.offset == text_groups[0].offset:\n",
    "                            neg_first = i_mention\n",
    "                        if mention.offset == text_groups[1].offset:\n",
    "                            neg_last = i_mention\n",
    "                        if neg_first and neg_last:\n",
    "                            break\n",
    "                    \n",
    "                    if not neg_first or not neg_last:\n",
    "                        continue\n",
    "                        \n",
    "                    neg_text_groups = all_mentions[neg_first+1:neg_last]\n",
    "                    for neg_pair in ((neg_text_groups[i], neg_text_groups[i+1]) for i in range(len(neg_text_groups)-1)):\n",
    "                        self.data_x.append(self.get_feature_vector(corpus.texts[i], *neg_pair))\n",
    "                        self.data_y.append(False)\n",
    "        \n",
    "        self.clf = clf\n",
    "        self.clf.fit(self.data_x, self.data_y)\n",
    "    \n",
    "    def pair_coreferent(self, pair, groups, words, parse):\n",
    "        vctr = self.get_feature_vector(words, parse, *pair)\n",
    "        return self.clf.predict([vctr])[0]\n",
    "    \n",
    "    def get_feature_vector(self, words, group_1, group_2):\n",
    "        # group_1 — possible antecedent\n",
    "        # group_2 — anaphor\n",
    "        \n",
    "        head_1 = group_1.words[group_1.head] if group_1.type != 'word' else group_1\n",
    "        head_2 = group_2.words[group_2.head] if group_2.type != 'word' else group_2\n",
    "        \n",
    "        is_appo = False\n",
    "        \n",
    "        if not head_1 in words or not head_2 in words:\n",
    "            n_sentences = -1\n",
    "            print 'no alignment found'\n",
    "        else:\n",
    "            i = words.index(head_1)\n",
    "            j = words.index(head_2)\n",
    "            \n",
    "            between_groups = words[i+1:j]\n",
    "            n_sentences = sum(1 for gr in between_groups if gr.tag == 'SENT')\n",
    "            \n",
    "            if j - i == 2 and words[i+1].tag.startswith(',') \\\n",
    "                and same_grammemmes('case', (group_1, group_2), self.tagset) \\\n",
    "                and same_grammemmes('number', (group_1, group_2), self.tagset) \\\n",
    "                and same_grammemmes('gender', (group_1, group_2), self.tagset) \\\n",
    "                and group_1.tag.startswith('N') and group_2.tag.startswith('N'):\n",
    "                #and self.tagset.extract_feature('animacity', group_1) == 'y':\n",
    "                is_appo = True\n",
    "                self.appositives.append((group_1, group_2, i, j))\n",
    "        \n",
    "        is_demonstrative = lambda w: [tag.startswith('Pd') or w.lemma[i] in {u'этот', u'тот'} for i, tag in enumerate(w.tags)]\n",
    "        demonstr_1 = is_demonstrative(group_1) if len(group_1.lemma) > 1 else [0]\n",
    "        demonstr_2 = is_demonstrative(group_2) if len(group_2.lemma) > 1 else [0]\n",
    "        \n",
    "        filtered_lemma_1 = ' '.join(lemma for (i, lemma) in enumerate(group_1.lemma) if not demonstr_1[i])\n",
    "        filtered_lemma_2 = ' '.join(lemma for (i, lemma) in enumerate(group_2.lemma) if not demonstr_2[i])\n",
    "        \n",
    "        vctr = []\n",
    "        feat_names = []\n",
    "        \n",
    "        pronoun_1 = self.tagset.pos_filters['pronoun'](group_1) and group_ok(group_1)\n",
    "        pronoun_2 = self.tagset.pos_filters['pronoun'](group_2) and group_ok(group_1)\n",
    "        \n",
    "        vctr.append(pronoun_2 and n_sentences == 1)\n",
    "        feat_names.append('dist==1')\n",
    "        \n",
    "        #vctr.append(pronoun_2 and n_sentences == 0)\n",
    "        #feat_names.append('dist==0')\n",
    "        \n",
    "        vctr.append(not pronoun_1 and not pronoun_2 and filtered_lemma_1 == filtered_lemma_2)\n",
    "        feat_names.append('str_match')\n",
    "        \n",
    "        is_animate_1 = self.tagset.extract_feature('animate', group_1) in ('y', 'a')\n",
    "        is_animate_2 = self.tagset.extract_feature('animate', group_2) in ('y', 'a')\n",
    "        sem_class_agreement = (is_animate_1 and is_animate_2) or (not is_animate_1 and not is_animate_2)\n",
    "        \n",
    "        if not pronoun_1:\n",
    "            sem_class_agreement &= group_1.lemma[group_1.head] == group_2.lemma[group_2.head]\n",
    "        \n",
    "        vctr.append(sem_class_agreement)\n",
    "        feat_names.append('sem_class_agreement')\n",
    "        \n",
    "        vctr.append(pronoun_1)# and group_ok(group_1))\n",
    "        vctr.append(pronoun_2)# and group_ok(group_2))\n",
    "        feat_names.extend(('i_pronoun', 'j_pronoun'))\n",
    "        \n",
    "        vctr.append(vctr[-1] and vctr[-2])\n",
    "        feat_names.append('both_pronouns')\n",
    "        \n",
    "        vctr.append(self.tagset.extract_feature('number', group_1) == self.tagset.extract_feature('number', group_2))\n",
    "        vctr.append(self.tagset.extract_feature('gender', group_1) == self.tagset.extract_feature('gender', group_2))\n",
    "        feat_names.extend(('number-agr', 'gender-agr'))\n",
    "        \n",
    "        vctr.append(self.tagset.extract_feature('proper', group_1) == 'p' \n",
    "                    and self.tagset.extract_feature('proper', group_2) == 'p')\n",
    "        feat_names.append('both-proper')\n",
    "        vctr.append(any(demonstr_2[:group_2.head+1]))\n",
    "        feat_names.append('anaphor-is-demonstrative')\n",
    "        \n",
    "        vctr.append(is_appo)\n",
    "        feat_names.append('appositive')\n",
    "        \n",
    "        self.feat_names = feat_names\n",
    "        return vctr"
   ]
  },
  {
   "cell_type": "markdown",
   "metadata": {},
   "source": [
    "Testing the classifier:\n",
    "-----------------------"
   ]
  },
  {
   "cell_type": "markdown",
   "metadata": {},
   "source": [
    "### Gold mentions:"
   ]
  },
  {
   "cell_type": "code",
   "execution_count": 11,
   "metadata": {
    "collapsed": false
   },
   "outputs": [
    {
     "name": "stdout",
     "output_type": "stream",
     "text": [
      "\\textsc{MLMentionPairClassifier} &  $100.00$  & $72.62$ & $56.02$ & $63.25$  & $77.27$ & $44.46$ & $56.45$  & $50.94$ \\\\\n",
      "\\textsc{MLMentionPairClassifier} &  $100.00$  & $71.97$ & $47.19$ & $57.00$  & $80.15$ & $38.95$ & $52.42$  & $45.84$ \\\\\n"
     ]
    }
   ],
   "source": [
    "clf = MLMentionPairClassifier(scorer_path)\n",
    "clf.train(DecisionTreeClassifier(random_state=42), rucoref_train, gs_mentions_train)\n",
    "coref_utils.get_score_table(clf, rucoref_test, gs_mentions, gs_groups, False)\n",
    "\n",
    "clf = MLMentionPairClassifier(scorer_path)\n",
    "clf.train(LinearSVC(random_state=42), rucoref_train, gs_mentions_train)\n",
    "coref_utils.get_score_table(clf, rucoref_test, gs_mentions, gs_groups, False)"
   ]
  },
  {
   "cell_type": "code",
   "execution_count": 12,
   "metadata": {
    "collapsed": false
   },
   "outputs": [],
   "source": [
    "pairs, disc_pairs = clf.predict_pairs(gs_mentions[0], rucoref_test.groups[0], rucoref_test.texts[0], None, 0)"
   ]
  },
  {
   "cell_type": "code",
   "execution_count": 13,
   "metadata": {
    "collapsed": false
   },
   "outputs": [
    {
     "data": {
      "text/plain": [
       "[(Он(P-3msnn, 228), Он(P-3msnn, 392)),\n",
       " (ухом(Ncnsin, 328), ухо(Ncnsan, 438)),\n",
       " (Степан(Npmsny, 344), Степана(Npmsgy, 449)),\n",
       " (Он(P-3msnn, 392), него(P-3msgn, 521)),\n",
       " (Степана(Npmsgy, 449), Степану(Npmsdy, 592)),\n",
       " (Степану(Npmsdy, 592), Степан(Npmsny, 670)),\n",
       " (Фунтика(Ncfsnn, 112), Фунтика(Npmsay, 697)),\n",
       " (Степан(Npmsny, 670), Степана(Npmsgy, 779)),\n",
       " (Фунтика(Npmsay, 697), Фунтика(Ncmsgn, 1089)),\n",
       " (Степана(Npmsgy, 779), Степана(Npmsgy, 1106))]"
      ]
     },
     "execution_count": 13,
     "metadata": {},
     "output_type": "execute_result"
    }
   ],
   "source": [
    "pairs[:10]"
   ]
  },
  {
   "cell_type": "code",
   "execution_count": 14,
   "metadata": {
    "collapsed": false
   },
   "outputs": [
    {
     "data": {
      "text/plain": [
       "[(старом деревенском доме(Ncmsln, 52),\n",
       "  кривоногая такса Фунтик(Ncfsnn, 87)),\n",
       " (кривоногая такса Фунтик(Ncfsnn, 87),\n",
       "  Фунтика(Ncfsnn, 112)),\n",
       " (старом деревенском доме(Ncmsln, 52),\n",
       "  Фунтика(Ncfsnn, 112)),\n",
       " (Фунтика(Ncfsnn, 112), черный кот Степан(Ncmsny, 154)),\n",
       " (кривоногая такса Фунтик(Ncfsnn, 87),\n",
       "  черный кот Степан(Ncmsny, 154)),\n",
       " (старом деревенском доме(Ncmsln, 52),\n",
       "  черный кот Степан(Ncmsny, 154)),\n",
       " (черный кот Степан(Ncmsny, 154), Он(P-3msnn, 228)),\n",
       " (Фунтика(Ncfsnn, 112), Он(P-3msnn, 228)),\n",
       " (кривоногая такса Фунтик(Ncfsnn, 87),\n",
       "  Он(P-3msnn, 228)),\n",
       " (старом деревенском доме(Ncmsln, 52),\n",
       "  Он(P-3msnn, 228))]"
      ]
     },
     "execution_count": 14,
     "metadata": {},
     "output_type": "execute_result"
    }
   ],
   "source": [
    "disc_pairs[:10]"
   ]
  },
  {
   "cell_type": "code",
   "execution_count": 19,
   "metadata": {
    "collapsed": false
   },
   "outputs": [
    {
     "data": {
      "text/plain": [
       "{'attributes': {u'ref': u'def', u'str': u'noun', u'type': u'coref'},\n",
       " 'head_lengths': [6],\n",
       " 'head_shift': [4470],\n",
       " 'length': 6,\n",
       " 'parent': 0,\n",
       " 'tokens_lengths': [6],\n",
       " 'tokens_shifts': [4470]}"
      ]
     },
     "execution_count": 19,
     "metadata": {},
     "output_type": "execute_result"
    }
   ],
   "source": [
    "rucoref_test.gs[0]['groups'][rucoref_test.gs[0]['chains'][1018][0]]"
   ]
  },
  {
   "cell_type": "markdown",
   "metadata": {},
   "source": [
    "### Gold boundaries:"
   ]
  },
  {
   "cell_type": "code",
   "execution_count": 12,
   "metadata": {
    "collapsed": false
   },
   "outputs": [
    {
     "name": "stdout",
     "output_type": "stream",
     "text": [
      "\\textsc{MLMentionPairClassifier} &  $51.19$  & $37.36$ & $50.19$ & $42.83$  & $24.30$ & $40.06$ & $30.25$  & $26.32$ \\\\\n",
      "\\textsc{MLMentionPairClassifier} &  $51.37$  & $48.39$ & $42.59$ & $45.31$  & $27.36$ & $35.84$ & $31.03$  & $24.14$ \\\\\n"
     ]
    }
   ],
   "source": [
    "clf = MLMentionPairClassifier(scorer_path)\n",
    "clf.train(DecisionTreeClassifier(random_state=42), rucoref_train, pred_mentions_gold_bound_train)\n",
    "coref_utils.get_score_table(clf, rucoref_test, pred_mentions_gold_bound, pred_groups_gold_bound, False)\n",
    "\n",
    "clf = MLMentionPairClassifier(scorer_path)\n",
    "clf.train(LinearSVC(random_state=42), rucoref_train, pred_mentions_gold_bound_train)\n",
    "coref_utils.get_score_table(clf, rucoref_test, pred_mentions_gold_bound, pred_groups_gold_bound, False)"
   ]
  },
  {
   "cell_type": "markdown",
   "metadata": {},
   "source": [
    "### Predicted mentions:"
   ]
  },
  {
   "cell_type": "code",
   "execution_count": 13,
   "metadata": {
    "collapsed": false
   },
   "outputs": [
    {
     "name": "stdout",
     "output_type": "stream",
     "text": [
      "\\textsc{MLMentionPairClassifier} &  $37.67$  & $26.84$ & $37.01$ & $31.12$  & $16.23$ & $28.72$ & $20.74$  & $20.25$ \\\\\n",
      "\\textsc{MLMentionPairClassifier} &  $37.67$  & $40.27$ & $32.80$ & $36.15$  & $18.39$ & $26.33$ & $21.66$  & $18.76$ \\\\\n"
     ]
    }
   ],
   "source": [
    "clf = MLMentionPairClassifier(scorer_path)\n",
    "clf.train(DecisionTreeClassifier(random_state=42), rucoref_train, pred_mentions_train)\n",
    "coref_utils.get_score_table(clf, rucoref_test, pred_mentions, pred_groups, False)\n",
    "\n",
    "clf = MLMentionPairClassifier(scorer_path)\n",
    "clf.train(LinearSVC(random_state=42), rucoref_train, pred_mentions_train)\n",
    "coref_utils.get_score_table(clf, rucoref_test, pred_mentions, pred_groups, False)"
   ]
  },
  {
   "cell_type": "markdown",
   "metadata": {},
   "source": [
    "Analyzing the results:\n",
    "----------------------"
   ]
  },
  {
   "cell_type": "code",
   "execution_count": 14,
   "metadata": {
    "collapsed": true
   },
   "outputs": [],
   "source": [
    "clf = MLMentionPairClassifier(scorer_path)\n",
    "clf.train(DecisionTreeClassifier(random_state=42), rucoref_train, gs_mentions_train)"
   ]
  },
  {
   "cell_type": "code",
   "execution_count": 15,
   "metadata": {
    "collapsed": false
   },
   "outputs": [
    {
     "name": "stdout",
     "output_type": "stream",
     "text": [
      "dist==1: 0.007\n",
      "str_match: 0.463\n",
      "sem_class_agreement: 0.019\n",
      "i_pronoun: 0.130\n",
      "j_pronoun: 0.197\n",
      "both_pronouns: 0.086\n",
      "number-agr: 0.030\n",
      "gender-agr: 0.059\n",
      "both-proper: 0.003\n",
      "anaphor-is-demonstrative: 0.005\n",
      "appositive: 0.001\n"
     ]
    }
   ],
   "source": [
    "print '\\n'.join('{}: {:.3f}'.format(*pair) for pair in zip(clf.feat_names, clf.clf.feature_importances_))"
   ]
  },
  {
   "cell_type": "code",
   "execution_count": 18,
   "metadata": {
    "collapsed": false
   },
   "outputs": [
    {
     "name": "stdout",
     "output_type": "stream",
     "text": [
      "-- SYS --\n",
      "Мальчик:мальчик(Ncmsny, 17)\n",
      "мальчика:мальчик(Ncmsgy, 386)\n",
      "Мальчик:мальчик(Ncmsny, 843)\n",
      "мальчик:мальчик(Ncmsny, 1089)\n",
      "мальчик:мальчик(Ncmsny, 1327)\n",
      "Мальчик:мальчик(Ncmsny, 2122)\n",
      "Мальчик:мальчик(Ncmsny, 2330)\n",
      "Мальчик:мальчик(Ncmsny, 2508)\n",
      "Мальчик:мальчик(Ncmsny, 2616)\n",
      "мальчика:мальчик(Ncmsgy, 2967)\n",
      "Мальчика:мальчик(Ncmsay, 3192)\n",
      "Мальчик:мальчик(Ncmsny, 3348)\n",
      "Мальчик:мальчик(Ncmsny, 3495)\n",
      "Мальчик:мальчик(Ncmsny, 4217)\n",
      "мальчик:мальчик(Ncmsny, 4539)\n",
      "\n",
      "он:он(P-3msnn, 58)\n",
      "своего:свой(P--msga, 1692)\n",
      "Его:его(P-3msan, 1718)\n",
      "Он:он(P-3msnn, 2160)\n",
      "его:его(P-3msan, 2296)\n",
      "\n",
      "новую хорошую школу:новый хороший школа(Ncfsan, 323)\n",
      "этой школы:этот школа(Ncfsgn, 570)\n",
      "новую школу с гуманитарным уклоном:новый школа с гуманитарный уклон(Ncfsan, 801)\n",
      "музыкальную школу:музыкальный школа(Ncfsan, 872)\n",
      "новую школу:новый школа(Ncfsan, 2411)\n",
      "музыкальной школы:музыкальный школа(Ncfsgn, 3636)\n",
      "музыкальной школы:музыкальный школа(Ncfsgn, 3993)\n",
      "школу:школа(Ncfsan, 4475)\n",
      "\n",
      "отец:отец(Ncmsny, 2312)\n",
      "отцу:отец(Ncmsdy, 3546)\n",
      "отцу:отец(Ncmsdy, 3904)\n",
      "\n",
      "классом этого друга:класс это друг(Ncmsin, 2540)\n",
      "собственный класс мальчика:собственный класс мальчик(Ncmsan, 2949)\n",
      "\n",
      "ребенок:ребенок(Ncmsny, 421)\n",
      "ребенка:ребенок(Ncmsgy, 1681)\n",
      "ребенок:ребенок(Ncmsny, 4014)\n",
      "\n",
      "Она:она(P-3fsnn, 526)\n",
      "которая:который(P--fsna, 1040)\n",
      "Она:она(P-3fsnn, 1654)\n",
      "та:тот(P--fsna, 1861)\n",
      "той:тот(P--fsga, 2039)\n",
      "\n",
      "свою:свой(P--fsaa, 2186)\n",
      "которую:который(P--fsaa, 2199)\n",
      "\n",
      "красивая и любимая учительница по сольфеджио:красивый и любимый учительница по сольфеджио(Ncfsny, 994)\n",
      "учительницы:учительница(Ncfsgy, 1624)\n",
      "Новая учительница:новый учительница(Ncfsny, 1948)\n",
      "\n",
      "сольфеджио:сольфеджио(Ncnsdn, 1028)\n",
      "сольфеджио:сольфеджио(Ncnsan, 1476)\n",
      "\n",
      "друг с детского садика:друг с детский садик(P---snn, 2478)\n",
      "этого друга:это друг(P---san, 2548)\n",
      "\n",
      "детьми:дитя(Ncnpiy, 1069)\n",
      "дети:дитя(Ncnpny, 1249)\n",
      "\n",
      "оперу:опера(Ncfsan, 1076)\n",
      "опера:опера(Ncfsnn, 2076)\n",
      "их оперу:они опера(Ncfsan, 2175)\n",
      "\n",
      "Мне:я(P-1-sdn, 3807)\n",
      "Я:я(P-1-snn, 4238)\n",
      "тебе:ты(P-2-sdn, 4243)\n",
      "\n",
      "они:они(P-3-pnn, 2565)\n",
      "ними:они(P-3-pin, 2696)\n",
      "Он:он(P-3msnn, 2702)\n",
      "нему:он(P-3msdn, 2761)\n",
      "его:он(P-3msan, 2840)\n",
      "ним:он(P-3msin, 3241)\n",
      "Он:он(P-3msnn, 3283)\n",
      "него:он(P-3msgn, 3427)\n",
      "он:он(P-3msnn, 3564)\n",
      "он:он(P-3msnn, 3770)\n",
      "Ему:он(P-3msdn, 3860)\n",
      "Его:его(P--msga, 4584)\n",
      "\n",
      "мамой:мама(Ncfsiy, 1142)\n",
      "маме:мама(Ncfsdy, 3529)\n",
      "маму:мама(Ncfsay, 3800)\n",
      "мама:мама(Ncfsny, 3899)\n",
      "Мама:мама(Ncfsny, 4339)\n",
      "Маме:мама(Ncfsdy, 4642)\n",
      "\n",
      "их:они(P-3-pan, 2705)\n",
      "этот друг:этот друг(P---snn, 2725)\n",
      "\n",
      "Они:они(P-3-pnn, 3384)\n",
      "Они:они(P-3-pnn, 3412)\n",
      "\n",
      "мне:я(P-1-sdn, 4261)\n",
      "Я:я(P-1-snn, 4280)\n",
      "Ты:ты(P-2-snn, 4420)\n",
      "Ты:ты(P-2-snn, 4446)\n",
      "\n",
      "обожаемый старший друг мальчика , еще с детского садика:обожать старший друг мальчик , еще с детский садик(Ncmsny, 363)\n",
      "\n",
      "мать:мать(Ncfsny, 520)\n",
      "\n",
      "ребята неграмотные и не понимающие алгебры:ребята неграмотный и не понимать алгебра(Ncmpnn, 3060)\n",
      "\n",
      "Новенький:новенький(Ncmsny, 3246)\n",
      "\n",
      "ты:ты(P-2-snn, 2925)\n",
      "\n",
      "сборная окрестных дворов:сборная окрестный двор(Ncfsnn, 3034)\n",
      "\n",
      "легко возбудимая натура:легко возбудимая натура(Ncfsnn, 1336)\n",
      "\n",
      "основной предмет:основной предмет(Ncmsan, 1454)\n",
      "\n",
      "себя:себя(P----an, 3296)\n",
      "\n",
      "свою партию:свой партия(Ncfsan, 2186)\n",
      "\n",
      "заботливая и милая женщина:заботливый и милый женщина(Ncfsny, 4089)\n",
      "\n",
      "той , продвинутой и почти гуманитарной школки:тот , продвинуть и почти гуманитарный школка(Ncfsgn, 4128)\n",
      "\n",
      "педагог по фортепьяно:педагог по фортепьяно(Ncmsny, 4066)\n",
      "\n",
      "две арии Козла:два ария козел(Mcf-a, 1120)\n",
      "\n",
      "педагогический талант:педагогический талант(Ncmsnn, 1918)\n",
      "\n",
      "другая преподавательница:другой преподавательница(Ncfsny, 1728)\n",
      "\n",
      "младше - классника:молодой - классника(Afcmsnf, 2798)\n",
      "\n",
      "серьезные восьмиклассники:серьезный восьмиклассник(Ncmpny, 2589)\n",
      "\n",
      "\n",
      "\n",
      "-- GS --\n",
      "педагог по фортепьяно:педагог по фортепьяно(Ncmsny, 4066)\n",
      "заботливая и милая женщина:заботливый и милый женщина(Ncfsny, 4089)\n",
      "\n",
      "музыкальную школу:музыкальный школа(Ncfsan, 872)\n",
      "музыкальной школы:музыкальный школа(Ncfsgn, 3636)\n",
      "музыкальной школы:музыкальный школа(Ncfsgn, 3993)\n",
      "\n",
      "отец:отец(Ncmsny, 2312)\n",
      "отцу:отец(Ncmsdy, 3546)\n",
      "отцу:отец(Ncmsdy, 3904)\n",
      "\n",
      "Новенький:новенький(Ncmsny, 3246)\n",
      "Он:он(P-3msnn, 3283)\n",
      "себя:себя(P----an, 3296)\n",
      "\n",
      "собственный класс мальчика:собственный класс мальчик(Ncmsan, 2949)\n",
      "сборная окрестных дворов:сборная окрестный двор(Ncfsnn, 3034)\n",
      "ребята неграмотные и не понимающие алгебры:ребята неграмотный и не понимать алгебра(Ncmpnn, 3060)\n",
      "Они:они(P-3-pnn, 3384)\n",
      "Они:они(P-3-pnn, 3412)\n",
      "\n",
      "классом этого друга:класс это друг(Ncmsin, 2540)\n",
      "они:они(P-3-pnn, 2565)\n",
      "серьезные восьмиклассники:серьезный восьмиклассник(Ncmpny, 2589)\n",
      "ними:они(P-3-pin, 2696)\n",
      "их:они(P-3-pan, 2705)\n",
      "\n",
      "обожаемый старший друг мальчика , еще с детского садика:обожать старший друг мальчик , еще с детский садик(Ncmsny, 363)\n",
      "друг с детского садика:друг с детский садик(P---snn, 2478)\n",
      "этого друга:это друг(P---san, 2548)\n",
      "этот друг:этот друг(P---snn, 2725)\n",
      "\n",
      "две арии Козла:два ария козел(Mcf-a, 1120)\n",
      "свою партию:свой партия(Ncfsan, 2186)\n",
      "которую:который(P--fsaa, 2199)\n",
      "\n",
      "оперу:опера(Ncfsan, 1076)\n",
      "опера:опера(Ncfsnn, 2076)\n",
      "их оперу:они опера(Ncfsan, 2175)\n",
      "\n",
      "детьми:дитя(Ncnpiy, 1069)\n",
      "дети:дитя(Ncnpny, 1249)\n",
      "\n",
      "другая преподавательница:другой преподавательница(Ncfsny, 1728)\n",
      "Новая учительница:новый учительница(Ncfsny, 1948)\n",
      "\n",
      "красивая и любимая учительница по сольфеджио:красивый и любимый учительница по сольфеджио(Ncfsny, 994)\n",
      "которая:который(P--fsna, 1040)\n",
      "учительницы:учительница(Ncfsgy, 1624)\n",
      "Она:она(P-3fsnn, 1654)\n",
      "своего:свой(P--msga, 1692)\n",
      "та:тот(P--fsna, 1861)\n",
      "педагогический талант:педагогический талант(Ncmsnn, 1918)\n",
      "той:тот(P--fsga, 2039)\n",
      "\n",
      "новую хорошую школу:новый хороший школа(Ncfsan, 323)\n",
      "этой школы:этот школа(Ncfsgn, 570)\n",
      "новую школу с гуманитарным уклоном:новый школа с гуманитарный уклон(Ncfsan, 801)\n",
      "новую школу:новый школа(Ncfsan, 2411)\n",
      "той , продвинутой и почти гуманитарной школки:тот , продвинуть и почти гуманитарный школка(Ncfsgn, 4128)\n",
      "школу:школа(Ncfsan, 4475)\n",
      "\n",
      "мать:мать(Ncfsny, 520)\n",
      "Она:она(P-3fsnn, 526)\n",
      "мамой:мама(Ncfsiy, 1142)\n",
      "маме:мама(Ncfsdy, 3529)\n",
      "маму:мама(Ncfsay, 3800)\n",
      "мама:мама(Ncfsny, 3899)\n",
      "тебе:ты(P-2-sdn, 4243)\n",
      "Мама:мама(Ncfsny, 4339)\n",
      "Маме:мама(Ncfsdy, 4642)\n",
      "\n",
      "Мальчик:мальчик(Ncmsny, 17)\n",
      "он:он(P-3msnn, 58)\n",
      "мальчика:мальчик(Ncmsgy, 386)\n",
      "ребенок:ребенок(Ncmsny, 421)\n",
      "Мальчик:мальчик(Ncmsny, 843)\n",
      "мальчик:мальчик(Ncmsny, 1089)\n",
      "мальчик:мальчик(Ncmsny, 1327)\n",
      "легко возбудимая натура:легко возбудимая натура(Ncfsnn, 1336)\n",
      "ребенка:ребенок(Ncmsgy, 1681)\n",
      "Его:его(P-3msan, 1718)\n",
      "Мальчик:мальчик(Ncmsny, 2122)\n",
      "Он:он(P-3msnn, 2160)\n",
      "свою:свой(P--fsaa, 2186)\n",
      "его:его(P-3msan, 2296)\n",
      "Мальчик:мальчик(Ncmsny, 2330)\n",
      "Мальчик:мальчик(Ncmsny, 2508)\n",
      "Мальчик:мальчик(Ncmsny, 2616)\n",
      "Он:он(P-3msnn, 2702)\n",
      "нему:он(P-3msdn, 2761)\n",
      "младше - классника:молодой - классника(Afcmsnf, 2798)\n",
      "его:он(P-3msan, 2840)\n",
      "ты:ты(P-2-snn, 2925)\n",
      "мальчика:мальчик(Ncmsgy, 2967)\n",
      "Мальчика:мальчик(Ncmsay, 3192)\n",
      "ним:он(P-3msin, 3241)\n",
      "Мальчик:мальчик(Ncmsny, 3348)\n",
      "него:он(P-3msgn, 3427)\n",
      "Мальчик:мальчик(Ncmsny, 3495)\n",
      "он:он(P-3msnn, 3564)\n",
      "он:он(P-3msnn, 3770)\n",
      "Мне:я(P-1-sdn, 3807)\n",
      "Ему:он(P-3msdn, 3860)\n",
      "ребенок:ребенок(Ncmsny, 4014)\n",
      "Мальчик:мальчик(Ncmsny, 4217)\n",
      "Я:я(P-1-snn, 4238)\n",
      "мне:я(P-1-sdn, 4261)\n",
      "Я:я(P-1-snn, 4280)\n",
      "Ты:ты(P-2-snn, 4420)\n",
      "Ты:ты(P-2-snn, 4446)\n",
      "мальчик:мальчик(Ncmsny, 4539)\n",
      "Его:его(P--msga, 4584)\n",
      "\n",
      "сольфеджио:сольфеджио(Ncnsdn, 1028)\n",
      "основной предмет:основной предмет(Ncmsan, 1454)\n",
      "сольфеджио:сольфеджио(Ncnsan, 1476)\n",
      "\n"
     ]
    }
   ],
   "source": [
    "scores, test_groups, test_chains = clf.score(rucoref_test, gs_mentions, gs_groups)\n",
    "coref_utils.print_chains_in_text(rucoref_test, 1, test_chains, gs_mentions)"
   ]
  },
  {
   "cell_type": "code",
   "execution_count": 20,
   "metadata": {
    "collapsed": false
   },
   "outputs": [
    {
     "name": "stdout",
     "output_type": "stream",
     "text": [
      "-- SYS --\n",
      "Мальчик:мальчик(Ncmsny, 17)\n",
      "мальчика:мальчик(Ncmsgy, 386)\n",
      "Мальчик:мальчик(Ncmsny, 843)\n",
      "мальчик:мальчик(Ncmsny, 1089)\n",
      "мальчик:мальчик(Ncmsny, 1327)\n",
      "Мальчик:мальчик(Ncmsny, 2122)\n",
      "Мальчик:мальчик(Ncmsny, 2330)\n",
      "Мальчик:мальчик(Ncmsny, 2508)\n",
      "Мальчик:мальчик(Ncmsny, 2616)\n",
      "мальчика:мальчик(Ncmsgy, 2967)\n",
      "Мальчика:мальчик(Ncmsay, 3192)\n",
      "Мальчик:мальчик(Ncmsny, 3348)\n",
      "Мальчик:мальчик(Ncmsny, 3495)\n",
      "Мальчик:мальчик(Ncmsny, 4217)\n",
      "мальчик:мальчик(Ncmsny, 4539)\n",
      "\n",
      "он:он(P-3msnn, 58)\n",
      "своего:свой(P--msga, 1692)\n",
      "Его:его(P-3msan, 1718)\n",
      "Он:он(P-3msnn, 2160)\n",
      "его:его(P-3msan, 2296)\n",
      "\n",
      "новую хорошую школу:новый хороший школа(Ncfsan, 323)\n",
      "этой школы:этот школа(Ncfsgn, 570)\n",
      "новую школу с гуманитарным уклоном:новый школа с гуманитарный уклон(Ncfsan, 801)\n",
      "музыкальную школу:музыкальный школа(Ncfsan, 872)\n",
      "новую школу:новый школа(Ncfsan, 2411)\n",
      "музыкальной школы:музыкальный школа(Ncfsgn, 3636)\n",
      "музыкальной школы:музыкальный школа(Ncfsgn, 3993)\n",
      "школу:школа(Ncfsan, 4475)\n",
      "\n",
      "отец:отец(Ncmsny, 2312)\n",
      "отцу:отец(Ncmsdy, 3546)\n",
      "отцу:отец(Ncmsdy, 3904)\n",
      "\n",
      "классом этого друга:класс это друг(Ncmsin, 2540)\n",
      "собственный класс мальчика:собственный класс мальчик(Ncmsan, 2949)\n",
      "\n",
      "ребенок:ребенок(Ncmsny, 421)\n",
      "ребенка:ребенок(Ncmsgy, 1681)\n",
      "ребенок:ребенок(Ncmsny, 4014)\n",
      "\n",
      "Она:она(P-3fsnn, 526)\n",
      "которая:который(P--fsna, 1040)\n",
      "Она:она(P-3fsnn, 1654)\n",
      "та:тот(P--fsna, 1861)\n",
      "той:тот(P--fsga, 2039)\n",
      "\n",
      "свою:свой(P--fsaa, 2186)\n",
      "которую:который(P--fsaa, 2199)\n",
      "\n",
      "красивая и любимая учительница по сольфеджио:красивый и любимый учительница по сольфеджио(Ncfsny, 994)\n",
      "учительницы:учительница(Ncfsgy, 1624)\n",
      "Новая учительница:новый учительница(Ncfsny, 1948)\n",
      "\n",
      "сольфеджио:сольфеджио(Ncnsdn, 1028)\n",
      "сольфеджио:сольфеджио(Ncnsan, 1476)\n",
      "\n",
      "друг с детского садика:друг с детский садик(P---snn, 2478)\n",
      "этого друга:это друг(P---san, 2548)\n",
      "\n",
      "детьми:дитя(Ncnpiy, 1069)\n",
      "дети:дитя(Ncnpny, 1249)\n",
      "\n",
      "оперу:опера(Ncfsan, 1076)\n",
      "опера:опера(Ncfsnn, 2076)\n",
      "их оперу:они опера(Ncfsan, 2175)\n",
      "\n",
      "Мне:я(P-1-sdn, 3807)\n",
      "Я:я(P-1-snn, 4238)\n",
      "тебе:ты(P-2-sdn, 4243)\n",
      "\n",
      "они:они(P-3-pnn, 2565)\n",
      "ними:они(P-3-pin, 2696)\n",
      "Он:он(P-3msnn, 2702)\n",
      "нему:он(P-3msdn, 2761)\n",
      "его:он(P-3msan, 2840)\n",
      "ним:он(P-3msin, 3241)\n",
      "Он:он(P-3msnn, 3283)\n",
      "него:он(P-3msgn, 3427)\n",
      "он:он(P-3msnn, 3564)\n",
      "он:он(P-3msnn, 3770)\n",
      "Ему:он(P-3msdn, 3860)\n",
      "Его:его(P--msga, 4584)\n",
      "\n",
      "мамой:мама(Ncfsiy, 1142)\n",
      "маме:мама(Ncfsdy, 3529)\n",
      "маму:мама(Ncfsay, 3800)\n",
      "мама:мама(Ncfsny, 3899)\n",
      "Мама:мама(Ncfsny, 4339)\n",
      "Маме:мама(Ncfsdy, 4642)\n",
      "\n",
      "их:они(P-3-pan, 2705)\n",
      "этот друг:этот друг(P---snn, 2725)\n",
      "\n",
      "Они:они(P-3-pnn, 3384)\n",
      "Они:они(P-3-pnn, 3412)\n",
      "\n",
      "мне:я(P-1-sdn, 4261)\n",
      "Я:я(P-1-snn, 4280)\n",
      "Ты:ты(P-2-snn, 4420)\n",
      "Ты:ты(P-2-snn, 4446)\n",
      "\n",
      "обожаемый старший друг мальчика , еще с детского садика:обожать старший друг мальчик , еще с детский садик(Ncmsny, 363)\n",
      "\n",
      "мать:мать(Ncfsny, 520)\n",
      "\n",
      "ребята неграмотные и не понимающие алгебры:ребята неграмотный и не понимать алгебра(Ncmpnn, 3060)\n",
      "\n",
      "Новенький:новенький(Ncmsny, 3246)\n",
      "\n",
      "ты:ты(P-2-snn, 2925)\n",
      "\n",
      "сборная окрестных дворов:сборная окрестный двор(Ncfsnn, 3034)\n",
      "\n",
      "легко возбудимая натура:легко возбудимая натура(Ncfsnn, 1336)\n",
      "\n",
      "основной предмет:основной предмет(Ncmsan, 1454)\n",
      "\n",
      "себя:себя(P----an, 3296)\n",
      "\n",
      "свою партию:свой партия(Ncfsan, 2186)\n",
      "\n",
      "заботливая и милая женщина:заботливый и милый женщина(Ncfsny, 4089)\n",
      "\n",
      "той , продвинутой и почти гуманитарной школки:тот , продвинуть и почти гуманитарный школка(Ncfsgn, 4128)\n",
      "\n",
      "педагог по фортепьяно:педагог по фортепьяно(Ncmsny, 4066)\n",
      "\n",
      "две арии Козла:два ария козел(Mcf-a, 1120)\n",
      "\n",
      "педагогический талант:педагогический талант(Ncmsnn, 1918)\n",
      "\n",
      "другая преподавательница:другой преподавательница(Ncfsny, 1728)\n",
      "\n",
      "младше - классника:молодой - классника(Afcmsnf, 2798)\n",
      "\n",
      "серьезные восьмиклассники:серьезный восьмиклассник(Ncmpny, 2589)\n",
      "\n",
      "\n",
      "\n",
      "-- GS --\n",
      "педагог по фортепьяно:педагог по фортепьяно(Ncmsny, 4066)\n",
      "заботливая и милая женщина:заботливый и милый женщина(Ncfsny, 4089)\n",
      "\n",
      "музыкальную школу:музыкальный школа(Ncfsan, 872)\n",
      "музыкальной школы:музыкальный школа(Ncfsgn, 3636)\n",
      "музыкальной школы:музыкальный школа(Ncfsgn, 3993)\n",
      "\n",
      "отец:отец(Ncmsny, 2312)\n",
      "отцу:отец(Ncmsdy, 3546)\n",
      "отцу:отец(Ncmsdy, 3904)\n",
      "\n",
      "Новенький:новенький(Ncmsny, 3246)\n",
      "Он:он(P-3msnn, 3283)\n",
      "себя:себя(P----an, 3296)\n",
      "\n",
      "собственный класс мальчика:собственный класс мальчик(Ncmsan, 2949)\n",
      "сборная окрестных дворов:сборная окрестный двор(Ncfsnn, 3034)\n",
      "ребята неграмотные и не понимающие алгебры:ребята неграмотный и не понимать алгебра(Ncmpnn, 3060)\n",
      "Они:они(P-3-pnn, 3384)\n",
      "Они:они(P-3-pnn, 3412)\n",
      "\n",
      "классом этого друга:класс это друг(Ncmsin, 2540)\n",
      "они:они(P-3-pnn, 2565)\n",
      "серьезные восьмиклассники:серьезный восьмиклассник(Ncmpny, 2589)\n",
      "ними:они(P-3-pin, 2696)\n",
      "их:они(P-3-pan, 2705)\n",
      "\n",
      "обожаемый старший друг мальчика , еще с детского садика:обожать старший друг мальчик , еще с детский садик(Ncmsny, 363)\n",
      "друг с детского садика:друг с детский садик(P---snn, 2478)\n",
      "этого друга:это друг(P---san, 2548)\n",
      "этот друг:этот друг(P---snn, 2725)\n",
      "\n",
      "две арии Козла:два ария козел(Mcf-a, 1120)\n",
      "свою партию:свой партия(Ncfsan, 2186)\n",
      "которую:который(P--fsaa, 2199)\n",
      "\n",
      "оперу:опера(Ncfsan, 1076)\n",
      "опера:опера(Ncfsnn, 2076)\n",
      "их оперу:они опера(Ncfsan, 2175)\n",
      "\n",
      "детьми:дитя(Ncnpiy, 1069)\n",
      "дети:дитя(Ncnpny, 1249)\n",
      "\n",
      "другая преподавательница:другой преподавательница(Ncfsny, 1728)\n",
      "Новая учительница:новый учительница(Ncfsny, 1948)\n",
      "\n",
      "красивая и любимая учительница по сольфеджио:красивый и любимый учительница по сольфеджио(Ncfsny, 994)\n",
      "которая:который(P--fsna, 1040)\n",
      "учительницы:учительница(Ncfsgy, 1624)\n",
      "Она:она(P-3fsnn, 1654)\n",
      "своего:свой(P--msga, 1692)\n",
      "та:тот(P--fsna, 1861)\n",
      "педагогический талант:педагогический талант(Ncmsnn, 1918)\n",
      "той:тот(P--fsga, 2039)\n",
      "\n",
      "новую хорошую школу:новый хороший школа(Ncfsan, 323)\n",
      "этой школы:этот школа(Ncfsgn, 570)\n",
      "новую школу с гуманитарным уклоном:новый школа с гуманитарный уклон(Ncfsan, 801)\n",
      "новую школу:новый школа(Ncfsan, 2411)\n",
      "той , продвинутой и почти гуманитарной школки:тот , продвинуть и почти гуманитарный школка(Ncfsgn, 4128)\n",
      "школу:школа(Ncfsan, 4475)\n",
      "\n",
      "мать:мать(Ncfsny, 520)\n",
      "Она:она(P-3fsnn, 526)\n",
      "мамой:мама(Ncfsiy, 1142)\n",
      "маме:мама(Ncfsdy, 3529)\n",
      "маму:мама(Ncfsay, 3800)\n",
      "мама:мама(Ncfsny, 3899)\n",
      "тебе:ты(P-2-sdn, 4243)\n",
      "Мама:мама(Ncfsny, 4339)\n",
      "Маме:мама(Ncfsdy, 4642)\n",
      "\n",
      "Мальчик:мальчик(Ncmsny, 17)\n",
      "он:он(P-3msnn, 58)\n",
      "мальчика:мальчик(Ncmsgy, 386)\n",
      "ребенок:ребенок(Ncmsny, 421)\n",
      "Мальчик:мальчик(Ncmsny, 843)\n",
      "мальчик:мальчик(Ncmsny, 1089)\n",
      "мальчик:мальчик(Ncmsny, 1327)\n",
      "легко возбудимая натура:легко возбудимая натура(Ncfsnn, 1336)\n",
      "ребенка:ребенок(Ncmsgy, 1681)\n",
      "Его:его(P-3msan, 1718)\n",
      "Мальчик:мальчик(Ncmsny, 2122)\n",
      "Он:он(P-3msnn, 2160)\n",
      "свою:свой(P--fsaa, 2186)\n",
      "его:его(P-3msan, 2296)\n",
      "Мальчик:мальчик(Ncmsny, 2330)\n",
      "Мальчик:мальчик(Ncmsny, 2508)\n",
      "Мальчик:мальчик(Ncmsny, 2616)\n",
      "Он:он(P-3msnn, 2702)\n",
      "нему:он(P-3msdn, 2761)\n",
      "младше - классника:молодой - классника(Afcmsnf, 2798)\n",
      "его:он(P-3msan, 2840)\n",
      "ты:ты(P-2-snn, 2925)\n",
      "мальчика:мальчик(Ncmsgy, 2967)\n",
      "Мальчика:мальчик(Ncmsay, 3192)\n",
      "ним:он(P-3msin, 3241)\n",
      "Мальчик:мальчик(Ncmsny, 3348)\n",
      "него:он(P-3msgn, 3427)\n",
      "Мальчик:мальчик(Ncmsny, 3495)\n",
      "он:он(P-3msnn, 3564)\n",
      "он:он(P-3msnn, 3770)\n",
      "Мне:я(P-1-sdn, 3807)\n",
      "Ему:он(P-3msdn, 3860)\n",
      "ребенок:ребенок(Ncmsny, 4014)\n",
      "Мальчик:мальчик(Ncmsny, 4217)\n",
      "Я:я(P-1-snn, 4238)\n",
      "мне:я(P-1-sdn, 4261)\n",
      "Я:я(P-1-snn, 4280)\n",
      "Ты:ты(P-2-snn, 4420)\n",
      "Ты:ты(P-2-snn, 4446)\n",
      "мальчик:мальчик(Ncmsny, 4539)\n",
      "Его:его(P--msga, 4584)\n",
      "\n",
      "сольфеджио:сольфеджио(Ncnsdn, 1028)\n",
      "основной предмет:основной предмет(Ncmsan, 1454)\n",
      "сольфеджио:сольфеджио(Ncnsan, 1476)\n",
      "\n"
     ]
    }
   ],
   "source": [
    "coref_utils.print_chains_in_text(rucoref_test, 1, test_chains, gs_mentions)"
   ]
  }
 ],
 "metadata": {
  "anaconda-cloud": {},
  "kernelspec": {
   "display_name": "Python [default]",
   "language": "python",
   "name": "python2"
  },
  "language_info": {
   "codemirror_mode": {
    "name": "ipython",
    "version": 2
   },
   "file_extension": ".py",
   "mimetype": "text/x-python",
   "name": "python",
   "nbconvert_exporter": "python",
   "pygments_lexer": "ipython2",
   "version": "2.7.12"
  }
 },
 "nbformat": 4,
 "nbformat_minor": 1
}
