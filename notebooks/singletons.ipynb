{
 "cells": [
  {
   "cell_type": "markdown",
   "metadata": {},
   "source": [
    "Experiment for the paper \"Identification of singleton mentions in Russian\"\n",
    "==============================================\n",
    "Replication of CLLS-2016 paper (Ionov and Toldova 2016)\n",
    "-------------------------------------"
   ]
  },
  {
   "cell_type": "markdown",
   "metadata": {},
   "source": [
    "To reproduce this experiment you will need:\n",
    "1. [RuCor corpus (from 2015-10-29)](http://rucoref.maimbava.net/files/rucoref_29.10.2015.zip)\n",
    "2. [`scikit-learn`](http://scikit-learn.org/stable/install.html), [`unbalanced-dataset`](https://github.com/fmfn/UnbalancedDataset), [`matplotlib`](http://matplotlib.org/users/installing.html) Python modules\n",
    "2. `anaphoralib` [Python module](https://github.com/max-ionov/rucoref)\n",
    "\n",
    "Since `anaphoralib` is in an early stage of development, there is no way to install it yet, so in order to import it, you should `cd` to the folder with the module. Paths to the corpus should be updated accordingly."
   ]
  },
  {
   "cell_type": "code",
   "execution_count": 2,
   "metadata": {
    "collapsed": false
   },
   "outputs": [
    {
     "name": "stdout",
     "output_type": "stream",
     "text": [
      "/media/max/Extension/Projects/Coreference\n"
     ]
    }
   ],
   "source": [
    "%cd '/media/max/Extension/Projects/Coreference/'"
   ]
  },
  {
   "cell_type": "code",
   "execution_count": 3,
   "metadata": {
    "collapsed": false
   },
   "outputs": [],
   "source": [
    "from anaphoralib.corpora import rueval\n",
    "from anaphoralib.tagsets import multeast\n",
    "from anaphoralib.experiments.base import BaseClassifier\n",
    "from anaphoralib import utils\n",
    "\n",
    "from sklearn.ensemble import RandomForestClassifier\n",
    "from sklearn.linear_model import LogisticRegression\n",
    "from unbalanced_dataset import SMOTE\n",
    "\n",
    "import numpy as np\n",
    "\n",
    "%matplotlib inline"
   ]
  },
  {
   "cell_type": "code",
   "execution_count": 4,
   "metadata": {
    "collapsed": true
   },
   "outputs": [],
   "source": [
    "lists_dir = 'CLLS-2016/wordlists'\n",
    "texts_dir = 'Corpus-2015/Tokens.txt'\n",
    "gs_dir = 'Corpus-2015/Groups.txt'\n",
    "\n",
    "tagset = multeast\n",
    "\n",
    "random_state = 42"
   ]
  },
  {
   "cell_type": "markdown",
   "metadata": {},
   "source": [
    "Reading the texts from GS and matching them to actual texts\n",
    "--------------"
   ]
  },
  {
   "cell_type": "markdown",
   "metadata": {},
   "source": [
    "### Loading chains and GS"
   ]
  },
  {
   "cell_type": "code",
   "execution_count": 5,
   "metadata": {
    "collapsed": true
   },
   "outputs": [],
   "source": [
    "rucoref = rueval.RuCorefCorpus(multeast, rueval)"
   ]
  },
  {
   "cell_type": "code",
   "execution_count": 6,
   "metadata": {
    "collapsed": false
   },
   "outputs": [],
   "source": [
    "rucoref.load_texts(texts_dir)\n",
    "rucoref.load_gs(gs_dir)"
   ]
  },
  {
   "cell_type": "code",
   "execution_count": 7,
   "metadata": {
    "collapsed": false
   },
   "outputs": [],
   "source": [
    "rucoref.find_groups()"
   ]
  },
  {
   "cell_type": "code",
   "execution_count": 8,
   "metadata": {
    "collapsed": false
   },
   "outputs": [
    {
     "data": {
      "text/plain": [
       "[Во(Sp-a, 0),\n",
       " время своих прогулок(Ncnsan, 3),\n",
       " в(Sp-l, 24),\n",
       " окрестностях Симеиза(Ncfpln, 26),\n",
       " я(P-1-snn, 47),\n",
       " обратил(Vmis-sma-p, 49),\n",
       " внимание(Ncnsan, 57),\n",
       " на(Sp-a, 66),\n",
       " одинокую дачу(Ncfsan, 69),\n",
       " стоявшую(Vmps-sfa-ea, 84)]"
      ]
     },
     "execution_count": 8,
     "metadata": {},
     "output_type": "execute_result"
    }
   ],
   "source": [
    "rucoref.groups[0][:10]"
   ]
  },
  {
   "cell_type": "code",
   "execution_count": 9,
   "metadata": {
    "collapsed": false
   },
   "outputs": [
    {
     "name": "stdout",
     "output_type": "stream",
     "text": [
      "Number of texts: 181\n",
      "Number of GS texts: 181\n",
      "Number of chains in a corpus: 3638\n",
      "Number of words in all chains: 16557\n"
     ]
    }
   ],
   "source": [
    "rucoref.print_stats()"
   ]
  },
  {
   "cell_type": "code",
   "execution_count": 10,
   "metadata": {
    "collapsed": true
   },
   "outputs": [],
   "source": [
    "rucoref.create_indices()"
   ]
  },
  {
   "cell_type": "markdown",
   "metadata": {},
   "source": [
    "### Loading special lists\n",
    "Special lists load from the directory stored in `lists_dir`"
   ]
  },
  {
   "cell_type": "code",
   "execution_count": 11,
   "metadata": {
    "collapsed": true
   },
   "outputs": [],
   "source": [
    "import codecs\n",
    "\n",
    "def load_list(filename):\n",
    "    data = set()\n",
    "    with codecs.open(filename, encoding='utf-8') as inp_file:\n",
    "        for line in inp_file:\n",
    "            data.add(line.strip('\\r\\n'))\n",
    "    \n",
    "    return data"
   ]
  },
  {
   "cell_type": "code",
   "execution_count": 12,
   "metadata": {
    "collapsed": false
   },
   "outputs": [],
   "source": [
    "import os\n",
    "\n",
    "wordlists = {}\n",
    "\n",
    "for filename in os.listdir(lists_dir):\n",
    "    wordlists[filename.replace('.txt', '')] = load_list(os.path.join(lists_dir, filename))"
   ]
  },
  {
   "cell_type": "code",
   "execution_count": 13,
   "metadata": {
    "collapsed": false
   },
   "outputs": [
    {
     "name": "stdout",
     "output_type": "stream",
     "text": [
      "['neg_pronouns', 'non-identity_sim', 'possessives', 'indef']\n"
     ]
    }
   ],
   "source": [
    "print wordlists.keys()"
   ]
  },
  {
   "cell_type": "markdown",
   "metadata": {},
   "source": [
    "### Building indices and dictionaries"
   ]
  },
  {
   "cell_type": "markdown",
   "metadata": {},
   "source": [
    "Building additional indices (of all words and all groups):"
   ]
  },
  {
   "cell_type": "code",
   "execution_count": 14,
   "metadata": {
    "collapsed": false
   },
   "outputs": [],
   "source": [
    "import collections\n",
    "\n",
    "word_index = []\n",
    "group_index = []\n",
    "\n",
    "for i, text in enumerate(rucoref.texts):\n",
    "    word_index.append(collections.defaultdict(set))\n",
    "    group_index.append(collections.defaultdict(set))\n",
    "    \n",
    "    for word in text:\n",
    "        word_index[-1]['_'.join(word.lemma)].add(word.offset)\n",
    "    for group in rucoref.groups[i]:\n",
    "        for g in group.iter_groups():\n",
    "            group_index[-1]['_'.join(g.lemma)].add(g.offset)"
   ]
  },
  {
   "cell_type": "code",
   "execution_count": 15,
   "metadata": {
    "collapsed": false
   },
   "outputs": [
    {
     "name": "stdout",
     "output_type": "stream",
     "text": [
      "спокойно\n",
      "кой\n",
      "другой_сторона_можжевелового_куст\n",
      "линия\n",
      "поднять\n",
      "прежде\n",
      "кругом\n",
      "подставить\n",
      "хотя\n",
      "и\n",
      "хоть\n",
      "случиться\n",
      "вышележащие\n",
      "поддерживать\n",
      "небольшой\n"
     ]
    }
   ],
   "source": [
    "print '\\n'.join(group_index[0].keys()[:15])"
   ]
  },
  {
   "cell_type": "markdown",
   "metadata": {},
   "source": [
    "### Creating a classifier"
   ]
  },
  {
   "cell_type": "code",
   "execution_count": 16,
   "metadata": {
    "collapsed": false
   },
   "outputs": [],
   "source": [
    "import re\n",
    "\n",
    "class SingletonClassifier(BaseClassifier):\n",
    "    def __init__(self):\n",
    "        super(SingletonClassifier, self).__init__()\n",
    "        \n",
    "        self.feat_zones_ = ('struct', 'string', 'lists', 'synt')\n",
    "        self.stats = {'str_matches_before', 'head_matches_before', 'n_adj', 'len_np', 'is_genitive'}\n",
    "        self.stats.update('in_list_{}'.format(l) for l in wordlists)\n",
    "        \n",
    "        self.rx_lat = re.compile('[A-Za-z]')\n",
    "        self.pronouns = {u\"его\", u\"ее\", u\"её\", u\"ей\", u\"ему\", u\"ею\", u\"им\", u\"ими\", u\"их\", u\"которая\", \n",
    "                u\"которого\", u\"которое\", u\"которой\", u\"котором\", u\"которому\", u\"которую\", u\"которые\", \n",
    "                u\"который\", u\"которым\", u\"которыми\", u\"которых\", u\"него\", u\"нее\", u\"неё\", u\"ней\", u\"нем\", \n",
    "                u\"нём\", u\"нему\", u\"нею\", u\"ним\", u\"ними\", u\"них\", u\"он\", u\"она\", u\"они\", u\"оно\", u\"свое\", \n",
    "                u\"своё\", u\"своего\", u\"своей\", u\"своем\", u\"своём\", u\"своему\", u\"своею\", u\"свой\", u\"свои\", \n",
    "                u\"своим\", u\"своими\", u\"своих\", u\"свою\", u\"своя\", u\"себе\", u\"себя\", u\"собой\", u\"собою\"}\n",
    "        \n",
    "        self.clear_stats()\n",
    "        \n",
    "    def get_feature_vector(self, corpus, group, i_text, save_feature_names=False):\n",
    "        if save_feature_names:\n",
    "            self.feature_names_ = []\n",
    "            \n",
    "        vctr = []\n",
    "        \n",
    "        group_lemma = '_'.join(group.lemma)\n",
    "        group_occurrences = group_index[i_text][group_lemma] if group_lemma in group_index[i_text] else []\n",
    "\n",
    "        head_index = group.head\n",
    "        head_lemma = group.lemma[group.head]\n",
    "        head_occurrences = word_index[i_text][head_lemma] if head_lemma in word_index[i_text] else []\n",
    "        head_offset = group.head_offset\n",
    "\n",
    "        group_words = group.words if group.type != 'word' else [group]\n",
    "\n",
    "        str_matches_before = sum(1 for occ in group_occurrences if occ < group.offset)\n",
    "        head_matches_before = sum(1 for occ in head_occurrences if occ < group.offset)\n",
    "        \n",
    "        adj_in_group = [word for word in group_words[:head_index+1] if tagset.pos_filters['adj'](word)]\n",
    "        \n",
    "        self.stats['str_matches_before'].append(str_matches_before)\n",
    "        self.stats['head_matches_before'].append(head_matches_before)\n",
    "        \n",
    "        self.stats['n_adj'].append(len(adj_in_group))\n",
    "        self.stats['len_np'].append(len(group_words))\n",
    "        \n",
    "        if 'string' in self.feat_zones_:\n",
    "            vctr.append(('str_match_before=0', str_matches_before == 0))\n",
    "            vctr.append(('head_match_before=0', head_matches_before == 0))\n",
    "            \n",
    "            #vctr.append(('uppercase', all(word.isupper() and len(word) > 1 for word in group.wordform)))\n",
    "            #vctr.append(('capitalized', any(word[0].isupper() and len(group.wordform) > 1 for word in group.wordform[1:])))\n",
    "            vctr.append(('latin', any(self.rx_lat.search(word) for word in group.wordform)))\n",
    "            vctr.append(('is_proper_noun', corpus.tagset.pos_filters['properNoun'](group)))\n",
    "            \n",
    "            vctr.append(('is_animate', corpus.tagset.extract_feature('animate', group) == u'y'))\n",
    "        vctr.append(('is_pronoun', group.wordform[0] in self.pronouns and len(group_words) == 1))\n",
    "        \n",
    "        i_word = corpus.words_index[i_text][group.offset]\n",
    "        left_word = corpus.texts[i_text][i_word - 1] if i_word > 0 else None\n",
    "        right_word = corpus.texts[i_text][i_word + len(group.wordform) + 1] \\\n",
    "                            if i_word + len(group.wordform) + 1 < len(corpus.texts[i_text]) else None\n",
    "        \n",
    "        if 'struct' in self.feat_zones_:\n",
    "            #vctr.append(('conj', bool((left_word and corpus.tagset.pos_filters['conj'](left_word)) \n",
    "            #            or (right_word and corpus.tagset.pos_filters['conj'](right_word)))))\n",
    "            \n",
    "            vctr.append(('len_np==1', len(group.tags) == 1))\n",
    "            vctr.append(('1<len_np<4', 1 < len(group.tags) < 4))\n",
    "            vctr.append(('len_np>=4', 1 < len(group.tags) >= 4))\n",
    "            \n",
    "            vctr.append(('n_adj=0', len(adj_in_group) == 0))\n",
    "            #vctr.append(('n_adj>1', len(adj_in_group) > 1))\n",
    "            vctr.append(('n_adj>2', len(adj_in_group) > 2))\n",
    "            \n",
    "            vctr.append(('is_genitive', corpus.tagset.extract_feature('case', group) == u'g'))\n",
    "            self.stats['is_genitive'].append(vctr[-1][1])\n",
    "        \n",
    "        sent_begin = left_word is None or left_word.tag == 'SENT'\n",
    "        sent_end = right_word is None or right_word.tag == 'SENT'\n",
    "        \n",
    "        nomin = corpus.tagset.extract_feature('case', group) == u'n'\n",
    "        accus = corpus.tagset.extract_feature('case', group) == u'a'\n",
    "        \n",
    "        if 'synt' in self.feat_zones_:\n",
    "            vctr.append(('is_subject', nomin or sent_begin))\n",
    "            #vctr.append(('is_object', accus or sent_end))\n",
    "            \n",
    "        if 'lists' in self.feat_zones_:\n",
    "            for l in wordlists:\n",
    "                feat_name = 'in_list_{}'.format(l)\n",
    "                vctr.append((feat_name, any(lemma in wordlists[l] for lemma in group.lemma[:head_index+1])))\n",
    "                self.stats[feat_name].append(vctr[-1][1])\n",
    "        \n",
    "        if save_feature_names:\n",
    "            self.feature_names_ = [feat[0] for feat in vctr]\n",
    "        \n",
    "        return [feat[1] for feat in vctr]\n",
    "    \n",
    "    def prepare_data(self, corpus, random_state=42, test_size=0.3, feature_zones=None):\n",
    "        if feature_zones:\n",
    "            self.feat_zones_ = feature_zones\n",
    "        \n",
    "        self.groups = []\n",
    "        self.x_data = []\n",
    "        self.y_data = []\n",
    "        \n",
    "        self.stats['class'] = []\n",
    "\n",
    "        self.cur_data_ = 'Singletons'\n",
    "        self.class_names_ = ('non-singleton', 'singleton')\n",
    "        \n",
    "        save_features = True\n",
    "    \n",
    "        exceptions = {u'и', u'в', u'а', u'к', u'у', u'по', u'где', u'ведь', u'с'}\n",
    "        for i_text, text in enumerate(corpus.texts):\n",
    "            for i, mention in enumerate(corpus.mentions[i_text]):\n",
    "                group = corpus.heads_index[i_text][mention.offset]\n",
    "                if group.lemma[0] in exceptions and group.tags[0].startswith('N'):\n",
    "                    continue\n",
    "                    \n",
    "                if i not in rucoref.gs_index[i_text]:\n",
    "                    self.y_data.append(self.class_names_.index('singleton'))\n",
    "                else:\n",
    "                    self.y_data.append(self.class_names_.index('non-singleton'))\n",
    "\n",
    "                self.x_data.append(self.get_feature_vector(corpus, group, i_text, save_features))\n",
    "                self.groups.append(group)\n",
    "                self.stats['class'].append(self.class_names_[self.y_data[-1]])\n",
    "                save_features = False\n",
    "\n",
    "                #pronoun_index = self.feature_names_.index('is_pronoun')\n",
    "                #if self.x_data[-1][pronoun_index]:\n",
    "                #    self.x_data.pop()\n",
    "                #    self.y_data.pop()\n",
    "                #    continue\n",
    "                \n",
    "                #del self.x_data[-1][pronoun_index]\n",
    "            \n",
    "        super(SingletonClassifier, self).prepare_data(corpus, random_state, test_size)\n",
    "    \n",
    "        #del self.feature_names_[pronoun_index]\n",
    "        class_numbers = [sum(1 for item in self.y_data if item == cur_class) for cur_class in range(len(self.class_names_))]\n",
    "        self.ratio = float(max(class_numbers) / float(min(class_numbers)))"
   ]
  },
  {
   "cell_type": "markdown",
   "metadata": {},
   "source": [
    "### Training and testing"
   ]
  },
  {
   "cell_type": "code",
   "execution_count": 17,
   "metadata": {
    "collapsed": false
   },
   "outputs": [],
   "source": [
    "singleton_clf = SingletonClassifier()\n",
    "singleton_clf.prepare_data(rucoref, random_state=random_state)"
   ]
  },
  {
   "cell_type": "markdown",
   "metadata": {},
   "source": [
    "#### Baseline"
   ]
  },
  {
   "cell_type": "code",
   "execution_count": 18,
   "metadata": {
    "collapsed": true
   },
   "outputs": [],
   "source": [
    "def baseline_predict(data):\n",
    "    y_pred = np.zeros(len(data))\n",
    "    for i, row in enumerate(data):\n",
    "        y_pred[i] = (row[0] == 1 and row[1] == 1)\n",
    "    \n",
    "    return y_pred"
   ]
  },
  {
   "cell_type": "code",
   "execution_count": 19,
   "metadata": {
    "collapsed": false
   },
   "outputs": [
    {
     "name": "stderr",
     "output_type": "stream",
     "text": [
      "/usr/local/lib/python2.7/dist-packages/matplotlib/collections.py:548: FutureWarning: elementwise comparison failed; returning scalar instead, but in the future will perform elementwise comparison\n",
      "  if self._edgecolors == 'face':\n"
     ]
    },
    {
     "data": {
      "image/png": "[encoded data removed]",
      "text/plain": [
       "<matplotlib.figure.Figure at 0x7f76002b0590>"
      ]
     },
     "metadata": {},
     "output_type": "display_data"
    },
    {
     "name": "stdout",
     "output_type": "stream",
     "text": [
      "Report baseline:                precision    recall  f1-score   support\n",
      "\n",
      "non-singleton      0.423     0.659     0.515      4838\n",
      "    singleton      0.820     0.634     0.715     11872\n",
      "\n",
      "  avg / total      0.705     0.641     0.657     16710\n",
      "\n"
     ]
    }
   ],
   "source": [
    "singleton_clf.test(y_pred=baseline_predict(singleton_clf.x_data_test), test_name='baseline')"
   ]
  },
  {
   "cell_type": "markdown",
   "metadata": {},
   "source": [
    "#### String features"
   ]
  },
  {
   "cell_type": "code",
   "execution_count": 20,
   "metadata": {
    "collapsed": false
   },
   "outputs": [],
   "source": [
    "singleton_clf.prepare_data(rucoref, random_state=random_state, feature_zones=('string',))"
   ]
  },
  {
   "cell_type": "code",
   "execution_count": 21,
   "metadata": {
    "collapsed": false
   },
   "outputs": [
    {
     "name": "stdout",
     "output_type": "stream",
     "text": [
      "Determining classes statistics... 2 classes detected: {0: 10936, 1: 28053}\n",
      "Finding the 10 nearest neighbours...done!\n",
      "Generated 27679 new samples ...\n"
     ]
    }
   ],
   "source": [
    "clf = RandomForestClassifier(n_estimators=200, random_state=random_state)\n",
    "sampler = SMOTE(ratio=singleton_clf.ratio, verbose=True, kind='borderline1', random_state=random_state)\n",
    "\n",
    "singleton_clf.fit(clf, sampler)"
   ]
  },
  {
   "cell_type": "code",
   "execution_count": 22,
   "metadata": {
    "collapsed": false
   },
   "outputs": [
    {
     "name": "stdout",
     "output_type": "stream",
     "text": [
      "Classifier <class 'sklearn.ensemble.forest.RandomForestClassifier'>: fitted\n",
      "Data: Singletons (non-singleton, singleton)\n",
      "Total:\t55699 samples\n",
      "\t15774 non-singleton\n",
      "\t39925 singleton\n"
     ]
    }
   ],
   "source": [
    "singleton_clf.print_stats()"
   ]
  },
  {
   "cell_type": "code",
   "execution_count": 23,
   "metadata": {
    "collapsed": false
   },
   "outputs": [
    {
     "data": {
      "text/plain": [
       "38989"
      ]
     },
     "execution_count": 23,
     "metadata": {},
     "output_type": "execute_result"
    }
   ],
   "source": [
    "len(singleton_clf.x_data_train)"
   ]
  },
  {
   "cell_type": "code",
   "execution_count": 24,
   "metadata": {
    "collapsed": false
   },
   "outputs": [
    {
     "data": {
      "image/png": "[encoded data removed]",
      "text/plain": [
       "<matplotlib.figure.Figure at 0x7f75f3c58310>"
      ]
     },
     "metadata": {},
     "output_type": "display_data"
    },
    {
     "name": "stdout",
     "output_type": "stream",
     "text": [
      "Report string features:                precision    recall  f1-score   support\n",
      "\n",
      "non-singleton      0.904     0.309     0.461      4838\n",
      "    singleton      0.778     0.987     0.870     11872\n",
      "\n",
      "  avg / total      0.815     0.791     0.752     16710\n",
      "\n"
     ]
    }
   ],
   "source": [
    "singleton_clf.test(test_name='string features')"
   ]
  },
  {
   "cell_type": "markdown",
   "metadata": {},
   "source": [
    "#### String + Struct features"
   ]
  },
  {
   "cell_type": "code",
   "execution_count": 25,
   "metadata": {
    "collapsed": false
   },
   "outputs": [
    {
     "name": "stdout",
     "output_type": "stream",
     "text": [
      "Determining classes statistics... 2 classes detected: {0: 10936, 1: 28053}\n",
      "Finding the 10 nearest neighbours...done!\n",
      "Generated 27679 new samples ...\n"
     ]
    },
    {
     "data": {
      "image/png": "[encoded data removed]",
      "text/plain": [
       "<matplotlib.figure.Figure at 0x7f75f40083d0>"
      ]
     },
     "metadata": {},
     "output_type": "display_data"
    },
    {
     "name": "stdout",
     "output_type": "stream",
     "text": [
      "Report string+struct features:                precision    recall  f1-score   support\n",
      "\n",
      "non-singleton      0.790     0.382     0.514      4838\n",
      "    singleton      0.792     0.959     0.867     11872\n",
      "\n",
      "  avg / total      0.791     0.792     0.765     16710\n",
      "\n"
     ]
    }
   ],
   "source": [
    "singleton_clf = SingletonClassifier()\n",
    "singleton_clf.prepare_data(rucoref, random_state=random_state, feature_zones=('string', 'struct'))\n",
    "clf = RandomForestClassifier(n_estimators=200, random_state=random_state)\n",
    "sampler = sampler=SMOTE(ratio=singleton_clf.ratio, verbose=True, kind='borderline1', random_state=random_state)\n",
    "\n",
    "singleton_clf.fit(clf, sampler)\n",
    "singleton_clf.test(test_name='string+struct features')"
   ]
  },
  {
   "cell_type": "markdown",
   "metadata": {},
   "source": [
    "#### String + Struct + List features"
   ]
  },
  {
   "cell_type": "code",
   "execution_count": 26,
   "metadata": {
    "collapsed": false
   },
   "outputs": [
    {
     "name": "stdout",
     "output_type": "stream",
     "text": [
      "Determining classes statistics... 2 classes detected: {0: 10936, 1: 28053}\n",
      "Finding the 10 nearest neighbours...done!\n",
      "Generated 27679 new samples ...\n"
     ]
    },
    {
     "data": {
      "image/png": "[encoded data removed]",
      "text/plain": [
       "<matplotlib.figure.Figure at 0x7f75f41bcc90>"
      ]
     },
     "metadata": {},
     "output_type": "display_data"
    },
    {
     "name": "stdout",
     "output_type": "stream",
     "text": [
      "Report string+struct+lists:                precision    recall  f1-score   support\n",
      "\n",
      "non-singleton      0.797     0.391     0.525      4838\n",
      "    singleton      0.795     0.959     0.869     11872\n",
      "\n",
      "  avg / total      0.795     0.795     0.770     16710\n",
      "\n"
     ]
    }
   ],
   "source": [
    "singleton_clf = SingletonClassifier()\n",
    "singleton_clf.prepare_data(rucoref, random_state=random_state, feature_zones=('string', 'struct', 'lists'))\n",
    "clf = RandomForestClassifier(n_estimators=200, random_state=random_state)\n",
    "sampler = sampler=SMOTE(ratio=singleton_clf.ratio, verbose=True, kind='borderline1', random_state=random_state)\n",
    "\n",
    "singleton_clf.fit(clf, sampler)\n",
    "singleton_clf.test(test_name='string+struct+lists')"
   ]
  },
  {
   "cell_type": "markdown",
   "metadata": {},
   "source": [
    "#### All features"
   ]
  },
  {
   "cell_type": "code",
   "execution_count": 27,
   "metadata": {
    "collapsed": false
   },
   "outputs": [
    {
     "name": "stdout",
     "output_type": "stream",
     "text": [
      "Determining classes statistics... 2 classes detected: {0: 10936, 1: 28053}\n",
      "Finding the 10 nearest neighbours...done!\n",
      "Generated 27679 new samples ...\n"
     ]
    },
    {
     "data": {
      "image/png": "[encoded data removed]",
      "text/plain": [
       "<matplotlib.figure.Figure at 0x7f75f3c5aa90>"
      ]
     },
     "metadata": {},
     "output_type": "display_data"
    },
    {
     "name": "stdout",
     "output_type": "stream",
     "text": [
      "Report all features:                precision    recall  f1-score   support\n",
      "\n",
      "non-singleton      0.816     0.385     0.523      4838\n",
      "    singleton      0.794     0.965     0.871     11872\n",
      "\n",
      "  avg / total      0.800     0.797     0.770     16710\n",
      "\n"
     ]
    }
   ],
   "source": [
    "singleton_clf = SingletonClassifier()\n",
    "singleton_clf.prepare_data(rucoref, random_state=random_state, feature_zones=('string', 'struct', 'lists', 'synt'))\n",
    "clf = RandomForestClassifier(n_estimators=200, random_state=random_state)\n",
    "sampler = sampler=SMOTE(ratio=singleton_clf.ratio, verbose=True, kind='borderline1', random_state=random_state)\n",
    "\n",
    "singleton_clf.fit(clf, sampler)\n",
    "singleton_clf.test(test_name='all features')"
   ]
  },
  {
   "cell_type": "code",
   "execution_count": 28,
   "metadata": {
    "collapsed": false
   },
   "outputs": [
    {
     "name": "stdout",
     "output_type": "stream",
     "text": [
      "str_match_before=0: 0.1212\n",
      "head_match_before=0: 0.0827\n",
      "latin: 0.0164\n",
      "is_proper_noun: 0.1347\n",
      "is_animate: 0.1158\n",
      "is_pronoun: 0.2702\n",
      "len_np==1: 0.0259\n",
      "1<len_np<4: 0.0197\n",
      "len_np>=4: 0.0033\n",
      "n_adj=0: 0.0220\n",
      "n_adj>2: 0.0002\n",
      "is_genitive: 0.0129\n",
      "is_subject: 0.0309\n",
      "in_list_neg_pronouns: 0.0011\n",
      "in_list_non-identity_sim: 0.0003\n",
      "in_list_possessives: 0.1259\n",
      "in_list_indef: 0.0167\n"
     ]
    }
   ],
   "source": [
    "for i, feat_val in enumerate(singleton_clf.clf_.feature_importances_):\n",
    "    print '{}: {:.4f}'.format(singleton_clf.feature_names_[i], feat_val)"
   ]
  },
  {
   "cell_type": "code",
   "execution_count": 29,
   "metadata": {
    "collapsed": false
   },
   "outputs": [],
   "source": [
    "import codecs\n",
    "\n",
    "out_singletons = codecs.open('singletons.all.txt', 'w', encoding='utf-8')\n",
    "out_non_singletons = codecs.open('non-singletons.all.txt', 'w', encoding='utf-8')\n",
    "for i, item in enumerate(singleton_clf.groups_train):\n",
    "    if singleton_clf.y_data_train[i] == 1:\n",
    "        out_singletons.write(str(singleton_clf.groups_train[i]).decode('utf-8'))\n",
    "        out_singletons.write('\\n')\n",
    "    else:\n",
    "        out_non_singletons.write(str(singleton_clf.groups_train[i]).decode('utf-8'))\n",
    "        out_non_singletons.write('\\n')"
   ]
  },
  {
   "cell_type": "code",
   "execution_count": 30,
   "metadata": {
    "collapsed": false
   },
   "outputs": [],
   "source": [
    "out_fp = codecs.open('singletons.fp.txt', 'w', encoding='utf-8')\n",
    "out_fn = codecs.open('singletons.fn.txt', 'w', encoding='utf-8')\n",
    "\n",
    "y_pred = singleton_clf.clf_.predict(singleton_clf.x_data_test)\n",
    "for i, item in enumerate(singleton_clf.groups_test):\n",
    "    if singleton_clf.y_data_test[i] == 0 and y_pred[i] != singleton_clf.y_data_test[i]:\n",
    "        out_fp.write(str(singleton_clf.groups_test[i]).decode('utf-8'))\n",
    "        out_fp.write('\\n')\n",
    "    if singleton_clf.y_data_test[i] == 1 and y_pred[i] != singleton_clf.y_data_test[i]:\n",
    "        out_fn.write(str(singleton_clf.groups_test[i]).decode('utf-8'))\n",
    "        out_fn.write('\\n')"
   ]
  },
  {
   "cell_type": "markdown",
   "metadata": {},
   "source": [
    "### Calculating feature importances"
   ]
  },
  {
   "cell_type": "code",
   "execution_count": 31,
   "metadata": {
    "collapsed": true
   },
   "outputs": [],
   "source": [
    "regr = LogisticRegression(random_state=random_state)\n",
    "sampler = SMOTE(ratio=singleton_clf.ratio, verbose=False, kind='borderline1', random_state=random_state)\n",
    "\n",
    "singleton_clf.fit(regr, sampler)"
   ]
  },
  {
   "cell_type": "code",
   "execution_count": 32,
   "metadata": {
    "collapsed": false
   },
   "outputs": [
    {
     "name": "stdout",
     "output_type": "stream",
     "text": [
      "str_match_before=0: 0.8355\n",
      "head_match_before=0: 0.9925\n",
      "latin: -2.2110\n",
      "is_proper_noun: -1.5297\n",
      "is_animate: -1.7239\n",
      "is_pronoun: -5.4634\n",
      "len_np==1: -0.8468\n",
      "1<len_np<4: -0.2655\n",
      "len_np>=4: 1.0582\n",
      "n_adj=0: 1.4564\n",
      "n_adj>2: -0.8750\n",
      "is_genitive: 0.2545\n",
      "is_subject: -0.3326\n",
      "in_list_neg_pronouns: 2.3947\n",
      "in_list_non-identity_sim: 0.5961\n",
      "in_list_possessives: -3.0616\n",
      "in_list_indef: 1.2615\n"
     ]
    }
   ],
   "source": [
    "for i, feat_name in enumerate(singleton_clf.feature_names_):\n",
    "    print '{}: {:.4f}'.format(feat_name, regr.coef_[0,i])"
   ]
  },
  {
   "cell_type": "markdown",
   "metadata": {},
   "source": [
    "## Additional actions"
   ]
  },
  {
   "cell_type": "markdown",
   "metadata": {},
   "source": [
    "### Getting feature distributions"
   ]
  },
  {
   "cell_type": "code",
   "execution_count": 33,
   "metadata": {
    "collapsed": true
   },
   "outputs": [],
   "source": [
    "%matplotlib inline\n",
    "import matplotlib.pyplot as plt\n",
    "import matplotlib\n",
    "import seaborn as sns"
   ]
  },
  {
   "cell_type": "code",
   "execution_count": 56,
   "metadata": {
    "collapsed": true
   },
   "outputs": [],
   "source": [
    "import anaphoralib.experiments.utils"
   ]
  },
  {
   "cell_type": "code",
   "execution_count": 34,
   "metadata": {
    "collapsed": false
   },
   "outputs": [
    {
     "data": {
      "text/plain": [
       "['len_np',\n",
       " 'str_matches_before',\n",
       " 'in_list_possessives',\n",
       " 'head_matches_before',\n",
       " 'in_list_neg_pronouns',\n",
       " 'n_adj',\n",
       " 'in_list_non-identity_sim',\n",
       " 'is_genitive',\n",
       " 'in_list_indef',\n",
       " 'class']"
      ]
     },
     "execution_count": 34,
     "metadata": {},
     "output_type": "execute_result"
    }
   ],
   "source": [
    "singleton_clf.stats.keys()"
   ]
  },
  {
   "cell_type": "code",
   "execution_count": 35,
   "metadata": {
    "collapsed": false
   },
   "outputs": [],
   "source": [
    "singleton_clf = SingletonClassifier()\n",
    "singleton_clf.prepare_data(rucoref, random_state=random_state, feature_zones=('string', 'struct', 'lists', 'synt'))\n",
    "\n",
    "feature_distributions = {}\n",
    "for feat_name in singleton_clf.stats:\n",
    "    feature_distributions[feat_name] = {cls: [] for cls in singleton_clf.class_names_ + ('total',)}\n",
    "    \n",
    "    for i, elem in enumerate(singleton_clf.stats['class']):\n",
    "        feature_distributions[feat_name][elem].append(singleton_clf.stats[feat_name][i])\n",
    "        feature_distributions[feat_name]['total'].append(singleton_clf.stats[feat_name][i])"
   ]
  },
  {
   "cell_type": "code",
   "execution_count": 57,
   "metadata": {
    "collapsed": true
   },
   "outputs": [],
   "source": [
    "anaphoralib.experiments.utils.latexify()"
   ]
  },
  {
   "cell_type": "code",
   "execution_count": 39,
   "metadata": {
    "collapsed": false
   },
   "outputs": [],
   "source": [
    "def plot_feat_distribution(distribution, bins, class_names, x_label='Feature value', filename='plot.pdf'):\n",
    "    bins = range(7)\n",
    "    \n",
    "    ax = plt.gca()\n",
    "    ax.set_xlabel(x_label)\n",
    "    ax.set_ylabel(\"Density\")\n",
    "    #ax.set_title(\"Distribution of feature\")\n",
    "    plt.tight_layout()\n",
    "    format_axes(ax)\n",
    "    \n",
    "    normed = True\n",
    "    \n",
    "    true_hist = np.histogram(distribution[class_names[1]], bins, normed=normed)\n",
    "    false_hist = np.histogram(distribution[class_names[0]], bins, normed=normed)\n",
    "    \n",
    "    w = 0.3\n",
    "    \n",
    "    true_x = [item for item in range(len(true_hist[0]))]\n",
    "    false_x = [item+w for item in range(len(false_hist[0]))]\n",
    "    \n",
    "    ax.set_xticks([item + float(w) for item in true_x])\n",
    "    ax.set_xticklabels(true_x)\n",
    "    \n",
    "    rects1 = plt.bar(false_x, false_hist[0], w, color='0.3')\n",
    "    rects2 = plt.bar(true_x, true_hist[0], w, color='0.7')\n",
    "    plt.legend((rects1, rects2), class_names, loc='upper right')\n",
    "    \n",
    "    plt.savefig(\"{}.pdf\".format(filename))\n",
    "    plt.show()\n",
    "    plt.close()"
   ]
  },
  {
   "cell_type": "code",
   "execution_count": 69,
   "metadata": {
    "collapsed": false
   },
   "outputs": [
    {
     "data": {
      "image/png": "[encoded data removed]",
      "text/plain": [
       "<matplotlib.figure.Figure at 0x7f75f37c7890>"
      ]
     },
     "metadata": {},
     "output_type": "display_data"
    },
    {
     "data": {
      "image/png": "[encoded data removed]",
      "text/plain": [
       "<matplotlib.figure.Figure at 0x7f75f29d6c10>"
      ]
     },
     "metadata": {},
     "output_type": "display_data"
    },
    {
     "data": {
      "image/png": "[encoded data removed]",
      "text/plain": [
       "<matplotlib.figure.Figure at 0x7f75f2b14690>"
      ]
     },
     "metadata": {},
     "output_type": "display_data"
    },
    {
     "data": {
      "image/png": "[encoded data removed]",
      "text/plain": [
       "<matplotlib.figure.Figure at 0x7f75f41a5250>"
      ]
     },
     "metadata": {},
     "output_type": "display_data"
    },
    {
     "data": {
      "image/png": "[encoded data removed]",
      "text/plain": [
       "<matplotlib.figure.Figure at 0x7f75f41f4c10>"
      ]
     },
     "metadata": {},
     "output_type": "display_data"
    },
    {
     "data": {
      "image/png": "[encoded data removed]",
      "text/plain": [
       "<matplotlib.figure.Figure at 0x7f75f36e5790>"
      ]
     },
     "metadata": {},
     "output_type": "display_data"
    },
    {
     "data": {
      "image/png": "[encoded data removed]",
      "text/plain": [
       "<matplotlib.figure.Figure at 0x7f75f2a1b9d0>"
      ]
     },
     "metadata": {},
     "output_type": "display_data"
    },
    {
     "data": {
      "image/png": "[encoded data removed]",
      "text/plain": [
       "<matplotlib.figure.Figure at 0x7f75f44b4f50>"
      ]
     },
     "metadata": {},
     "output_type": "display_data"
    },
    {
     "data": {
      "image/png": "[encoded data removed]",
      "text/plain": [
       "<matplotlib.figure.Figure at 0x7f75f2727f50>"
      ]
     },
     "metadata": {},
     "output_type": "display_data"
    }
   ],
   "source": [
    "import os\n",
    "\n",
    "anaphoralib.experiments.utils.latexify(columns=2)\n",
    "for feat_name in feature_distributions:\n",
    "    if feat_name == 'class':\n",
    "        continue\n",
    "    anaphoralib.experiments.utils.plot_feature_distribution(feature_distributions[feat_name], range(7),\n",
    "                                                            singleton_clf.class_names_, \n",
    "                           x_label=feat_name.replace('_', '\\\\_'), filename=os.path.join('CLLS-2016', feat_name))"
   ]
  },
  {
   "cell_type": "code",
   "execution_count": 79,
   "metadata": {
    "collapsed": false
   },
   "outputs": [],
   "source": [
    "from sklearn.learning_curve import learning_curve\n",
    "from sklearn.metrics import make_scorer, f1_score\n",
    "from sklearn.utils import shuffle"
   ]
  },
  {
   "cell_type": "code",
   "execution_count": 42,
   "metadata": {
    "collapsed": false
   },
   "outputs": [],
   "source": [
    "singleton_clf = SingletonClassifier()\n",
    "singleton_clf.prepare_data(rucoref, random_state=random_state, feature_zones=('string', 'struct', 'lists', 'synt'))\n",
    "clf = RandomForestClassifier(n_estimators=200, random_state=random_state)"
   ]
  },
  {
   "cell_type": "code",
   "execution_count": 86,
   "metadata": {
    "collapsed": false
   },
   "outputs": [],
   "source": [
    "shuffled_x_data, shuffled_y_data = shuffle(singleton_clf.x_data, singleton_clf.y_data, random_state=random_state)\n",
    "\n",
    "train_sizes_abs, train_scores, test_scores = learning_curve(clf,\n",
    "                                                            shuffled_x_data, \n",
    "                                                            shuffled_y_data,\n",
    "                                                            cv=3,\n",
    "                                                            scoring=make_scorer(f1_score, pos_label=0))"
   ]
  },
  {
   "cell_type": "code",
   "execution_count": 87,
   "metadata": {
    "collapsed": false
   },
   "outputs": [
    {
     "data": {
      "text/plain": [
       "<matplotlib.axes.AxesSubplot at 0x7f75f3826b50>"
      ]
     },
     "execution_count": 87,
     "metadata": {},
     "output_type": "execute_result"
    },
    {
     "data": {
      "image/png": "[encoded data removed]",
      "text/plain": [
       "<matplotlib.figure.Figure at 0x7f75f29d6c10>"
      ]
     },
     "metadata": {},
     "output_type": "display_data"
    }
   ],
   "source": [
    "anaphoralib.experiments.utils.latexify(columns=2)\n",
    "anaphoralib.experiments.utils.plot_learning_curve(train_sizes_abs, \n",
    "                                                  train_scores, test_scores, \n",
    "                                                  score_name='f1',\n",
    "                                                  filename=os.path.join('CLLS-2016', 'learning_curve_plot'))"
   ]
  }
 ],
 "metadata": {
  "kernelspec": {
   "display_name": "Python 2",
   "language": "python",
   "name": "python2"
  },
  "language_info": {
   "codemirror_mode": {
    "name": "ipython",
    "version": 2
   },
   "file_extension": ".py",
   "mimetype": "text/x-python",
   "name": "python",
   "nbconvert_exporter": "python",
   "pygments_lexer": "ipython2",
   "version": "2.7.10"
  }
 },
 "nbformat": 4,
 "nbformat_minor": 0
}
